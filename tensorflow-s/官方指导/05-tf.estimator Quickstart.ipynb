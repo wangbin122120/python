{
 "cells": [
  {
   "cell_type": "markdown",
   "metadata": {},
   "source": [
    "# tf.estimator Quickstart\n",
    "https://www.tensorflow.org/get_started/estimator"
   ]
  },
  {
   "cell_type": "markdown",
   "metadata": {},
   "source": [
    "在第一篇《01-Getting Started With TensorFlow.ipynb》中就已经涉及到estimator，当时没有展开，这一节中会详细介绍。"
   ]
  },
  {
   "cell_type": "code",
   "execution_count": 1,
   "metadata": {
    "collapsed": true
   },
   "outputs": [],
   "source": [
    "import os\n",
    "import urllib\n",
    "\n",
    "import numpy as np\n",
    "import tensorflow as tf\n",
    "import urllib.request\n",
    "\n",
    "\n",
    "# Data sets\n",
    "# 原来代码是文件名，没有带路径，这里添加绝对路径，以便任何方式执行代码都没有问题。\n",
    "IRIS_TRAINING = \"/home/w/tmp/tensorflow/05-tf.estimator Quickstart/iris_training.csv\"\n",
    "IRIS_TRAINING_URL = \"http://download.tensorflow.org/data/iris_training.csv\"\n",
    "\n",
    "IRIS_TEST = \"/home/w/tmp/tensorflow/05-tf.estimator Quickstart/iris_test.csv\"\n",
    "IRIS_TEST_URL = \"http://download.tensorflow.org/data/iris_test.csv\""
   ]
  },
  {
   "cell_type": "code",
   "execution_count": 2,
   "metadata": {
    "collapsed": true
   },
   "outputs": [],
   "source": [
    "# 下载训练集\n",
    "if not os.path.exists(IRIS_TRAINING):\n",
    "    with urllib.request.urlopen(IRIS_TRAINING_URL) as url:\n",
    "        with open(IRIS_TRAINING,\"wb\") as f:\n",
    "            f.write(url.read())\n",
    "\n",
    "# 下载测试集            \n",
    "if not os.path.exists(IRIS_TEST):\n",
    "    with urllib.request.urlopen(IRIS_TEST_URL) as url: \n",
    "        with open(IRIS_TEST, \"wb\") as f:\n",
    "            f.write(url.read())            "
   ]
  },
  {
   "cell_type": "code",
   "execution_count": 3,
   "metadata": {
    "collapsed": true
   },
   "outputs": [],
   "source": [
    "# load databases\n",
    "training_set = tf.contrib.learn.datasets.base.load_csv_with_header(\n",
    "    filename=IRIS_TRAINING,\n",
    "    target_dtype=np.int,\n",
    "    features_dtype=np.float32)\n",
    "\n",
    "test_set = tf.contrib.learn.datasets.base.load_csv_with_header(\n",
    "    filename=IRIS_TEST,\n",
    "    target_dtype=np.int,\n",
    "    features_dtype=np.float32)\n",
    "\n",
    "# Specify that all features have real-value data\n",
    "feature_columns = [tf.feature_column.numeric_column('x',shape=[4])]\n"
   ]
  },
  {
   "cell_type": "code",
   "execution_count": 8,
   "metadata": {
    "scrolled": true
   },
   "outputs": [
    {
     "name": "stdout",
     "output_type": "stream",
     "text": [
      "INFO:tensorflow:Using default config.\n",
      "INFO:tensorflow:Using config: {'_model_dir': '/home/w/tmp/tensorflow/05-tf.estimator Quickstart/iris_model', '_tf_random_seed': 1, '_save_summary_steps': 100, '_save_checkpoints_secs': 600, '_save_checkpoints_steps': None, '_session_config': None, '_keep_checkpoint_max': 5, '_keep_checkpoint_every_n_hours': 10000, '_log_step_count_steps': 100}\n"
     ]
    }
   ],
   "source": [
    "# 建立 3层 DNN , 分别为 10,20,10  个单元\n",
    "classifier=tf.estimator.DNNClassifier(feature_columns = feature_columns, #\n",
    "                                     hidden_units=[10,20,10],\n",
    "                                     n_classes=3,\n",
    "                                     model_dir='/home/w/tmp/tensorflow/05-tf.estimator Quickstart/iris_model')\n"
   ]
  },
  {
   "cell_type": "code",
   "execution_count": 9,
   "metadata": {},
   "outputs": [
    {
     "name": "stdout",
     "output_type": "stream",
     "text": [
      "INFO:tensorflow:Create CheckpointSaverHook.\n",
      "INFO:tensorflow:Restoring parameters from /home/w/tmp/tensorflow/05-tf.estimator Quickstart/iris_model\\model.ckpt-4000\n",
      "INFO:tensorflow:Saving checkpoints for 4001 into /home/w/tmp/tensorflow/05-tf.estimator Quickstart/iris_model\\model.ckpt.\n",
      "INFO:tensorflow:loss = 3.31549, step = 4001\n",
      "INFO:tensorflow:global_step/sec: 484.828\n",
      "INFO:tensorflow:loss = 6.10325, step = 4101 (0.207 sec)\n",
      "INFO:tensorflow:global_step/sec: 518.832\n",
      "INFO:tensorflow:loss = 12.3425, step = 4201 (0.193 sec)\n",
      "INFO:tensorflow:global_step/sec: 504.42\n",
      "INFO:tensorflow:loss = 7.85241, step = 4301 (0.198 sec)\n",
      "INFO:tensorflow:global_step/sec: 505.695\n",
      "INFO:tensorflow:loss = 6.06133, step = 4401 (0.198 sec)\n",
      "INFO:tensorflow:global_step/sec: 516.152\n",
      "INFO:tensorflow:loss = 4.94475, step = 4501 (0.193 sec)\n",
      "INFO:tensorflow:global_step/sec: 499.375\n",
      "INFO:tensorflow:loss = 5.67336, step = 4601 (0.201 sec)\n",
      "INFO:tensorflow:global_step/sec: 520.182\n",
      "INFO:tensorflow:loss = 15.051, step = 4701 (0.192 sec)\n",
      "INFO:tensorflow:global_step/sec: 508.27\n",
      "INFO:tensorflow:loss = 2.48767, step = 4801 (0.197 sec)\n",
      "INFO:tensorflow:global_step/sec: 517.486\n",
      "INFO:tensorflow:loss = 7.63587, step = 4901 (0.193 sec)\n",
      "INFO:tensorflow:global_step/sec: 525.658\n",
      "INFO:tensorflow:loss = 8.00011, step = 5001 (0.190 sec)\n",
      "INFO:tensorflow:global_step/sec: 503.15\n",
      "INFO:tensorflow:loss = 5.71922, step = 5101 (0.199 sec)\n",
      "INFO:tensorflow:global_step/sec: 501.885\n",
      "INFO:tensorflow:loss = 5.65591, step = 5201 (0.200 sec)\n",
      "INFO:tensorflow:global_step/sec: 489.584\n",
      "INFO:tensorflow:loss = 2.19973, step = 5301 (0.204 sec)\n",
      "INFO:tensorflow:global_step/sec: 520.181\n",
      "INFO:tensorflow:loss = 5.25898, step = 5401 (0.192 sec)\n",
      "INFO:tensorflow:global_step/sec: 514.821\n",
      "INFO:tensorflow:loss = 4.61006, step = 5501 (0.194 sec)\n",
      "INFO:tensorflow:global_step/sec: 513.497\n",
      "INFO:tensorflow:loss = 4.4983, step = 5601 (0.195 sec)\n",
      "INFO:tensorflow:global_step/sec: 506.978\n",
      "INFO:tensorflow:loss = 1.5757, step = 5701 (0.197 sec)\n",
      "INFO:tensorflow:global_step/sec: 503.148\n",
      "INFO:tensorflow:loss = 6.88625, step = 5801 (0.199 sec)\n",
      "INFO:tensorflow:global_step/sec: 498.131\n",
      "INFO:tensorflow:loss = 5.0136, step = 5901 (0.201 sec)\n",
      "INFO:tensorflow:Saving checkpoints for 6000 into /home/w/tmp/tensorflow/05-tf.estimator Quickstart/iris_model\\model.ckpt.\n",
      "INFO:tensorflow:Loss for final step: 1.13558.\n"
     ]
    },
    {
     "data": {
      "text/plain": [
       "<tensorflow.python.estimator.canned.dnn.DNNClassifier at 0x1a12a367b70>"
      ]
     },
     "execution_count": 9,
     "metadata": {},
     "output_type": "execute_result"
    }
   ],
   "source": [
    "# define train inputs\n",
    "train_input_fn=tf.estimator.inputs.numpy_input_fn(\n",
    "    x={'x':np.array(training_set.data)},\n",
    "    y=np.array(training_set.target),\n",
    "    num_epochs=None,\n",
    "    shuffle=True)\n",
    "\n",
    "# train model\n",
    "classifier.train(input_fn=train_input_fn,steps=2000)\n"
   ]
  },
  {
   "cell_type": "code",
   "execution_count": 10,
   "metadata": {
    "scrolled": true
   },
   "outputs": [
    {
     "name": "stdout",
     "output_type": "stream",
     "text": [
      "INFO:tensorflow:Starting evaluation at 2017-09-02-21:12:28\n",
      "INFO:tensorflow:Restoring parameters from /home/w/tmp/tensorflow/05-tf.estimator Quickstart/iris_model\\model.ckpt-6000\n",
      "INFO:tensorflow:Finished evaluation at 2017-09-02-21:12:28\n",
      "INFO:tensorflow:Saving dict for global step 6000: accuracy = 0.966667, average_loss = 0.0606162, global_step = 6000, loss = 1.81849\n"
     ]
    },
    {
     "data": {
      "text/plain": [
       "'\\nTest Accuracy: 0.966667\\n'"
      ]
     },
     "execution_count": 10,
     "metadata": {},
     "output_type": "execute_result"
    }
   ],
   "source": [
    "# Define the test inputs\n",
    "test_input_fn=tf.estimator.inputs.numpy_input_fn(\n",
    "    x={'x':np.array(test_set.data)},\n",
    "    y=np.array(test_set.target),\n",
    "    num_epochs=1,\n",
    "    shuffle=False)\n",
    "\n",
    "# Evaluate accuracy.\n",
    "accuracy_score = classifier.evaluate(input_fn=test_input_fn)[\"accuracy\"]\n",
    "\n",
    "\"\\nTest Accuracy: {0:f}\\n\".format(accuracy_score)\n"
   ]
  },
  {
   "cell_type": "code",
   "execution_count": 11,
   "metadata": {},
   "outputs": [
    {
     "name": "stdout",
     "output_type": "stream",
     "text": [
      "INFO:tensorflow:Restoring parameters from /home/w/tmp/tensorflow/05-tf.estimator Quickstart/iris_model\\model.ckpt-6000\n",
      "New Samples, Class Predictions:    [array([b'1'], dtype=object), array([b'2'], dtype=object)]\n",
      "\n"
     ]
    }
   ],
   "source": [
    "# Classify two new flower samples.\n",
    "new_samples = np.array(\n",
    "  [[6.4, 3.2, 4.5, 1.5],\n",
    "   [5.8, 3.1, 5.0, 1.7]], dtype=np.float32)\n",
    "predict_input_fn = tf.estimator.inputs.numpy_input_fn(\n",
    "  x={\"x\": new_samples},\n",
    "  num_epochs=1,\n",
    "  shuffle=False)\n",
    "\n",
    "predictions = list(classifier.predict(input_fn=predict_input_fn))\n",
    "predicted_classes = [p[\"classes\"] for p in predictions]\n",
    "\n",
    "print(\n",
    "  \"New Samples, Class Predictions:    {}\\n\"\n",
    "  .format(predicted_classes))\n"
   ]
  },
  {
   "cell_type": "markdown",
   "metadata": {},
   "source": [
    "## 完整代码"
   ]
  },
  {
   "cell_type": "code",
   "execution_count": 3,
   "metadata": {
    "collapsed": true
   },
   "outputs": [],
   "source": [
    "import os\n",
    "import urllib\n",
    "\n",
    "import numpy as np\n",
    "import tensorflow as tf\n",
    "import urllib.request\n",
    "\n",
    "# 限制显卡内存\n",
    "config = tf.ConfigProto(allow_soft_placement=True)\n",
    "gpu_options = tf.GPUOptions(per_process_gpu_memory_fraction=0.9)\n",
    "config.gpu_options.allow_growth = True\n",
    "sess = tf.Session(config=config)\n",
    "\n",
    "# Data sets\n",
    "# 原来代码是文件名，没有带路径，这里添加绝对路径，以便任何方式执行代码都没有问题。\n",
    "IRIS_TRAINING = \"/home/w/tmp/tensorflow/05-tf.estimator Quickstart/iris_training.csv\"\n",
    "IRIS_TRAINING_URL = \"http://download.tensorflow.org/data/iris_training.csv\"\n",
    "\n",
    "IRIS_TEST = \"/home/w/tmp/tensorflow/05-tf.estimator Quickstart/iris_test.csv\"\n",
    "IRIS_TEST_URL = \"http://download.tensorflow.org/data/iris_test.csv\"\n",
    "\n",
    "# 下载训练集\n",
    "if not os.path.exists(IRIS_TRAINING):\n",
    "    with urllib.request.urlopen(IRIS_TRAINING_URL) as url:\n",
    "        with open(IRIS_TRAINING,\"wb\") as f:\n",
    "            f.write(url.read())\n",
    "\n",
    "# 下载测试集            \n",
    "if not os.path.exists(IRIS_TEST):\n",
    "    with urllib.request.urlopen(IRIS_TEST_URL) as url: \n",
    "        with open(IRIS_TEST, \"wb\") as f:\n",
    "            f.write(url.read())            "
   ]
  },
  {
   "cell_type": "code",
   "execution_count": 2,
   "metadata": {
    "scrolled": false
   },
   "outputs": [
    {
     "ename": "SyntaxError",
     "evalue": "invalid syntax (<ipython-input-2-1ad6edb5250f>, line 31)",
     "output_type": "error",
     "traceback": [
      "\u001b[1;36m  File \u001b[1;32m\"<ipython-input-2-1ad6edb5250f>\"\u001b[1;36m, line \u001b[1;32m31\u001b[0m\n\u001b[1;33m    hidden_units=[10,20,10],\u001b[0m\n\u001b[1;37m               ^\u001b[0m\n\u001b[1;31mSyntaxError\u001b[0m\u001b[1;31m:\u001b[0m invalid syntax\n"
     ]
    }
   ],
   "source": [
    "# 导入数据\n",
    "training_set = tf.contrib.learn.datasets.base.load_csv_with_header(\n",
    "    filename=IRIS_TRAINING,\n",
    "    target_dtype=np.int,\n",
    "    features_dtype=np.float32)\n",
    "\n",
    "test_set = tf.contrib.learn.datasets.base.load_csv_with_header(\n",
    "    filename=IRIS_TEST,\n",
    "    target_dtype=np.int,\n",
    "    features_dtype=np.float32)\n",
    "\n",
    "# 定义输入数据集\n",
    "train_input_fn=tf.estimator.inputs.numpy_input_fn(\n",
    "    x={'x':np.array(training_set.data)},\n",
    "    y=np.array(training_set.target),\n",
    "    num_epochs=None,\n",
    "    shuffle=True)\n",
    "\n",
    "test_input_fn=tf.estimator.inputs.numpy_input_fn(\n",
    "    x={'x':np.array(test_set.data)},\n",
    "    y=np.array(test_set.target),\n",
    "    num_epochs=1,\n",
    "    shuffle=False)\n",
    "\n",
    "\n",
    "# 定义输入数据的维度\n",
    "feature_columns = [tf.feature_column.numeric_column('x',shape=[4])]\n",
    "\n",
    "# 建立DNN网络，\n",
    "# hidden_units : 3层 DNN , 分别为 10,20,10  个单元\n",
    "# n_classes=3,分类结果是3种\n",
    "classifier=tf.estimator.DNNClassifier(feature_columns = feature_columns, \n",
    "                                     hidden_units=[10,20,10],\n",
    "                                     n_classes=3,\n",
    "                                     model_dir='/home/w/tmp/tensorflow/05-tf.estimator Quickstart/iris_model')\n",
    "\n",
    "\n",
    "# 训练模型\n",
    "classifier.train(input_fn=train_input_fn,steps=2000)\n",
    "\n",
    "\n",
    "# 评估模型准确性\n",
    "accuracy_score = classifier.evaluate(input_fn=test_input_fn)[\"accuracy\"]\n",
    "\n",
    "print(\"\\nTest Accuracy: {0:f}\\n\".format(accuracy_score))\n",
    "\n",
    "# Classify two new flower samples.\n",
    "new_samples = np.array(\n",
    "  [[6.4, 3.2, 4.5, 1.5],\n",
    "   [5.8, 3.1, 5.0, 1.7]], dtype=np.float32)\n",
    "predict_input_fn = tf.estimator.inputs.numpy_input_fn(\n",
    "  x={\"x\": new_samples},\n",
    "  num_epochs=1,\n",
    "  shuffle=False)\n",
    "\n",
    "predictions = list(classifier.predict(input_fn=predict_input_fn))\n",
    "predicted_classes = [p[\"classes\"] for p in predictions]\n",
    "\n",
    "print(\"New Samples, Class Predictions:    {}\\n\".format(predicted_classes))\n"
   ]
  },
  {
   "cell_type": "markdown",
   "metadata": {},
   "source": [
    "## 练习版"
   ]
  },
  {
   "cell_type": "code",
   "execution_count": 1,
   "metadata": {},
   "outputs": [
    {
     "ename": "SyntaxError",
     "evalue": "invalid syntax (<ipython-input-1-d91f75b38196>, line 2)",
     "output_type": "error",
     "traceback": [
      "\u001b[1;36m  File \u001b[1;32m\"<ipython-input-1-d91f75b38196>\"\u001b[1;36m, line \u001b[1;32m2\u001b[0m\n\u001b[1;33m    train_set=\u001b[0m\n\u001b[1;37m              ^\u001b[0m\n\u001b[1;31mSyntaxError\u001b[0m\u001b[1;31m:\u001b[0m invalid syntax\n"
     ]
    }
   ],
   "source": [
    "# 导入数据\n",
    "train_set=\n",
    "test_set=\n",
    "\n",
    "# 定义输入数据集\n",
    "train_input_fn=\n",
    "test_input_fn=\n",
    "\n",
    "# 定义输入数据的维度\n",
    "feature_columns=\n",
    "\n",
    "# 定义模型：建立3层DNN模型，每层分别为10,20,10个单元\n",
    "classifter=\n",
    "\n",
    "# 训练模型\n",
    "classifter.train(input_fn=train_input_fn,steps=2000)\n",
    "\n",
    "# 评估模型准确性\n",
    "accuracy_score=classifter.evaluate()\n",
    "\n",
    "print(accuracy_score)\n"
   ]
  },
  {
   "cell_type": "code",
   "execution_count": 5,
   "metadata": {
    "scrolled": true
   },
   "outputs": [
    {
     "name": "stdout",
     "output_type": "stream",
     "text": [
      "INFO:tensorflow:Using default config.\n",
      "WARNING:tensorflow:Using temporary folder as model directory: C:\\Users\\w\\AppData\\Local\\Temp\\tmphtd2ml81\n",
      "INFO:tensorflow:Using config: {'_model_dir': 'C:\\\\Users\\\\w\\\\AppData\\\\Local\\\\Temp\\\\tmphtd2ml81', '_tf_random_seed': 1, '_save_summary_steps': 100, '_save_checkpoints_secs': 600, '_save_checkpoints_steps': None, '_session_config': None, '_keep_checkpoint_max': 5, '_keep_checkpoint_every_n_hours': 10000, '_log_step_count_steps': 100}\n",
      "INFO:tensorflow:Create CheckpointSaverHook.\n",
      "INFO:tensorflow:Saving checkpoints for 1 into C:\\Users\\w\\AppData\\Local\\Temp\\tmphtd2ml81\\model.ckpt.\n",
      "INFO:tensorflow:loss = 303.836, step = 1\n",
      "INFO:tensorflow:global_step/sec: 449.888\n",
      "INFO:tensorflow:loss = 9.76834, step = 101 (0.224 sec)\n",
      "INFO:tensorflow:global_step/sec: 473.343\n",
      "INFO:tensorflow:loss = 14.4561, step = 201 (0.212 sec)\n",
      "INFO:tensorflow:global_step/sec: 450.902\n",
      "INFO:tensorflow:loss = 15.1062, step = 301 (0.222 sec)\n",
      "INFO:tensorflow:global_step/sec: 484.891\n",
      "INFO:tensorflow:loss = 6.38331, step = 401 (0.205 sec)\n",
      "INFO:tensorflow:global_step/sec: 514.82\n",
      "INFO:tensorflow:loss = 10.6745, step = 501 (0.194 sec)\n",
      "INFO:tensorflow:global_step/sec: 522.906\n",
      "INFO:tensorflow:loss = 9.0212, step = 601 (0.191 sec)\n",
      "INFO:tensorflow:global_step/sec: 517.488\n",
      "INFO:tensorflow:loss = 8.94425, step = 701 (0.194 sec)\n",
      "INFO:tensorflow:global_step/sec: 508.271\n",
      "INFO:tensorflow:loss = 6.57542, step = 801 (0.196 sec)\n",
      "INFO:tensorflow:global_step/sec: 508.271\n",
      "INFO:tensorflow:loss = 4.67643, step = 901 (0.197 sec)\n",
      "INFO:tensorflow:global_step/sec: 464.535\n",
      "INFO:tensorflow:loss = 6.55109, step = 1001 (0.215 sec)\n",
      "INFO:tensorflow:global_step/sec: 456.05\n",
      "INFO:tensorflow:loss = 5.39282, step = 1101 (0.219 sec)\n",
      "INFO:tensorflow:global_step/sec: 517.49\n",
      "INFO:tensorflow:loss = 10.6445, step = 1201 (0.193 sec)\n",
      "INFO:tensorflow:global_step/sec: 536.96\n",
      "INFO:tensorflow:loss = 7.815, step = 1301 (0.187 sec)\n",
      "INFO:tensorflow:global_step/sec: 522.908\n",
      "INFO:tensorflow:loss = 8.8802, step = 1401 (0.191 sec)\n",
      "INFO:tensorflow:global_step/sec: 517.487\n",
      "INFO:tensorflow:loss = 3.42922, step = 1501 (0.193 sec)\n",
      "INFO:tensorflow:global_step/sec: 510.872\n",
      "INFO:tensorflow:loss = 8.40535, step = 1601 (0.195 sec)\n",
      "INFO:tensorflow:global_step/sec: 528.44\n",
      "INFO:tensorflow:loss = 1.77464, step = 1701 (0.190 sec)\n",
      "INFO:tensorflow:global_step/sec: 448.876\n",
      "INFO:tensorflow:loss = 9.0088, step = 1801 (0.223 sec)\n",
      "INFO:tensorflow:global_step/sec: 499.377\n",
      "INFO:tensorflow:loss = 3.40427, step = 1901 (0.200 sec)\n",
      "INFO:tensorflow:Saving checkpoints for 2000 into C:\\Users\\w\\AppData\\Local\\Temp\\tmphtd2ml81\\model.ckpt.\n",
      "INFO:tensorflow:Loss for final step: 6.81437.\n",
      "INFO:tensorflow:Starting evaluation at 2017-09-03-05:59:32\n",
      "INFO:tensorflow:Restoring parameters from C:\\Users\\w\\AppData\\Local\\Temp\\tmphtd2ml81\\model.ckpt-2000\n",
      "INFO:tensorflow:Finished evaluation at 2017-09-03-05:59:32\n",
      "INFO:tensorflow:Saving dict for global step 2000: accuracy = 0.966667, average_loss = 0.052972, global_step = 2000, loss = 1.58916\n",
      "\n",
      "Test Accuracy: 0.966667\n",
      "\n",
      "INFO:tensorflow:Restoring parameters from C:\\Users\\w\\AppData\\Local\\Temp\\tmphtd2ml81\\model.ckpt-2000\n",
      "New Samples, Class Predictions:    [array([b'1'], dtype=object), array([b'2'], dtype=object)]\n",
      "\n"
     ]
    }
   ],
   "source": [
    "# 导入数据\n",
    "training_set = tf.contrib.learn.datasets.base.load_csv_with_header(\n",
    "    filename=IRIS_TRAINING,\n",
    "    target_dtype=np.int,\n",
    "    features_dtype=np.float32)\n",
    "\n",
    "test_set = tf.contrib.learn.datasets.base.load_csv_with_header(\n",
    "    filename=IRIS_TEST,\n",
    "    target_dtype=np.int,\n",
    "    features_dtype=np.float32)\n",
    "\n",
    "# 定义输入数据集\n",
    "train_input_fn=tf.estimator.inputs.numpy_input_fn(\n",
    "    x={'x':np.array(training_set.data)},\n",
    "    y=np.array(training_set.target),\n",
    "    num_epochs=None,\n",
    "    shuffle=True)\n",
    "\n",
    "test_input_fn=tf.estimator.inputs.numpy_input_fn(\n",
    "    x={'x':np.array(test_set.data)},\n",
    "    y=np.array(test_set.target),\n",
    "    num_epochs=1,\n",
    "    shuffle=False)\n",
    "\n",
    "\n",
    "# 定义输入数据的维度\n",
    "feature_columns = [tf.feature_column.numeric_column('x',shape=[4])]\n",
    "\n",
    "# 建立 3层 DNN , 分别为 10,20,10  个单元\n",
    "classifier=tf.estimator.DNNClassifier(feature_columns = feature_columns, \n",
    "                                     hidden_units=[10,20,10],\n",
    "                                     n_classes=3)\n",
    "\n",
    "\n",
    "# 训练模型\n",
    "classifier.train(input_fn=train_input_fn,steps=2000)\n",
    "\n",
    "\n",
    "# 评估模型准确性\n",
    "accuracy_score = classifier.evaluate(input_fn=test_input_fn)[\"accuracy\"]\n",
    "\n",
    "print(\"\\nTest Accuracy: {0:f}\\n\".format(accuracy_score))\n",
    "\n",
    "# Classify two new flower samples.\n",
    "new_samples = np.array(\n",
    "  [[6.4, 3.2, 4.5, 1.5],\n",
    "   [5.8, 3.1, 5.0, 1.7]], dtype=np.float32)\n",
    "predict_input_fn = tf.estimator.inputs.numpy_input_fn(\n",
    "  x={\"x\": new_samples},\n",
    "  num_epochs=1,\n",
    "  shuffle=False)\n",
    "\n",
    "predictions = list(classifier.predict(input_fn=predict_input_fn))\n",
    "predicted_classes = [p[\"classes\"] for p in predictions]\n",
    "\n",
    "print(\"New Samples, Class Predictions:    {}\\n\".format(predicted_classes))\n"
   ]
  }
 ],
 "metadata": {
  "kernelspec": {
   "display_name": "Python 3",
   "language": "python",
   "name": "python3"
  },
  "language_info": {
   "codemirror_mode": {
    "name": "ipython",
    "version": 3
   },
   "file_extension": ".py",
   "mimetype": "text/x-python",
   "name": "python",
   "nbconvert_exporter": "python",
   "pygments_lexer": "ipython3",
   "version": "3.6.1"
  }
 },
 "nbformat": 4,
 "nbformat_minor": 2
}
