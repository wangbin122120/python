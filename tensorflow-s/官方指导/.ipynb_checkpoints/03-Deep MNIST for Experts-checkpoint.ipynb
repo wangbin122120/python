{
 "cells": [
  {
   "cell_type": "markdown",
   "metadata": {},
   "source": [
    "mnist cnn 模型，步骤如下：\n",
    "\n",
    "1.import data\n",
    "2.define weights and bias\n",
    "    weights=truncated_normal(stddev=0.1) ;bias=constants()\n",
    "3.define layer:\n",
    "    conv2d(x,W,步长=[1,1,1,1],'SAME')\n",
    "    max_pool(x,块大小=[1,2,2,1],步长=[1,1,1,1],'SAME')\n",
    "4.define cnn:\n",
    "    reshape --> [N,28,28,1]\n",
    "    conv 1  --> [N,28,28,32]\n",
    "        W = [5,5,1,32];b = [32]\n",
    "        r = relu(conv2d(x,W)+b)\n",
    "    pool 1  --> [N,14,14,32]\n",
    "    conv 2  --> [N,14,14,64]\n",
    "        W = [5,5,32,64];b =[64]\n",
    "        r = relu(conv2d(x,W)+b)\n",
    "    pool 2  --> [N,7,7,64]\n",
    "    func 1  --> [N,1024]\n",
    "        W = [7*7*64,1024];b = [1024]\n",
    "        r = relu( x * W + b)\n",
    "    dropout --> [N,1024]\n",
    "    func 2  --> [N,10]\n",
    "        W = [1024,10];b = [10]\n",
    "        r = x * W + b\n",
    "    return logits = r , keep_prob\n",
    "5.define model\n",
    "    x,y=placeholder()\n",
    "    logits, keep_prob = deep_cnn(x)\n",
    "6.define loss,optimizer\n",
    "    loss = 交叉熵(y,logits) ；train = AdamOptimizer(0.001)\n",
    "7.define test\n",
    "    accuracy = mean(cast(equal(y,logits),float))    \n",
    "8.run model\n",
    "    training\n",
    "    test"
   ]
  },
  {
   "cell_type": "code",
   "execution_count": 1,
   "metadata": {},
   "outputs": [
    {
     "name": "stdout",
     "output_type": "stream",
     "text": [
      "Extracting /home/w/tmp/tensorflow/mnist/input_data/train-images-idx3-ubyte.gz\n",
      "Extracting /home/w/tmp/tensorflow/mnist/input_data/train-labels-idx1-ubyte.gz\n",
      "Extracting /home/w/tmp/tensorflow/mnist/input_data/t10k-images-idx3-ubyte.gz\n",
      "Extracting /home/w/tmp/tensorflow/mnist/input_data/t10k-labels-idx1-ubyte.gz\n"
     ]
    }
   ],
   "source": [
    "# import data\n",
    "import tensorflow as tf\n",
    "from tensorflow.examples.tutorials.mnist import input_data\n",
    "from IPython.display import Image\n",
    "# 提取图片数据\n",
    "mnist = input_data.read_data_sets(\"/home/w/tmp/tensorflow/mnist/input_data\", one_hot=True)\n",
    "# 限制显卡内存\n",
    "config = tf.ConfigProto(allow_soft_placement=True)\n",
    "gpu_options = tf.GPUOptions(per_process_gpu_memory_fraction=0.9)\n",
    "config.gpu_options.allow_growth = True\n",
    "sess = tf.Session(config=config)\n"
   ]
  },
  {
   "cell_type": "markdown",
   "metadata": {},
   "source": [
    "## define weights and bias"
   ]
  },
  {
   "cell_type": "code",
   "execution_count": 2,
   "metadata": {
    "collapsed": true
   },
   "outputs": [],
   "source": [
    "def weights_variable(shape):\n",
    "    return tf.Variable(tf.truncated_normal(shape,stddev=0.1))\n",
    "\n",
    "def bias_variable(shape):\n",
    "    return tf.Variable(tf.constant(0.1,shape=shape))"
   ]
  },
  {
   "cell_type": "markdown",
   "metadata": {},
   "source": [
    "## define layer :convolution and pooling "
   ]
  },
  {
   "cell_type": "code",
   "execution_count": 3,
   "metadata": {
    "collapsed": true
   },
   "outputs": [],
   "source": [
    "def conv2d(x,W):\n",
    "    return tf.nn.conv2d(x,W,strides=[1,1,1,1],padding='SAME')\n",
    "\n",
    "def max_pool_2x2(x):\n",
    "    return tf.nn.max_pool(x,ksize=[1,2,2,1],strides=[1,2,2,1],padding='SAME')"
   ]
  },
  {
   "cell_type": "markdown",
   "metadata": {},
   "source": [
    "## define CNN : building the cnn layer"
   ]
  },
  {
   "cell_type": "code",
   "execution_count": 4,
   "metadata": {
    "collapsed": true
   },
   "outputs": [],
   "source": [
    "def deep_cnn(x):\n",
    "    # reshape input data : x[N,28*28] --> x_img[N,28,28,1]\n",
    "    with tf.name_scope('reshape'):\n",
    "        x_img = tf.reshape(x, shape=[-1,28, 28, 1]) #@ shape([-1，而不是 None])\n",
    "\n",
    "    # L1: conv x_img[N,28,28,1] --> c1[N,28,28,32]\n",
    "    with tf.name_scope('L1_conv_1'):\n",
    "        c1_W = weights_variable([5, 5, 1, 32])  # @ 5x5的块大小很容易忘记\n",
    "        c1_b = bias_variable([32])\n",
    "        c1 = tf.nn.relu(conv2d(x_img, c1_W) + c1_b)\n",
    "\n",
    "    # L2: pool c1[N,28,28,32] --> p1[N,14,14,32]\n",
    "    with tf.name_scope('L2_pool_1'):\n",
    "        p1 = max_pool_2x2(c1)\n",
    "\n",
    "    # L3: conv p1[N,14,14,32] --> c2[N,14,14,64]\n",
    "    with tf.name_scope('L3_conv_2'):\n",
    "        c2_W = weights_variable([5, 5, 32, 64])  # @ 5x5的块大小很容易忘记\n",
    "        c2_b = bias_variable([64])\n",
    "        c2 = tf.nn.relu(conv2d(p1, c2_W) + c2_b)\n",
    "\n",
    "    # L4: pool c2[N,14,14,64] --> p2[N,7,7,64]\n",
    "    with tf.name_scope('L4_pool_2'):\n",
    "        p2 = max_pool_2x2(c2)\n",
    "\n",
    "    # L5: func p2[N,7,7,64] --> f1[N,1024]\n",
    "    with tf.name_scope('L5_func_1'):\n",
    "        p2_flat = tf.reshape(p2, shape=[-1, 7 * 7 * 64])\n",
    "        f1_W = weights_variable([7 * 7 * 64, 1024])\n",
    "        f1_b = bias_variable([1024])\n",
    "        f1 = tf.nn.relu(tf.matmul(p2_flat, f1_W) + f1_b)\n",
    "\n",
    "    # L6: dropout f1[N,1024] --> d1[N,1024]\n",
    "    with tf.name_scope('L6_dropout'):\n",
    "        keep_prob = tf.placeholder(tf.float32)  # @这里参数化的原因是：训练的时候0.5,测试时候为1.0；\n",
    "        d1 = tf.nn.dropout(f1, keep_prob)\n",
    "\n",
    "    # L7: func d1[N,1024] --> f2[N,10]\n",
    "    with tf.name_scope('L7_func_2'):\n",
    "        f2_W = weights_variable([1024, 10])\n",
    "        f2_b = bias_variable([10])\n",
    "        f2 = tf.matmul(d1, f2_W) + f2_b  # @ 最后不要relu啦，。\n",
    "\n",
    "    logits = f2\n",
    "    return logits, keep_prob\n"
   ]
  },
  {
   "cell_type": "markdown",
   "metadata": {},
   "source": [
    "## define model"
   ]
  },
  {
   "cell_type": "code",
   "execution_count": 5,
   "metadata": {
    "collapsed": true
   },
   "outputs": [],
   "source": [
    "x=tf.placeholder(tf.float32,[None,28*28])\n",
    "y=tf.placeholder(tf.float32,[None,10])\n",
    "logits,keep_prob = deep_cnn(x)"
   ]
  },
  {
   "cell_type": "markdown",
   "metadata": {},
   "source": [
    "## define loss and train"
   ]
  },
  {
   "cell_type": "code",
   "execution_count": 6,
   "metadata": {
    "collapsed": true
   },
   "outputs": [],
   "source": [
    "with tf.name_scope('loss'):\n",
    "    cross_entropy=tf.nn.softmax_cross_entropy_with_logits(labels=y,logits=logits)\n",
    "cross_entropy=tf.reduce_mean(cross_entropy)\n",
    "\n",
    "with tf.name_scope('train'):\n",
    "    #train_step=tf.train.GradientDescentOptimizer(0.001).minimize(cross_entropy)\n",
    "    train_step = tf.train.AdamOptimizer(1e-3).minimize(cross_entropy)\n",
    "    #@这里不用梯度下降，梯度下降很不稳定，且结果不好，区别很大。"
   ]
  },
  {
   "cell_type": "markdown",
   "metadata": {},
   "source": [
    "## define test "
   ]
  },
  {
   "cell_type": "code",
   "execution_count": 7,
   "metadata": {
    "collapsed": true
   },
   "outputs": [],
   "source": [
    "with tf.name_scope('test'):\n",
    "    accuracy=tf.reduce_mean(tf.cast(tf.equal(tf.argmax(y,1),tf.argmax(logits,1)),tf.float32))"
   ]
  },
  {
   "cell_type": "markdown",
   "metadata": {},
   "source": [
    "## define summary"
   ]
  },
  {
   "cell_type": "code",
   "execution_count": 8,
   "metadata": {},
   "outputs": [
    {
     "name": "stdout",
     "output_type": "stream",
     "text": [
      "Saving graph to: 03_mnist_deep_summary\n"
     ]
    }
   ],
   "source": [
    "graph_location = '03_mnist_deep_summary'\n",
    "print('Saving graph to: %s' % graph_location)\n",
    "train_writer = tf.summary.FileWriter(graph_location)\n",
    "train_writer.add_graph(tf.get_default_graph())"
   ]
  },
  {
   "cell_type": "markdown",
   "metadata": {},
   "source": [
    "## running model"
   ]
  },
  {
   "cell_type": "code",
   "execution_count": 9,
   "metadata": {},
   "outputs": [
    {
     "name": "stdout",
     "output_type": "stream",
     "text": [
      "step: 0  training acc: 0.2 0.2\n",
      "step: 100  training acc: 0.98 0.98\n",
      "step: 200  training acc: 0.96 0.96\n",
      "step: 300  training acc: 1.0 1.0\n",
      "step: 400  training acc: 0.98 0.98\n",
      "step: 500  training acc: 0.98 0.98\n",
      "step: 600  training acc: 1.0 1.0\n",
      "step: 700  training acc: 1.0 1.0\n",
      "step: 800  training acc: 1.0 1.0\n",
      "step: 900  training acc: 0.96 0.96\n",
      "Final real accuracy: 0.976\n"
     ]
    }
   ],
   "source": [
    "with tf.Session() as sess:\n",
    "    sess.run(tf.global_variables_initializer())\n",
    "    # training\n",
    "    for step in range(1000):\n",
    "        xtr,ytr=mnist.train.next_batch(50)\n",
    "        sess.run(train_step,{x:xtr,y:ytr,keep_prob:0.5})\n",
    "        if step % 100 == 0:\n",
    "            print('step:',step,' training acc:',sess.run(accuracy,{x:xtr,y:ytr,keep_prob:1.0}),\n",
    "                 accuracy.eval({x:xtr,y:ytr,keep_prob:1.0}))\n",
    "    \n",
    "    # test trained model\n",
    "    xte,yte=mnist.test.next_batch(500)\n",
    "    print('Final real accuracy:',sess.run(accuracy,{x:xte,y:yte,keep_prob:1.0}))"
   ]
  },
  {
   "cell_type": "markdown",
   "metadata": {},
   "source": [
    "# 完整代码"
   ]
  },
  {
   "cell_type": "code",
   "execution_count": 1,
   "metadata": {},
   "outputs": [
    {
     "name": "stdout",
     "output_type": "stream",
     "text": [
      "Extracting /home/w/tmp/tensorflow/mnist/input_data/train-images-idx3-ubyte.gz\n",
      "Extracting /home/w/tmp/tensorflow/mnist/input_data/train-labels-idx1-ubyte.gz\n",
      "Extracting /home/w/tmp/tensorflow/mnist/input_data/t10k-images-idx3-ubyte.gz\n",
      "Extracting /home/w/tmp/tensorflow/mnist/input_data/t10k-labels-idx1-ubyte.gz\n"
     ]
    }
   ],
   "source": [
    "# import data\n",
    "import tensorflow as tf\n",
    "from tensorflow.examples.tutorials.mnist import input_data\n",
    "from IPython.display import Image\n",
    "# 提取图片数据\n",
    "mnist = input_data.read_data_sets(\"/home/w/tmp/tensorflow/mnist/input_data\", one_hot=True)\n",
    "# 限制显卡内存\n",
    "config = tf.ConfigProto(allow_soft_placement=True)\n",
    "gpu_options = tf.GPUOptions(per_process_gpu_memory_fraction=0.9)\n",
    "config.gpu_options.allow_growth = True\n",
    "sess = tf.Session(config=config)"
   ]
  },
  {
   "cell_type": "code",
   "execution_count": 2,
   "metadata": {},
   "outputs": [
    {
     "name": "stdout",
     "output_type": "stream",
     "text": [
      "Saving graph to: 03_mnist_deep_summary\n",
      "step: 0  acc: 0.14\n",
      "step: 100  acc: 0.92\n",
      "step: 200  acc: 0.92\n",
      "step: 300  acc: 0.98\n",
      "step: 400  acc: 0.98\n",
      "step: 500  acc: 0.98\n",
      "step: 600  acc: 0.98\n",
      "step: 700  acc: 0.98\n",
      "step: 800  acc: 0.98\n",
      "step: 900  acc: 0.94\n",
      "real accuracy: 0.99\n"
     ]
    }
   ],
   "source": [
    "# define weights and bias\n",
    "def weights_variable(shape):\n",
    "    return tf.Variable(tf.truncated_normal(dtype=tf.float32, stddev=0.1, shape=shape))\n",
    "\n",
    "\n",
    "def bias_variabel(shape):\n",
    "    return tf.Variable(tf.constant(0.1, shape=shape))\n",
    "\n",
    "\n",
    "# define layer\n",
    "def conv2d(x, W):\n",
    "    return tf.nn.conv2d(x, W, strides=[1, 1, 1, 1], padding='SAME')\n",
    "\n",
    "\n",
    "def max_pool_2x2(x):\n",
    "    return tf.nn.max_pool(x, ksize=[1, 2, 2, 1], strides=[1, 2, 2, 1], padding='SAME')\n",
    "\n",
    "\n",
    "# define cnn\n",
    "def deep_cnn(x):\n",
    "    # reshape      \n",
    "    with tf.name_scope('reshape'):\n",
    "        x_img = tf.reshape(x, shape=[-1, 28, 28, 1])   # x[N,28*28] --> x_img[N,28,28,1]\n",
    "\n",
    "    # L1 conv1      \n",
    "    with tf.name_scope('L1_conv1'):\n",
    "        W1 = weights_variable([5, 5, 1, 32])\n",
    "        b1 = bias_variabel([32])\n",
    "        L1 = tf.nn.relu(conv2d(x_img, W1) + b1)        # x_img[N,28,28,1] --> c1[N,28,28,32]\n",
    "\n",
    "    # L2 pool1      \n",
    "    with tf.name_scope('L2_pool1'):\n",
    "        L2 = max_pool_2x2(L1)                          # c1[N,28,28,32] --> p1[N,14,14,32]\n",
    "\n",
    "    # L3 conv2      \n",
    "    with tf.name_scope('L3_conv2'):\n",
    "        W3 = weights_variable([5, 5, 32, 64])\n",
    "        b3 = bias_variabel([64])\n",
    "        L3 = tf.nn.relu(conv2d(L2, W3) + b3)           # p1[N,14,14,32] --> c2[N,14,14,64]\n",
    "\n",
    "    # L4 pool2      \n",
    "    with tf.name_scope('L4_pool2'):\n",
    "        L4 = max_pool_2x2(L3)                          # c2[N,14,14,64] --> p2[N,7,7,64]\n",
    "\n",
    "    # L5 func1     \n",
    "    with tf.name_scope('L5_func1'):\n",
    "        L4_flat = tf.reshape(L4, shape=[-1, 7 * 7 * 64])\n",
    "        W5 = weights_variable([7 * 7 * 64, 1024])\n",
    "        b5 = bias_variabel([1024])\n",
    "        L5 = tf.nn.relu(tf.matmul(L4_flat, W5) + b5)   # p2[N,7,7,64] --> f1[N,1024]\n",
    "\n",
    "    # L6 dropout    \n",
    "    with tf.name_scope('L6_dropout'):\n",
    "        keep_prob = tf.placeholder(tf.float32)\n",
    "        L6 = tf.nn.dropout(L5, keep_prob)              # f1[N,1024] --> d1[N,1024]\n",
    "\n",
    "    # L7 func2      \n",
    "    with tf.name_scope('L7_func2'):\n",
    "        W7 = weights_variable([1024, 10])\n",
    "        b7 = bias_variabel([10])\n",
    "        L7 = tf.matmul(L6, W7) + b7                    # d1[N,1024] --> f2[N,10]\n",
    "\n",
    "    logits = L7\n",
    "    return logits, keep_prob\n",
    "\n",
    "\n",
    "# define model\n",
    "x = tf.placeholder(tf.float32, [None, 28 * 28])\n",
    "y = tf.placeholder(tf.float32, [None, 10])\n",
    "logits, keep_prob = deep_cnn(x)\n",
    "\n",
    "# define loss and optimizer\n",
    "with tf.name_scope('loss'):\n",
    "    cross_entropy = tf.nn.softmax_cross_entropy_with_logits(labels=y, logits=logits)\n",
    "\n",
    "with tf.name_scope('optimizer'):\n",
    "    train_step = tf.train.AdamOptimizer(0.001).minimize(cross_entropy)\n",
    "\n",
    "# define test\n",
    "with tf.name_scope('test'):\n",
    "    accuracy = tf.reduce_mean(tf.cast(tf.equal(tf.argmax(y, 1), tf.argmax(logits, 1)), tf.float32))\n",
    "\n",
    "# create summary\n",
    "graph_location = '03_mnist_deep_summary'\n",
    "print('Saving graph to: %s' % graph_location)\n",
    "train_writer = tf.summary.FileWriter(graph_location)\n",
    "train_writer.add_graph(tf.get_default_graph())\n",
    "\n",
    "# run mnist cnn model\n",
    "with tf.Session() as sess:\n",
    "    sess.run(tf.global_variables_initializer())\n",
    "    # training\n",
    "    for step in range(1000):\n",
    "        xtr, ytr = mnist.train.next_batch(50)\n",
    "        if step % 100 == 0:\n",
    "            print('step:', step, ' acc:', sess.run(accuracy, {x: xtr, y: ytr, keep_prob: 1.0}))\n",
    "        sess.run(train_step, {x: xtr, y: ytr, keep_prob: 0.5})\n",
    "\n",
    "    # test the trained model\n",
    "    xte, yte = mnist.test.next_batch(500)\n",
    "    print('real accuracy:', sess.run(accuracy, {x: xte, y: yte, keep_prob: 1.0}))\n"
   ]
  },
  {
   "cell_type": "markdown",
   "metadata": {},
   "source": []
  },
  {
   "cell_type": "code",
   "execution_count": null,
   "metadata": {
    "collapsed": true
   },
   "outputs": [],
   "source": []
  },
  {
   "cell_type": "markdown",
   "metadata": {},
   "source": []
  },
  {
   "cell_type": "code",
   "execution_count": null,
   "metadata": {
    "collapsed": true
   },
   "outputs": [],
   "source": []
  },
  {
   "cell_type": "markdown",
   "metadata": {},
   "source": []
  },
  {
   "cell_type": "code",
   "execution_count": null,
   "metadata": {
    "collapsed": true
   },
   "outputs": [],
   "source": []
  },
  {
   "cell_type": "markdown",
   "metadata": {},
   "source": []
  },
  {
   "cell_type": "code",
   "execution_count": null,
   "metadata": {
    "collapsed": true
   },
   "outputs": [],
   "source": []
  },
  {
   "cell_type": "markdown",
   "metadata": {},
   "source": []
  },
  {
   "cell_type": "code",
   "execution_count": null,
   "metadata": {
    "collapsed": true
   },
   "outputs": [],
   "source": []
  },
  {
   "cell_type": "markdown",
   "metadata": {},
   "source": []
  },
  {
   "cell_type": "code",
   "execution_count": null,
   "metadata": {
    "collapsed": true
   },
   "outputs": [],
   "source": []
  },
  {
   "cell_type": "markdown",
   "metadata": {},
   "source": []
  },
  {
   "cell_type": "code",
   "execution_count": null,
   "metadata": {
    "collapsed": true
   },
   "outputs": [],
   "source": []
  },
  {
   "cell_type": "markdown",
   "metadata": {},
   "source": []
  },
  {
   "cell_type": "code",
   "execution_count": null,
   "metadata": {
    "collapsed": true
   },
   "outputs": [],
   "source": []
  },
  {
   "cell_type": "markdown",
   "metadata": {},
   "source": []
  },
  {
   "cell_type": "code",
   "execution_count": null,
   "metadata": {
    "collapsed": true
   },
   "outputs": [],
   "source": []
  },
  {
   "cell_type": "markdown",
   "metadata": {},
   "source": []
  },
  {
   "cell_type": "code",
   "execution_count": null,
   "metadata": {
    "collapsed": true
   },
   "outputs": [],
   "source": []
  },
  {
   "cell_type": "markdown",
   "metadata": {},
   "source": []
  },
  {
   "cell_type": "code",
   "execution_count": null,
   "metadata": {
    "collapsed": true
   },
   "outputs": [],
   "source": []
  },
  {
   "cell_type": "markdown",
   "metadata": {},
   "source": []
  },
  {
   "cell_type": "code",
   "execution_count": null,
   "metadata": {
    "collapsed": true
   },
   "outputs": [],
   "source": []
  }
 ],
 "metadata": {
  "kernelspec": {
   "display_name": "Python 3",
   "language": "python",
   "name": "python3"
  },
  "language_info": {
   "codemirror_mode": {
    "name": "ipython",
    "version": 3
   },
   "file_extension": ".py",
   "mimetype": "text/x-python",
   "name": "python",
   "nbconvert_exporter": "python",
   "pygments_lexer": "ipython3",
   "version": "3.6.2"
  }
 },
 "nbformat": 4,
 "nbformat_minor": 2
}
