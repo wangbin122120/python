{
 "cells": [
  {
   "cell_type": "code",
   "execution_count": 1,
   "metadata": {
    "scrolled": true
   },
   "outputs": [
    {
     "data": {
      "image/png": "[encoded data removed]",
      "text/plain": [
       "<matplotlib.figure.Figure at 0x1b4eb19fc18>"
      ]
     },
     "metadata": {},
     "output_type": "display_data"
    }
   ],
   "source": [
    "import matplotlib.pylab as plt\n",
    "\n",
    "# 是《p26_建造神经网络》程序的例子\n",
    "# 在《p27_结果可视化》添加了plt的图形输出\n",
    "# 在《p29_Tensorboard可视化》中添加了tensorboard的基本图形定义\n",
    "\n",
    "# tf.name_scope(name)            命名空间\n",
    "# tf.summary.FileWriter('/tmp/tensorflow/mofan_logs/p29/', sess.graph) 显示在graph\n",
    "# tf.summary.scalar(name,data)  显示在event，一般看loss 等训练过程值\n",
    "# tf.summary.histogram(name,data)  显示在histogram，一般看W,b,outputs 等结果值\n",
    "\n",
    "# 本次程序，添加tensorboard的训练过程，包括graph,histograms,events(误差值)\n",
    "# 比如最终Summry写到目录“D:\\tmp\\tensorflow\\mofan_logs\\p29”，那在终端执行：\n",
    "# C:\\Users\\wangbin>d:\n",
    "# D:\\>tensorboard --logdir=D:\\tmp\\tensorflow\\mofan_logs\\p30\n",
    "# Starting TensorBoard b'47' at http://0.0.0.0:6006\n",
    "# (Press CTRL+C to quit)\n",
    "# 接着在浏览器中打开 网址：localhost:6006\n",
    "# 注意log路径中不能有中文等。\n",
    "\n",
    "import numpy as np\n",
    "import tensorflow as tf\n",
    "\n",
    "# 限制显卡内存\n",
    "config = tf.ConfigProto(allow_soft_placement=True)\n",
    "gpu_options = tf.GPUOptions(per_process_gpu_memory_fraction=0.9)\n",
    "config.gpu_options.allow_growth = True  # 开始不会给tensorflow全部gpu资源 而是按需增加\n",
    "sess = tf.Session(config=config)\n",
    "\n",
    "from p25_def添加层 import add_layer\n",
    "\n",
    "# 设定输入数据\n",
    "x_data = np.linspace(-1, 1, 300)[:, np.newaxis]  # ，在最后一个维度后增加维度。\n",
    "noise = np.random.normal(0, 0.05, x_data.shape)\n",
    "y_data = np.square(x_data) - 0.5 + noise\n",
    "\n",
    "# # 建立典型的三层神经网络:输入层-隐藏层-输出层\n",
    "\n",
    "with tf.name_scope('inputs'):  # tensorboard 中命名框\n",
    "    xs = tf.placeholder(tf.float32, [None, 1], name='x_input')  # 定义name=数据节点名称\n",
    "    ys = tf.placeholder(tf.float32, [None, 1], name='y_input')\n",
    "\n",
    "# @神经网络最关键的两步：\n",
    "# 设置隐藏层，输入个数是由xs决定，个数是1，设定给10个神经元，其激励函数用relu\n",
    "l1 = add_layer(xs, 1, 10, activation_function=tf.nn.relu, layer_name='hidden_layer')\n",
    "# 设置输出层，输入个数是由上一层l1决定，个数是10，输出结果只有一个，输出层不需要设定激励函数\n",
    "predition = add_layer(l1, 10, 1, activation_function=None, layer_name='output_layer')\n",
    "\n",
    "with tf.name_scope('loss'):\n",
    "    loss = tf.reduce_mean(tf.reduce_sum(tf.square(ys - predition),\n",
    "                                    reduction_indices=1))\n",
    "    tf.summary.scalar('loss',loss) #p30添加，显示在event\n",
    "with tf.name_scope('train'):\n",
    "    train_step = tf.train.GradientDescentOptimizer(0.1).minimize(loss)\n",
    "\n",
    "init = tf.global_variables_initializer()\n",
    "\n",
    "\n",
    "# 可视化过程：\n",
    "fig = plt.figure()\n",
    "ax = fig.add_subplot(1, 1, 1)\n",
    "ax.scatter(x_data, y_data)\n",
    "plt.ion()\n",
    "plt.show()\n",
    "\n",
    "\n"
   ]
  },
  {
   "cell_type": "code",
   "execution_count": 5,
   "metadata": {},
   "outputs": [
    {
     "name": "stdout",
     "output_type": "stream",
     "text": [
      "()\n",
      "Tensor(\"Merge_3/MergeSummary:0\", shape=(), dtype=string)\n",
      "()\n",
      "Tensor(\"Merge_3/MergeSummary:0\", shape=(), dtype=string)\n",
      "()\n",
      "Tensor(\"Merge_3/MergeSummary:0\", shape=(), dtype=string)\n",
      "()\n",
      "Tensor(\"Merge_3/MergeSummary:0\", shape=(), dtype=string)\n",
      "()\n",
      "Tensor(\"Merge_3/MergeSummary:0\", shape=(), dtype=string)\n",
      "()\n",
      "Tensor(\"Merge_3/MergeSummary:0\", shape=(), dtype=string)\n",
      "()\n",
      "Tensor(\"Merge_3/MergeSummary:0\", shape=(), dtype=string)\n",
      "()\n",
      "Tensor(\"Merge_3/MergeSummary:0\", shape=(), dtype=string)\n",
      "()\n",
      "Tensor(\"Merge_3/MergeSummary:0\", shape=(), dtype=string)\n",
      "()\n",
      "Tensor(\"Merge_3/MergeSummary:0\", shape=(), dtype=string)\n",
      "()\n",
      "Tensor(\"Merge_3/MergeSummary:0\", shape=(), dtype=string)\n",
      "()\n",
      "Tensor(\"Merge_3/MergeSummary:0\", shape=(), dtype=string)\n",
      "()\n",
      "Tensor(\"Merge_3/MergeSummary:0\", shape=(), dtype=string)\n",
      "()\n",
      "Tensor(\"Merge_3/MergeSummary:0\", shape=(), dtype=string)\n",
      "()\n",
      "Tensor(\"Merge_3/MergeSummary:0\", shape=(), dtype=string)\n",
      "()\n",
      "Tensor(\"Merge_3/MergeSummary:0\", shape=(), dtype=string)\n",
      "()\n",
      "Tensor(\"Merge_3/MergeSummary:0\", shape=(), dtype=string)\n",
      "()\n",
      "Tensor(\"Merge_3/MergeSummary:0\", shape=(), dtype=string)\n",
      "()\n",
      "Tensor(\"Merge_3/MergeSummary:0\", shape=(), dtype=string)\n",
      "()\n",
      "Tensor(\"Merge_3/MergeSummary:0\", shape=(), dtype=string)\n"
     ]
    },
    {
     "data": {
      "image/png": "[encoded data removed]",
      "text/plain": [
       "<matplotlib.figure.Figure at 0x1b486c19048>"
      ]
     },
     "metadata": {},
     "output_type": "display_data"
    }
   ],
   "source": [
    "with tf.Session() as sess:\n",
    "    merged=tf.summary.merge_all()  #p30添加，\n",
    "    writer = tf.summary.FileWriter('/tmp/tensorflow/mofan_logs/p29/', sess.graph)\n",
    "    sess.run(init)\n",
    "    for i in range(1000):\n",
    "        sess.run(train_step, feed_dict={xs: x_data, ys: y_data})\n",
    "        if i % 50 == 0:\n",
    "            loss_value = sess.run(loss, feed_dict={xs: x_data, ys: y_data})\n",
    "            predition_value = sess.run(predition, feed_dict={xs: x_data})\n",
    "            events=sess.run(merged, feed_dict={xs: x_data, ys: y_data})\n",
    "            #run(merged)主要是将前面tf.summary.merge_all()的所有 tf.summary.scalar()对象，包括loss\n",
    "            writer.add_summary(events,i)  # 将每次训练结果以及对应次数i传入图形，这个i就是event图形中的横坐标。\n",
    "            print(loss_value.shape)\n",
    "            print(merged)\n",
    "            try:\n",
    "                ax.lines.remove(lines[0])\n",
    "            except Exception:\n",
    "                pass\n",
    "            plt.xlabel('loss=%.5f' % loss_value)\n",
    "            lines = ax.plot(x_data, predition_value, 'r-', lw=5)\n",
    "            plt.pause(0.1)"
   ]
  }
 ],
 "metadata": {
  "kernelspec": {
   "display_name": "Python 3",
   "language": "python",
   "name": "python3"
  },
  "language_info": {
   "codemirror_mode": {
    "name": "ipython",
    "version": 3
   },
   "file_extension": ".py",
   "mimetype": "text/x-python",
   "name": "python",
   "nbconvert_exporter": "python",
   "pygments_lexer": "ipython3",
   "version": "3.6.2"
  }
 },
 "nbformat": 4,
 "nbformat_minor": 2
}
