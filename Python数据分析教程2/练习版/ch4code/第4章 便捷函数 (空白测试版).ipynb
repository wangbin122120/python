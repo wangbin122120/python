{
 "cells": [
  {
   "cell_type": "markdown",
   "metadata": {},
   "source": [
    "# 第4章 便捷函数\n",
    "2017-07-23 王斌 python3 测试时间：   分数："
   ]
  },
  {
   "cell_type": "markdown",
   "metadata": {},
   "source": [
    "本章涵盖以下内容:\n",
    " 数据选取;\n",
    " 简单数据分析;\n",
    " 收益率相关性;\n",
    " 多项式;\n",
    " 线性代数的计算函数。"
   ]
  },
  {
   "cell_type": "markdown",
   "metadata": {},
   "source": [
    "np.cov(bhp_returns, vale_returns)\t\t#计算协方差（归一化前的相关系数）\n",
    "\n",
    "A.diagonal()\t\t#矩阵对角线元素\n",
    "\n",
    "A.trace()\t\t#矩阵的迹\n",
    "\n",
    "np.corrcoef(bhp_returns, vale_returns)\t\t#计算相关系数矩阵\n",
    "\n",
    "poly=np.polyfit(t, bhp_close - vale_close, N)\t\t#多项式拟合\n",
    "\n",
    "np.polyval(poly,t)\t\t#将x的值赋值为t，再带入多项式中进行计算，相当于f(x)的结果\n",
    "\n",
    "der = np.polyder(poly)\t\t#多项式求导\n",
    "\n",
    "np.roots(der)\t\t#求解多项式的根，这里就是多项式极值点（因为der是求导后的解）\n",
    "\n",
    "np.sign(change)\t\t#获取change的符号\n",
    "\n",
    "np.piecewise(change, [change < 0, change == 0,change > 0], [-1,0, 1])\t#条件映射\n",
    "\n",
    "np.array_equal(signs, pieces)\t#判断两个数组是否相同\n",
    "\n",
    "func = np.vectorize(calc_profit)\t#构造函数指针，calc_profit本身是一个函数 profits = func(o, h, l, c)\n",
    "\n",
    "profits[profits != 0]\t\t#对元素值做条件筛选，相当于profits[np.where(profits!=0)]\n",
    "\n",
    "weights = np.hanning(N)\t\t#权重值\n",
    "\n",
    "np.isreal(xpoints)\t\t#判断是否都是实数（非复数）\n",
    "\n",
    "np.trim_zeros(xpoints)\t\t#去掉一维数组中开头和末尾为0的 元素\n",
    "\n",
    "np.polysub(poly_bhp, poly_vale)\t\t#对多项式系数做减法，得到的还是多项式的系数\n",
    "\t\t\t\t\n",
    "#类似的：polydiv多项式除法, polymul多项式乘法, polyadd多项式加法\n",
    "\n"
   ]
  },
  {
   "cell_type": "code",
   "execution_count": 1,
   "metadata": {
    "collapsed": true
   },
   "outputs": [],
   "source": [
    "from IPython.core.interactiveshell import InteractiveShell \n",
    "InteractiveShell.ast_node_interactivity = \"all\"\n",
    "import numpy as np\n",
    "import matplotlib.pylab as plt\n",
    "%matplotlib inline"
   ]
  },
  {
   "cell_type": "markdown",
   "metadata": {},
   "source": [
    "## 4.1 相关性\n",
    "\n",
    "我们将使用2个示例数据集提供收盘价数据,其中包含收盘价的最小值。\n",
    "第一家公司是BHP Billiton(BHP),其主要业务是石油、金属和钻石的开采。第二家公司是Vale\n",
    "(VALE),也是一家金属开采业的公司。因此,这两家公司有部分业务是重合的,尽管不是100%\n",
    "相同。按照如下步骤分析它们股票的相关性。\n",
    "\n",
    "(1) 首先,从CSV文件(本章示例代码文件夹中)中读入两只股票的收盘价数据,并计算收\n",
    "益率。如果你不记得该怎样做,在前一章中有很多可以参阅的例子。\n",
    "\n",
    "(2) 协方差描述的是两个变量共同变化的趋势,其实就是归一化前的相关系数。使用 cov 函\n",
    "数计算股票收益率的协方差矩阵(并非必须这样做,但我们可以据此展示一些矩阵操作的方法)\n",
    "。"
   ]
  },
  {
   "cell_type": "code",
   "execution_count": 2,
   "metadata": {},
   "outputs": [
    {
     "data": {
      "text/plain": [
       "array([ 0.02048656, -0.01129235, -0.01332487,  0.00675241, -0.01639519,\n",
       "       -0.00303063,  0.00271415, -0.00649632,  0.02343069,  0.00734746,\n",
       "       -0.0140592 ,  0.01243701,  0.01683787, -0.00270777, -0.01347118,\n",
       "       -0.0013761 , -0.02247191, -0.04239861,  0.01449439, -0.00636232,\n",
       "       -0.0232532 , -0.02380679,  0.02945335,  0.01350423,  0.01163053,\n",
       "       -0.00982252,  0.01476722,  0.01377472, -0.00646504])"
      ]
     },
     "execution_count": 2,
     "metadata": {},
     "output_type": "execute_result"
    },
    {
     "data": {
      "text/plain": [
       "array([ 0.02211231,  0.00028466,  0.00483779,  0.00736335, -0.01518133,\n",
       "       -0.04538967,  0.01495215,  0.00795522,  0.00175387, -0.0011672 ,\n",
       "       -0.01373065,  0.01658768,  0.01602564, -0.01061084, -0.03681159,\n",
       "        0.0018056 , -0.01231601, -0.02950122,  0.00814792,  0.00839291,\n",
       "       -0.01633785, -0.02726418,  0.01514175,  0.01999365,  0.00871189,\n",
       "       -0.00524368,  0.01395349, -0.01039755, -0.00061805])"
      ]
     },
     "execution_count": 2,
     "metadata": {},
     "output_type": "execute_result"
    },
    {
     "data": {
      "text/plain": [
       "array([[ 0.00028179,  0.00019766],\n",
       "       [ 0.00019766,  0.00030123]])"
      ]
     },
     "execution_count": 2,
     "metadata": {},
     "output_type": "execute_result"
    }
   ],
   "source": [
    "#获取收盘价\n",
    "bhp_close = np.loadtxt('BHP.csv',delimiter=',',usecols=(6))\n",
    "vale_close = np.loadtxt('VALE.csv',delimiter=',',usecols=(6))\n",
    "\n",
    "#计算收益率\n",
    "bhp_returns = \n",
    "vale_returns =  \n",
    "\n",
    "bhp_returns\n",
    "vale_returns\n",
    "\n",
    "#计算两个收益率之间的协方差（归一化前的相关系数）\n",
    "covariance =  \n",
    "covariance"
   ]
  },
  {
   "cell_type": "markdown",
   "metadata": {},
   "source": [
    "(3) 使用 diagonal 函数查看对角线上的元素\n",
    "\n",
    "(4) 使用 trace 函数计算矩阵的迹,即对角线上元素之和"
   ]
  },
  {
   "cell_type": "code",
   "execution_count": 3,
   "metadata": {},
   "outputs": [
    {
     "data": {
      "text/plain": [
       "('协方差对角线', array([ 0.00028179,  0.00030123]))"
      ]
     },
     "execution_count": 3,
     "metadata": {},
     "output_type": "execute_result"
    },
    {
     "data": {
      "text/plain": [
       "('协方差的迹', 0.00058302354992027826)"
      ]
     },
     "execution_count": 3,
     "metadata": {},
     "output_type": "execute_result"
    }
   ],
   "source": [
    "\"协方差对角线\",covariance. ()\n",
    "\"协方差的迹\",covariance. ()"
   ]
  },
  {
   "cell_type": "markdown",
   "metadata": {},
   "source": [
    "(5) 两个向量的相关系数被定义为协方差除以各自标准差的乘积。"
   ]
  },
  {
   "cell_type": "code",
   "execution_count": 4,
   "metadata": {
    "scrolled": true
   },
   "outputs": [
    {
     "data": {
      "text/plain": [
       "('用协方差计算相关系数矩阵（有偏）', array([[ 1.00173366,  0.70264666],\n",
       "        [ 0.70264666,  1.0708476 ]]))"
      ]
     },
     "execution_count": 4,
     "metadata": {},
     "output_type": "execute_result"
    },
    {
     "data": {
      "text/plain": [
       "('用协方差计算相关系数矩阵（无偏）', array([[ 0.96719112,  0.67841747],\n",
       "        [ 0.67841747,  1.03392182]]))"
      ]
     },
     "execution_count": 4,
     "metadata": {},
     "output_type": "execute_result"
    }
   ],
   "source": [
    "\"用协方差计算相关系数矩阵（有偏）\",\n",
    "\"用协方差计算相关系数矩阵（无偏）\",\n",
    "#注意这两个结果的不同，并且和步骤（6）中的结果进行对比。\n"
   ]
  },
  {
   "cell_type": "markdown",
   "metadata": {},
   "source": [
    "我们知道,相关系数矩阵的主对角线元素为随机变量与自身的相关系数,应该等于1。\n",
    "因此这一步得到的矩阵并非相关系数矩阵,而下一步中的才是。\n",
    "读者可能有这样的疑问,为何这里按照相关系数的定义手动计算出来的矩阵并非相关系数矩阵呢?\n",
    "主要有两点原因:(1) 分母不应为定值,而要根据分子上的协方差计算对象确定。\n",
    "以左上角的元素为例,由于其分子为 cov(a, a) ,即随机变量a和其自身的协方差,\n",
    "则分母对应为 (bhp_returns.std() * bhp_returns.std()) 。其他位置的元素计算同理。\n",
    "(2) 即使按照这一步给出的算式,副对角线上的元素也应该是正确的相关系数,但为何与下一步中的副对角线仍不一致呢?\n",
    "这是由于NumPy在计算协方差时,自由度参数默认为 1 ,即分母为N-1而不是N,从而求得总体协方差的无偏估计。\n",
    "而调用 .std() 计算标准差时,自由度参数默认为 0 ,从而求得的是样本标准差,而非总体标准差的无偏估计。\n",
    "因此,这一步计算的副对角线元素也并非正确的相关系数。译者测试了作者提供的源代码,\n",
    "如果在调用 .std() 方法时指定 ddof=1 ,即自由度设为 1 ,就可以得到与下一步计算结果相同的副对角线元素。\n",
    "如前所述,若分别计算各个元素的分母,即可得到主对角线为1、完全正确的相关系数矩阵。"
   ]
  },
  {
   "cell_type": "markdown",
   "metadata": {},
   "source": [
    "(6) 我们将用相关系数函数corrcoef()来度量这两只股票的相关程度。"
   ]
  },
  {
   "cell_type": "code",
   "execution_count": 5,
   "metadata": {},
   "outputs": [
    {
     "data": {
      "text/plain": [
       "'直接计算相关系数矩阵'"
      ]
     },
     "execution_count": 5,
     "metadata": {},
     "output_type": "execute_result"
    },
    {
     "data": {
      "text/plain": [
       "array([[ 1.        ,  0.67841747],\n",
       "       [ 0.67841747,  1.        ]])"
      ]
     },
     "execution_count": 5,
     "metadata": {},
     "output_type": "execute_result"
    }
   ],
   "source": [
    "\"直接计算相关系数矩阵\"\n",
    "np.corrcoef(bhp_returns, vale_returns)"
   ]
  },
  {
   "cell_type": "markdown",
   "metadata": {},
   "source": [
    "(7) 另外一个要点是判断两只股票的价格走势是否同步。如果它们的差值偏离了平均差值2\n",
    "倍于标准差的距离,则认为这两只股票走势不同步。"
   ]
  },
  {
   "cell_type": "code",
   "execution_count": 6,
   "metadata": {},
   "outputs": [
    {
     "name": "stdout",
     "output_type": "stream",
     "text": [
      "同步？ False\n"
     ]
    }
   ],
   "source": [
    "difference =  \n",
    "avg =    #均值\n",
    "dev =     #标准差\n",
    "print(\"同步？\",  ) \n",
    "#bhp和vale的差值 大于平均差值的2倍标准差，则不同步。"
   ]
  },
  {
   "cell_type": "markdown",
   "metadata": {},
   "source": [
    "(8) 绘图比较"
   ]
  },
  {
   "cell_type": "code",
   "execution_count": 7,
   "metadata": {
    "scrolled": false
   },
   "outputs": [
    {
     "data": {
      "text/plain": [
       "<matplotlib.figure.Figure at 0x7fb1d11a6be0>"
      ]
     },
     "execution_count": 7,
     "metadata": {},
     "output_type": "execute_result"
    },
    {
     "data": {
      "text/plain": [
       "[<matplotlib.lines.Line2D at 0x7fb1f4582390>]"
      ]
     },
     "execution_count": 7,
     "metadata": {},
     "output_type": "execute_result"
    },
    {
     "data": {
      "text/plain": [
       "[<matplotlib.lines.Line2D at 0x7fb1d0f198d0>]"
      ]
     },
     "execution_count": 7,
     "metadata": {},
     "output_type": "execute_result"
    },
    {
     "data": {
      "text/plain": [
       "<matplotlib.legend.Legend at 0x7fb1d0c63d30>"
      ]
     },
     "execution_count": 7,
     "metadata": {},
     "output_type": "execute_result"
    },
    {
     "data": {
      "image/png": "[encoded data removed]",
      "text/plain": [
       "<matplotlib.figure.Figure at 0x7fb1d11a6be0>"
      ]
     },
     "metadata": {},
     "output_type": "display_data"
    }
   ],
   "source": [
    "#对比收益率曲线\n",
    "import matplotlib.pylab as plt\n",
    "\n",
    "%matplotlib inline\n",
    "\n",
    "t = np.arange(len(bhp_returns))\n",
    "\n",
    "plt.figure(figsize=(8,4))\n",
    "\n",
    "plt.plot(t,bhp_returns,\"b--\",lw=2.0,label=\"bhp_returns\")\n",
    "\n",
    "plt.plot(t,vale_returns,\"r--\",lw=2.0,label=\"vale_returns\")\n",
    "\n",
    "plt.legend()\n",
    "\n",
    "plt.show()"
   ]
  },
  {
   "cell_type": "code",
   "execution_count": 8,
   "metadata": {},
   "outputs": [
    {
     "data": {
      "text/plain": [
       "<matplotlib.figure.Figure at 0x7fb1d8177550>"
      ]
     },
     "execution_count": 8,
     "metadata": {},
     "output_type": "execute_result"
    },
    {
     "data": {
      "text/plain": [
       "[<matplotlib.lines.Line2D at 0x7fb1d0bee198>]"
      ]
     },
     "execution_count": 8,
     "metadata": {},
     "output_type": "execute_result"
    },
    {
     "data": {
      "text/plain": [
       "[<matplotlib.lines.Line2D at 0x7fb1d0ca20f0>]"
      ]
     },
     "execution_count": 8,
     "metadata": {},
     "output_type": "execute_result"
    },
    {
     "data": {
      "text/plain": [
       "<matplotlib.legend.Legend at 0x7fb1d0beeac8>"
      ]
     },
     "execution_count": 8,
     "metadata": {},
     "output_type": "execute_result"
    },
    {
     "data": {
      "image/png": "[encoded data removed]",
      "text/plain": [
       "<matplotlib.figure.Figure at 0x7fb1d8177550>"
      ]
     },
     "metadata": {},
     "output_type": "display_data"
    }
   ],
   "source": [
    "#对比价格走势，都同时减去各自价格的均值。\n",
    "import matplotlib.pylab as plt\n",
    "\n",
    "%matplotlib inline\n",
    "\n",
    "t = np.arange(len(bhp_close))\n",
    "\n",
    "plt.figure(figsize=(8,4))\n",
    "\n",
    "plt.plot(t,bhp_close-np.mean(bhp_close),\"b--\",lw=2.0,label=\"bhp_close\")\n",
    "\n",
    "plt.plot(t,vale_close-np.mean(vale_close),\"r--\",lw=2.0,label=\"vale_close\")\n",
    "\n",
    "plt.legend()\n",
    "\n",
    "plt.show()"
   ]
  },
  {
   "cell_type": "markdown",
   "metadata": {},
   "source": [
    "## 4.3 多项式拟合\n",
    "微积分里有泰勒展开的概念,也就是用一个无穷级数来表\n",
    "示一个可微的函数。实际上,任何可微的(从而也是连续的)函数都可以用一个N次多项式来估\n",
    "计,而比N次幂更高阶的部分为无穷小量可忽略不计\n",
    "\n",
    "NumPy中的 ployfit 函数可以用多项式去拟合一系列数据点,无论这些数据点是否来自连续函数都适用。"
   ]
  },
  {
   "cell_type": "markdown",
   "metadata": {},
   "source": [
    "(1) 我们继续使用BHP和VALE的股票价格数据。**用一个N次多项式去拟合两只股票收盘价的\n",
    "差价**"
   ]
  },
  {
   "cell_type": "code",
   "execution_count": 9,
   "metadata": {},
   "outputs": [
    {
     "data": {
      "text/plain": [
       "'多项式拟合结果'"
      ]
     },
     "execution_count": 9,
     "metadata": {},
     "output_type": "execute_result"
    },
    {
     "data": {
      "text/plain": [
       "array([  1.34593569e-08,  -1.50561087e-06,   6.44426317e-05,\n",
       "        -1.28650343e-03,   1.11347718e-02,  -1.82667697e-02,\n",
       "        -1.68801776e-01,   1.75860154e-01,   5.96960158e+01])"
      ]
     },
     "execution_count": 9,
     "metadata": {},
     "output_type": "execute_result"
    }
   ],
   "source": [
    "N = 8  #用N次多项式拟合差价\n",
    "t = np.arange(len(bhp_close))\n",
    "poly =  #多项式拟合两只股票的价差\n",
    "\"多项式拟合结果\"\n",
    "poly"
   ]
  },
  {
   "cell_type": "markdown",
   "metadata": {},
   "source": [
    "(2) 上面看到的那些数字就是多项式的系数。用我们刚刚得到的多项式对象以及 polyval 函\n",
    "数,就可以推断下一个值"
   ]
  },
  {
   "cell_type": "code",
   "execution_count": 10,
   "metadata": {},
   "outputs": [
    {
     "data": {
      "text/plain": [
       "29"
      ]
     },
     "execution_count": 10,
     "metadata": {},
     "output_type": "execute_result"
    },
    {
     "data": {
      "text/plain": [
       "58.632243978040286"
      ]
     },
     "execution_count": 10,
     "metadata": {},
     "output_type": "execute_result"
    }
   ],
   "source": [
    "t[-1]\n"
   ]
  },
  {
   "cell_type": "markdown",
   "metadata": {},
   "source": [
    "(3) 理想情况下,BHP和VALE股票收盘价的差价越小越好。在极限情况下,差值可以在某个\n",
    "点为0。使用 roots 函数找出我们拟合的多项式函数什么时候到达0值"
   ]
  },
  {
   "cell_type": "code",
   "execution_count": 11,
   "metadata": {},
   "outputs": [
    {
     "data": {
      "text/plain": [
       "'解出多项式的根为'"
      ]
     },
     "execution_count": 11,
     "metadata": {},
     "output_type": "execute_result"
    },
    {
     "data": {
      "text/plain": [
       "array([ 33.60779625+4.43938101j,  33.60779625-4.43938101j,\n",
       "        22.47933332+9.54835782j,  22.47933332-9.54835782j,\n",
       "         5.47392594+9.89317418j,   5.47392594-9.89317418j,\n",
       "        -5.62930193+4.35016079j,  -5.62930193-4.35016079j])"
      ]
     },
     "execution_count": 11,
     "metadata": {},
     "output_type": "execute_result"
    }
   ],
   "source": [
    "'解出多项式的根为'\n"
   ]
  },
  {
   "cell_type": "markdown",
   "metadata": {},
   "source": [
    "(4) 我们在微积分课程中还学习过求极值的知识——极值可能是函数的最大值或最小值。\n",
    "记住微积分中的结论,这些极值点位于函数的导数为0的位置。使用 polyder 函数对多项式函\n",
    "数求导:"
   ]
  },
  {
   "cell_type": "code",
   "execution_count": 12,
   "metadata": {},
   "outputs": [
    {
     "name": "stdout",
     "output_type": "stream",
     "text": [
      "多项式求导结果(函数系数)： [  1.07674855e-07  -1.05392761e-05   3.86655790e-04  -6.43251713e-03\n",
      "   4.45390873e-02  -5.48003091e-02  -3.37603552e-01   1.75860154e-01]\n"
     ]
    }
   ],
   "source": [
    "der = \n",
    "print('多项式求导结果(函数系数)：',der)"
   ]
  },
  {
   "cell_type": "markdown",
   "metadata": {},
   "source": [
    "(5) 求出导数函数的根,即找出原多项式函数的极值点:\n",
    "\n",
    "(6) 现在,使用 argmax 和 argmin 找出拟合结果中的最大值点和最小值点\n"
   ]
  },
  {
   "cell_type": "code",
   "execution_count": 13,
   "metadata": {
    "scrolled": false
   },
   "outputs": [
    {
     "name": "stdout",
     "output_type": "stream",
     "text": [
      "多项式拟合的极值点位于： [ 29.07457982+0.61254521j  29.07457982-0.61254521j  22.15034246+0.j\n",
      "  13.31424737+0.j           5.97914480+0.j          -2.20828132+0.j\n",
      "   0.49595583+0.j        ]\n",
      "拟合结果的最大值点位于： 13\n",
      "拟合结果的最小值点位于： 22\n",
      "真实结果的最大最小值点位于： 14 22\n"
     ]
    }
   ],
   "source": [
    "print('多项式拟合的极值点位于：',)\n",
    "\n",
    "vals =     #计算拟合结果\n",
    "print('拟合结果的最大值点位于：',np.argmax(vals))\n",
    "print('拟合结果的最小值点位于：',np.argmin(vals))\n",
    "\n",
    "print('真实结果的最大最小值点位于：',np.argmax(bhp_close-vale_close),np.argmin(bhp_close-vale_close))"
   ]
  },
  {
   "cell_type": "markdown",
   "metadata": {},
   "source": [
    "借机计算下两者的差异，通过前面学习，考虑一个拟合的好坏，应该就是考虑与真实值的差异大小，差异越小，差异波动越小，则结果越好。考虑计算他们差异的均值、方差和波动率。"
   ]
  },
  {
   "cell_type": "code",
   "execution_count": 14,
   "metadata": {
    "scrolled": true
   },
   "outputs": [
    {
     "name": "stdout",
     "output_type": "stream",
     "text": [
      "针对8次多项式拟合，平均差异率=0.010420(越小越好)，差异率方差=0.006030(越小越好)\n"
     ]
    }
   ],
   "source": [
    "diff =np.abs( vals - ( bhp_close-vale_close))\n",
    "diff /= np.mean( bhp_close-vale_close) #考虑差异比率，而非绝对值\n",
    "print('针对%d次多项式拟合，平均差异率=%f(越小越好)，差异率方差=%f(越小越好)'%(N,np.mean(diff),np.std(diff) ))\n",
    "#针对3次多项式拟合，平均差异率=0.022337(越小越好)，差异率方差=0.014877(越小越好)\n",
    "#针对8次多项式拟合，平均差异率=0.010420(越小越好)，差异率方差=0.006030(越小越好)"
   ]
  },
  {
   "cell_type": "markdown",
   "metadata": {},
   "source": [
    "以上只是验证了，拟合结果的极值可以通过对拟合函数求导并求解得到极值点，但不意味着拟合函数结果和真实结果一致。\n",
    "\n",
    "（7）画出拟合结果和真实结果的对比图"
   ]
  },
  {
   "cell_type": "code",
   "execution_count": 15,
   "metadata": {
    "scrolled": true
   },
   "outputs": [
    {
     "data": {
      "text/plain": [
       "<matplotlib.figure.Figure at 0x7fb1d0ba9048>"
      ]
     },
     "execution_count": 15,
     "metadata": {},
     "output_type": "execute_result"
    },
    {
     "data": {
      "text/plain": [
       "[<matplotlib.lines.Line2D at 0x7fb1d02823c8>]"
      ]
     },
     "execution_count": 15,
     "metadata": {},
     "output_type": "execute_result"
    },
    {
     "data": {
      "text/plain": [
       "[<matplotlib.lines.Line2D at 0x7fb1d0b8ddd8>]"
      ]
     },
     "execution_count": 15,
     "metadata": {},
     "output_type": "execute_result"
    },
    {
     "data": {
      "text/plain": [
       "<matplotlib.legend.Legend at 0x7fb1d0282cf8>"
      ]
     },
     "execution_count": 15,
     "metadata": {},
     "output_type": "execute_result"
    },
    {
     "data": {
      "image/png": "[encoded data removed]",
      "text/plain": [
       "<matplotlib.figure.Figure at 0x7fb1d0ba9048>"
      ]
     },
     "metadata": {},
     "output_type": "display_data"
    }
   ],
   "source": [
    "#三项式拟合与真实结果对比，差异较大\n",
    "import matplotlib.pylab as plt\n",
    "%matplotlib inline\n",
    "t = np.arange(len(bhp_close))\n",
    "plt.figure(figsize=(8,4))\n",
    "\n",
    "plt.plot(t,vals,\"bo-\",lw=2.0,label=\"fit\")\n",
    "\n",
    "plt.plot(t,bhp_close - vale_close,\"ro-\",lw=2.0,label=\"real\")\n",
    "\n",
    "plt.legend()\n",
    "\n",
    "plt.show()"
   ]
  },
  {
   "cell_type": "markdown",
   "metadata": {},
   "source": [
    "三项式拟合得不算很好。\n",
    "我们使用 polyfit 函数对数据进行了多项式拟合。我们学习使用 polyval 函数计算多项式的\n",
    "取值,使用 roots 函数求得多项式函数的根,以及 polyder 函数求解多项式函数的导函数。"
   ]
  },
  {
   "cell_type": "markdown",
   "metadata": {},
   "source": [
    "本节中的拟合函数有很多可以改进的地方。尝试使用三次方之外的不同指数,或者考虑在\n",
    "拟合前对数据进行平滑处理。使用移动平均线就是一种数据平滑的方法。计算简单移动平均线\n",
    "和指数移动平均线的示例可参阅前面的章节。"
   ]
  },
  {
   "cell_type": "code",
   "execution_count": 16,
   "metadata": {},
   "outputs": [
    {
     "name": "stdout",
     "output_type": "stream",
     "text": [
      "有效数据个数： 27\n",
      "针对SMA的3次多项式拟合，与真实值的平均差异率=0.020212(越小越好)，差异率方差=0.014521(越小越好)\n",
      "针对真实值3次多项式拟合，与真实值的平均差异率=0.017505(越小越好)，差异率方差=0.013528(越小越好)\n"
     ]
    },
    {
     "data": {
      "text/plain": [
       "<matplotlib.figure.Figure at 0x7fb1d11d0ba8>"
      ]
     },
     "execution_count": 16,
     "metadata": {},
     "output_type": "execute_result"
    },
    {
     "data": {
      "text/plain": [
       "[<matplotlib.lines.Line2D at 0x7fb1d01c7400>]"
      ]
     },
     "execution_count": 16,
     "metadata": {},
     "output_type": "execute_result"
    },
    {
     "data": {
      "text/plain": [
       "[<matplotlib.lines.Line2D at 0x7fb1d0ae19e8>]"
      ]
     },
     "execution_count": 16,
     "metadata": {},
     "output_type": "execute_result"
    },
    {
     "data": {
      "text/plain": [
       "[<matplotlib.lines.Line2D at 0x7fb1d01c7d30>]"
      ]
     },
     "execution_count": 16,
     "metadata": {},
     "output_type": "execute_result"
    },
    {
     "data": {
      "text/plain": [
       "[<matplotlib.lines.Line2D at 0x7fb1d015c588>]"
      ]
     },
     "execution_count": 16,
     "metadata": {},
     "output_type": "execute_result"
    },
    {
     "data": {
      "text/plain": [
       "<matplotlib.legend.Legend at 0x7fb1d015c828>"
      ]
     },
     "execution_count": 16,
     "metadata": {},
     "output_type": "execute_result"
    },
    {
     "data": {
      "image/png": "[encoded data removed]",
      "text/plain": [
       "<matplotlib.figure.Figure at 0x7fb1d11d0ba8>"
      ]
     },
     "metadata": {},
     "output_type": "display_data"
    }
   ],
   "source": [
    "#用一个N次多项式去拟合两只股票收盘价的差价\n",
    "\n",
    "close=bhp_close-vale_close\n",
    "M = 4  #用M日SMA均线代替原始收盘价进行多项式拟合\n",
    "N = 3  #用N次多项式拟合差价\n",
    "\n",
    "\n",
    "#计算SMA，并将实际值调整至相同维度\n",
    "t= \n",
    "sma= \n",
    "real = close[M-1:]\n",
    "print('有效数据个数：',len(real))\n",
    "\n",
    "#对sma进行N项式拟合\n",
    "t = np.arange(len(real))\n",
    "vals_sma = \n",
    "\n",
    "#考虑对真实值的拟合，做对比\n",
    "#对real进行N项式拟合\n",
    "vals_real = \n",
    "\n",
    "#计算拟合准确程度\n",
    "diff_sma =np.abs( vals_sma - real) / np.mean(real) #考虑差异比率，而非绝对值\n",
    "diff_real =np.abs( vals_real - real) / np.mean(real) #考虑差异比率，而非绝对值\n",
    "\n",
    "print('针对SMA的%d次多项式拟合，与真实值的平均差异率=%f(越小越好)，差异率方差=%f(越小越好)'%(N,np.mean(diff_sma),np.std(diff_sma) ))\n",
    "print('针对真实值%d次多项式拟合，与真实值的平均差异率=%f(越小越好)，差异率方差=%f(越小越好)'%(N,np.mean(diff_real),np.std(diff_real) ))\n",
    "\n",
    "\n",
    "import matplotlib.pylab as plt\n",
    "%matplotlib inline\n",
    "t = np.arange(len(real))\n",
    "plt.figure(figsize=(8,4))\n",
    "\n",
    "plt.plot(t,vals_sma,\"b--\",lw=2.0,label=\"fit_sma\")\n",
    "\n",
    "plt.plot(t,sma,\"bo-\",lw=2.0,label=\"sma_\"+str(M))\n",
    "\n",
    "plt.plot(t,vals_real,\"r--\",lw=2.0,label=\"fit_real\")\n",
    "\n",
    "plt.plot(t,real,\"ro-\",lw=2.0,label=\"real\")\n",
    "\n",
    "\n",
    "plt.legend()\n",
    "\n",
    "plt.show()\n"
   ]
  },
  {
   "cell_type": "markdown",
   "metadata": {},
   "source": [
    "## 4.5 净额成交量 OBV\n",
    "\n",
    "成交量(volume)是投资中一个非常重要的变量,它可以表示价格波动的大小。OBV\n",
    "(On-Balance Volume,净额成交量或叫能量潮指标)是最简单的股价指标之一,它可以由当日收\n",
    "盘价、前一天的收盘价以及当日成交量计算得出。这里我们以前一日为基期计算当日的OBV值(可\n",
    "以认为基期的OBV值为0)。若当日收盘价高于前一日收盘价,则本日OBV等于基期OBV加上当日成交量。若当日收盘价低于前一日收盘价,则本日OBV等于基期OBV减去当日成交量。若当\n",
    "日收盘价相比前一日没有变化,则当日成交量以0计算。"
   ]
  },
  {
   "cell_type": "markdown",
   "metadata": {},
   "source": [
    "(1) 把BHP数据分别加载到收盘价和成交量的数组中\n",
    "\n",
    "为了判断计算中成交量前的正负号,我们先使用diff函数计算收盘价的变化量。\n"
   ]
  },
  {
   "cell_type": "code",
   "execution_count": 17,
   "metadata": {
    "collapsed": true
   },
   "outputs": [],
   "source": [
    "c, v=np.loadtxt('BHP.csv', delimiter=',', usecols=(6, 7), unpack=True)\n",
    "change = np.diff(c)"
   ]
  },
  {
   "cell_type": "markdown",
   "metadata": {},
   "source": [
    "(2) NumPy中的 sign 函数可以返回数组中每个元素的正负符号,数组元素为负时返回 -1 ,为\n",
    "正时返回 1 ,否则返回 0 。\n",
    "\n",
    "另外,我们也可以使用 piecewise 函数来获取数组元素的正负。顾名思义, piecewise 1 函\n",
    "数可以分段给定取值。使用合适的返回值和对应的条件调用该函数:\n",
    "\n",
    "可用“array_equal”检查两次的输出是否一致"
   ]
  },
  {
   "cell_type": "code",
   "execution_count": 18,
   "metadata": {},
   "outputs": [
    {
     "data": {
      "text/plain": [
       "True"
      ]
     },
     "execution_count": 18,
     "metadata": {},
     "output_type": "execute_result"
    }
   ],
   "source": [
    "#用sign方法获得change的正负符号\n",
    "signs = \n",
    "\n",
    "#用piecewise方法获得change的正负符号\n",
    "pieces = \n",
    "#等价于pieces = np.piecewise(change, [change < 0, change == 0,change > 0], [-1,0, 1])\n",
    "#change == 0 可以不写，默认不符合条件则为0.\n",
    "\n",
    "#用array_equal对比两个结果是否相同\n"
   ]
  },
  {
   "cell_type": "markdown",
   "metadata": {},
   "source": [
    "(3) OBV值的计算依赖于前一日的收盘价,所以在我们的例子中无法计算首日的OBV值"
   ]
  },
  {
   "cell_type": "code",
   "execution_count": 19,
   "metadata": {},
   "outputs": [
    {
     "data": {
      "text/plain": [
       "array([ 2620800., -2461300., -3270900.,  2650200., -4667300., -5359800.,\n",
       "        7768400., -4799100.,  3448300.,  4719800., -3898900.,  3727700.,\n",
       "        3379400., -2463900., -3590900., -3805000., -3271700., -5507800.,\n",
       "        2996800., -3434800., -5008300., -7809799.,  3947100.,  3809700.,\n",
       "        3098200., -3500200.,  4285600.,  3918800., -3632200.])"
      ]
     },
     "execution_count": 19,
     "metadata": {},
     "output_type": "execute_result"
    }
   ],
   "source": [
    "v[1:] * signs"
   ]
  },
  {
   "cell_type": "markdown",
   "metadata": {},
   "source": [
    "## 4.7 交易过程模拟"
   ]
  },
  {
   "cell_type": "markdown",
   "metadata": {},
   "source": [
    "(1) 首先,读入数据\n",
    "\n",
    "(2) NumPy中的 vectorize 函数相当于Python中的 map 函数。\n",
    "\n",
    "(3) 我们现在可以先把 func 当做函数来使用。对股价数组使用我们得到的 func 函数\n",
    "\n",
    "(4) calc_profit 函数非常简单。首先,我们尝试以比开盘价稍低一点的价格买入股票。如果\n",
    "这个价格不在当日的股价范围内,则尝试买入失败,没有获利,也没有亏损,我们均返回0。否则,\n",
    "我们将以当日收盘价卖出,所获得的利润即买入和卖出的差价。"
   ]
  },
  {
   "cell_type": "code",
   "execution_count": 20,
   "metadata": {},
   "outputs": [
    {
     "name": "stdout",
     "output_type": "stream",
     "text": [
      "Profits [ 0.00655139  0.01131437  0.00116464  0.00679832  0.01381543  0.00054148\n",
      " -0.01105862  0.00467747 -0.00714131  0.00459991 -0.00221496 -0.01872699\n",
      "  0.00575141  0.0012513  -0.00374532 -0.02113771  0.00661545 -0.00774693\n",
      " -0.00775281  0.01529918  0.00964047  0.02802081 -0.01656818  0.00068713\n",
      " -0.01083436 -0.00599135 -0.00882682  0.005024    0.00440238  0.00276488]\n"
     ]
    }
   ],
   "source": [
    "N = 1\n",
    "o, h, l, c = np.loadtxt('BHP.csv', delimiter=',', usecols=(3, 4, 5, 6), unpack=True)\n",
    "\n",
    "def calc_profit(open, high, low, close):\n",
    "    # 以比开盘价稍低的价格买入\n",
    "    buy = open * N\n",
    "    # daily range\n",
    "    if low < buy < high :\n",
    "        return (close - buy)/buy\n",
    "    else:\n",
    "        return 0\n",
    "\n",
    "#用vectorize 构造一个函数指针\n",
    "func = \n",
    "\n",
    "profits = func(o, h, l, c)\n",
    "                                \n",
    "print(\"Profits\", profits)"
   ]
  },
  {
   "cell_type": "markdown",
   "metadata": {},
   "source": [
    "(5) 在所有交易日中有两个零利润日,即没有利润也没有损失。我们选择非零利润的交易日\n",
    "并计算平均值:"
   ]
  },
  {
   "cell_type": "code",
   "execution_count": 21,
   "metadata": {},
   "outputs": [
    {
     "data": {
      "text/plain": [
       "array([ True,  True,  True,  True,  True,  True,  True,  True,  True,\n",
       "        True,  True,  True,  True,  True,  True,  True,  True,  True,\n",
       "        True,  True,  True,  True,  True,  True,  True,  True,  True,\n",
       "        True,  True,  True], dtype=bool)"
      ]
     },
     "execution_count": 21,
     "metadata": {},
     "output_type": "execute_result"
    },
    {
     "name": "stdout",
     "output_type": "stream",
     "text": [
      "Number of trades 30 100.0 %\n",
      "Average profit/loss % 0.02\n"
     ]
    }
   ],
   "source": [
    "real_trades =  \n",
    "real_trades==profits[np.where(profits!=0)]\n",
    "print(\"Number of trades\",  , ,\"%\")\n",
    "print(\"Average profit/loss %\",  )"
   ]
  },
  {
   "cell_type": "markdown",
   "metadata": {},
   "source": [
    "(6) 乐观的人们对于正盈利的交易更感兴趣。选择正盈利的交易日并计算平均利润:"
   ]
  },
  {
   "cell_type": "code",
   "execution_count": 22,
   "metadata": {},
   "outputs": [
    {
     "name": "stdout",
     "output_type": "stream",
     "text": [
      "Number of winning trades 18 60.0 %\n",
      "Average profit % 0.72\n"
     ]
    }
   ],
   "source": [
    "winning_trades =  \n",
    "print(\"Number of winning trades\",  , , \"%\" )\n",
    "print(\"Average profit %\",  )"
   ]
  },
  {
   "cell_type": "markdown",
   "metadata": {},
   "source": [
    "(7) 悲观的人们对于负盈利的交易更感兴趣,选择负盈利的交易日并计算平均损失:"
   ]
  },
  {
   "cell_type": "code",
   "execution_count": 23,
   "metadata": {},
   "outputs": [
    {
     "name": "stdout",
     "output_type": "stream",
     "text": [
      "Number of losing trades 12 40.0 %\n",
      "Average loss % -1.01\n"
     ]
    }
   ],
   "source": [
    "losing_trades =  \n",
    "print( \"Number of losing trades\",  , , \"%\")\n",
    "print( \"Average loss %\",  )"
   ]
  },
  {
   "cell_type": "markdown",
   "metadata": {},
   "source": [
    "我们矢量化了一个函数,这是一种可以避免使用循环的技巧。我们使用一个能返回当日相对\n",
    "利润 的函数来模 拟一个交易 日,并分别 打印出正盈 利和负盈利 交易的概况 。"
   ]
  },
  {
   "cell_type": "markdown",
   "metadata": {},
   "source": [
    "尽管平均利润为正值,但我们仍需要了解这段过程中是否有长期连续亏损的状况出现。这\n",
    "一点很重要,因为如果出现了连续亏损,我们可能会面临资本耗尽的情形,那么计算出来的平\n",
    "均利润就不可信了。\n",
    "请检查是否出现过这样的连续亏损。如果你乐意,也可以检查是否有长时间的连续盈利。"
   ]
  },
  {
   "cell_type": "markdown",
   "metadata": {},
   "source": [
    "## 4.9 数据平滑\n",
    "\n",
    "噪声数据往往很难处理,因此我们通常需要对其进行平滑处理。除了用计算移动平均线的方\n",
    "法,我们还可以使用NumPy中的一个函数来平滑数据。\n",
    "hanning 函数是一个加权余弦的窗函数。在后面的章节中,我们还将更为详细地介绍其他窗\n",
    "函数。\n",
    "\n",
    "我们将使用 hanning 函数平滑股票收益率的数组,步骤如下。\n",
    "\n",
    "(1) 调用 hanning 函数计算权重,生成一个长度为 N 的窗口(在这个示例中 N 取8)\n",
    ":"
   ]
  },
  {
   "cell_type": "code",
   "execution_count": 24,
   "metadata": {},
   "outputs": [
    {
     "name": "stdout",
     "output_type": "stream",
     "text": [
      "Weights [ 0.          0.1882551   0.61126047  0.95048443  0.95048443  0.61126047\n",
      "  0.1882551   0.        ]\n"
     ]
    }
   ],
   "source": [
    "N = 8\n",
    "weights = np.hanning(N) #生成权重\n",
    "print(\"Weights\", weights)"
   ]
  },
  {
   "cell_type": "markdown",
   "metadata": {},
   "source": [
    "(2) 使用 convolve 函数计算BHP和VALE的股票收益率,以归一化处理后的 weights 作为参数:"
   ]
  },
  {
   "cell_type": "code",
   "execution_count": 25,
   "metadata": {
    "collapsed": true
   },
   "outputs": [],
   "source": [
    "bhp = np.loadtxt('BHP.csv', delimiter=',', usecols=(6,),unpack=True)\n",
    "bhp_returns = np.diff(bhp) / bhp[ : -1]\n",
    "smooth_bhp = np.convolve(weights/weights.sum(), bhp_returns) [N-1:-N+1]\n",
    "vale = np.loadtxt('VALE.csv', delimiter=',', usecols=(6,),unpack=True)\n",
    "vale_returns = np.diff(vale) / vale[ : -1]\n",
    "smooth_vale = np.convolve(weights/weights.sum(), vale_returns) [N-1:-N+1]"
   ]
  },
  {
   "cell_type": "markdown",
   "metadata": {},
   "source": [
    "(3) 用 Matplotlib 绘图:"
   ]
  },
  {
   "cell_type": "code",
   "execution_count": 26,
   "metadata": {},
   "outputs": [
    {
     "data": {
      "text/plain": [
       "<matplotlib.figure.Figure at 0x7fb1d0205320>"
      ]
     },
     "execution_count": 26,
     "metadata": {},
     "output_type": "execute_result"
    },
    {
     "data": {
      "text/plain": [
       "[<matplotlib.lines.Line2D at 0x7fb1d01064a8>]"
      ]
     },
     "execution_count": 26,
     "metadata": {},
     "output_type": "execute_result"
    },
    {
     "data": {
      "text/plain": [
       "[<matplotlib.lines.Line2D at 0x7fb1d015ce48>]"
      ]
     },
     "execution_count": 26,
     "metadata": {},
     "output_type": "execute_result"
    },
    {
     "data": {
      "text/plain": [
       "[<matplotlib.lines.Line2D at 0x7fb1d0106da0>]"
      ]
     },
     "execution_count": 26,
     "metadata": {},
     "output_type": "execute_result"
    },
    {
     "data": {
      "text/plain": [
       "[<matplotlib.lines.Line2D at 0x7fb1d0106dd8>]"
      ]
     },
     "execution_count": 26,
     "metadata": {},
     "output_type": "execute_result"
    },
    {
     "data": {
      "text/plain": [
       "<matplotlib.legend.Legend at 0x7fb1d008eef0>"
      ]
     },
     "execution_count": 26,
     "metadata": {},
     "output_type": "execute_result"
    },
    {
     "data": {
      "image/png": "[encoded data removed]",
      "text/plain": [
       "<matplotlib.figure.Figure at 0x7fb1d0205320>"
      ]
     },
     "metadata": {},
     "output_type": "display_data"
    }
   ],
   "source": [
    "\n",
    "\n",
    "t = np.arange(N - 1, len(bhp_returns))\n",
    "plt.figure(figsize=[10,5])\n",
    "plt.plot(t, bhp_returns[N-1:], 'bo-',lw=1.0,label=\"bhp_returns\")\n",
    "plt.plot(t, smooth_bhp,'b--', lw=2.0,label=\"smooth_bhp\")\n",
    "plt.plot(t, vale_returns[N-1:], 'ro-',lw=1.0,label=\"vale_returns\")\n",
    "plt.plot(t, smooth_vale,'r--', lw=2.0,label=\"smooth_vale\")\n",
    "plt.legend()\n",
    "plt.show()"
   ]
  },
  {
   "cell_type": "markdown",
   "metadata": {},
   "source": [
    "图中的细线为股票收益率,粗线为平滑处理后的结果。如你所见,图中的折线有交叉。这些\n",
    "交叉点很重要,因为它们可能就是股价趋势的转折点,至少可以表明BHP和VALE之间的股价关\n",
    "系发生了变化。这些转折点可能会经常出现,我们可以利用它们预测未来的股价走势。\n",
    "\n",
    "(4) 使用多项式拟合平滑后的数据"
   ]
  },
  {
   "cell_type": "code",
   "execution_count": 27,
   "metadata": {
    "collapsed": true
   },
   "outputs": [],
   "source": [
    "K = 8\n",
    "t = np.arange(N - 1, len(bhp_returns))\n",
    "poly_bhp = np.polyfit(t, smooth_bhp, K)\n",
    "poly_vale = np.polyfit(t, smooth_vale, K)"
   ]
  },
  {
   "cell_type": "markdown",
   "metadata": {},
   "source": [
    "(5) 现在,我们需要解出上面的两个多项式何时取值相等,即在哪些地方存在交叉点。这等\n",
    "价于先对两个多项式函数作差,然后对所得的多项式函数求根。使用 polysub 函数对多项式作差:"
   ]
  },
  {
   "cell_type": "code",
   "execution_count": 28,
   "metadata": {},
   "outputs": [
    {
     "data": {
      "text/plain": [
       "('Intersection points',\n",
       " array([ 27.73321598+0.j        ,  27.51284093+0.j        ,\n",
       "         24.32064343+0.j        ,  18.86423973+0.j        ,\n",
       "         12.43797190+1.73218179j,  12.43797190-1.73218179j,\n",
       "          6.34613053+0.62519463j,   6.34613053-0.62519463j]))"
      ]
     },
     "execution_count": 28,
     "metadata": {},
     "output_type": "execute_result"
    }
   ],
   "source": [
    "poly_sub = np.polysub(poly_bhp, poly_vale)\n",
    "xpoints = np.roots(poly_sub)\n",
    "\"Intersection points\", xpoints"
   ]
  },
  {
   "cell_type": "markdown",
   "metadata": {},
   "source": [
    "(6) 得到的结果为复数,这不利于我们后续处理,除非时间也有实部和虚部。因此,这里需\n",
    "要用 isreal 函数来判断数组元素是否为实数:"
   ]
  },
  {
   "cell_type": "code",
   "execution_count": 29,
   "metadata": {},
   "outputs": [
    {
     "data": {
      "text/plain": [
       "('Real number?',\n",
       " array([ True,  True,  True,  True, False, False, False, False], dtype=bool))"
      ]
     },
     "execution_count": 29,
     "metadata": {},
     "output_type": "execute_result"
    },
    {
     "data": {
      "text/plain": [
       "('Real intersection points',\n",
       " array([ 27.73321598,  27.51284093,  24.32064343,  18.86423973,\n",
       "          0.        ,   0.        ,   0.        ,   0.        ]))"
      ]
     },
     "execution_count": 29,
     "metadata": {},
     "output_type": "execute_result"
    }
   ],
   "source": [
    "reals = np.isreal(xpoints)\n",
    "\"Real number?\", reals\n",
    "\n",
    "#可以看到有一部分数据为实数,因此我们用 select 函数选出它们。 \n",
    "#select 函数可以根据一组给定的条件,从一组元素中挑选出符合条件的元素并返回数组:\n",
    "xpoints = np.select([reals], [xpoints])\n",
    "xpoints = xpoints.real\n",
    "\"Real intersection points\", xpoints"
   ]
  },
  {
   "cell_type": "markdown",
   "metadata": {},
   "source": [
    "(7) 我们需要去掉其中为0的元素。 trim_zeros 函数可以去掉一维数组中开头和末尾为0的\n",
    "元素:"
   ]
  },
  {
   "cell_type": "code",
   "execution_count": 30,
   "metadata": {},
   "outputs": [
    {
     "data": {
      "text/plain": [
       "('Sans 0s', array([ 27.73321598,  27.51284093,  24.32064343,  18.86423973]))"
      ]
     },
     "execution_count": 30,
     "metadata": {},
     "output_type": "execute_result"
    }
   ],
   "source": [
    "\"Sans 0s\", np.trim_zeros(xpoints)"
   ]
  },
  {
   "cell_type": "markdown",
   "metadata": {},
   "source": [
    "我们使用 hanning 函数对股票收益率数组进行了平滑处理,使用 polysub 函数对两个多项式\n",
    "作差运算,以及使用 isreal 函数判断数组元素是否为实数,并用 select 函数选出了实数元素。\n",
    "最后,我们用 trim_zeros 函数去掉数组首尾的0元素。\n",
    "\n",
    "请尝试使用其他的平滑函数,如 hamming 、 blackman 、 bartlett 以及 kaiser 。它们的\n",
    "使用方法和 hanning 函数类似。"
   ]
  },
  {
   "cell_type": "markdown",
   "metadata": {},
   "source": [
    "## 4.11 本章小结\n",
    "在本章中,我们使用 corrcoef 函数计算了两只股票收益率的相关性。另外,我们还顺便学\n",
    "习了 diagonal 和 trace 函数的用法,分别可以给出矩阵的对角线元素和矩阵的迹。\n",
    "我们使用 polyfit 函数拟合一系列数据点,用 polyval 函数计算多项式函数的取值, roots\n",
    "函数求解多项式的根,以及 polyder 函数求解多项式函数的导函数。\n",
    "希望通过本章的内容,可以帮助读者提高工作效率,以便更好地学习下一章中矩阵和通用函\n",
    "数(ufuncs)的相关内容。"
   ]
  },
  {
   "cell_type": "code",
   "execution_count": null,
   "metadata": {
    "collapsed": true
   },
   "outputs": [],
   "source": []
  },
  {
   "cell_type": "markdown",
   "metadata": {},
   "source": []
  }
 ],
 "metadata": {
  "kernelspec": {
   "display_name": "Python 3",
   "language": "python",
   "name": "python3"
  },
  "language_info": {
   "codemirror_mode": {
    "name": "ipython",
    "version": 3
   },
   "file_extension": ".py",
   "mimetype": "text/x-python",
   "name": "python",
   "nbconvert_exporter": "python",
   "pygments_lexer": "ipython3",
   "version": "3.6.1"
  }
 },
 "nbformat": 4,
 "nbformat_minor": 2
}
