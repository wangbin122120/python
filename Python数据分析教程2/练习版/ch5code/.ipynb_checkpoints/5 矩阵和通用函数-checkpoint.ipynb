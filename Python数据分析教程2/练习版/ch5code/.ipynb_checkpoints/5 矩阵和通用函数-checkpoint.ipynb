{
 "cells": [
  {
   "cell_type": "markdown",
   "metadata": {},
   "source": [
    "# 5 矩阵和通用函数\n",
    "2017-08-02 王斌 "
   ]
  },
  {
   "cell_type": "markdown",
   "metadata": {},
   "source": [
    "本章涵盖以下内容:\n",
    " 矩阵创建;\n",
    " 矩阵运算;\n",
    " 基本通用函数;\n",
    " 三角函数;\n",
    " 位运算函数;\n",
    " 比较函数。"
   ]
  },
  {
   "cell_type": "markdown",
   "metadata": {},
   "source": [
    "**创建矩阵:**\n",
    "\n",
    "A = np.mat('1 2 3; 4 5 6; 7 8 9') #使用字符串创建矩阵\n",
    "\n",
    "A = np.mat(np.arange(9).reshape(3, 3)) '使用NumPy数组进行创建'\n",
    "\n",
    "\n",
    "np.bmat(\"A B; A B\")\t# 从矩阵合并创建新矩阵\n",
    "\n",
    "\n",
    "result = np.zeros_like(a)\t#创建零矩阵\n",
    "\n",
    "result.flat = 42\t#将矩阵填充为某个值，如42\n",
    "\n",
    "\n",
    "\n",
    "def func_add(a,b):\n",
    "\n",
    "    return np.add(a,b)\n",
    "\n",
    "ufunc = np.frompyfunc(func_add, 2, 1)\t#使用 frompyfunc 创建通用函数\n",
    "\n",
    "ufunc(A,A*2)\n",
    "\n",
    "\n",
    "**函数的通用方法：**\n",
    "\n",
    "** reduce accumulate  reduceat  outer **\n",
    "\n",
    "a=np.arange(10)\n",
    "\n",
    "np.add.reduce(a) == 45 #对于 add 函数,其对数组的reduce计算结果等价于对数组元素求和\n",
    "\n",
    "np.add.accumulate(a) #accumulate类似于reduce，只不过将中间每一步的结果都输出 得到：array([ 0,  1,  3,  6, 10, 15, 21, 28, 36, 45])\n",
    "\n",
    "np.add.reduceat(a,[0, 5, 2, 7]) #reduceat 按索引进行叠加，方法需要输入一个数组以及一个索引值列表作为参数,相对不是很常用。== array([10,  5, 20, 24])\n",
    "\n",
    "np.add.outer(a, a)  #outer 看做是矩阵的卷积，分别在各个维度进行叠加，方法返回一个数组,它的秩(rank)等于两个输入数组的秩的和。有点类似卷积。\n",
    "\n",
    "\n",
    "\n",
    "**常见矩阵操作：**\n",
    "\n",
    "A.T\t'矩阵转置'\n",
    "\n",
    "A.I\t'逆矩阵'\n",
    "\n",
    "\n",
    "矩阵除法： divide true_divide 和 /\n",
    "\n",
    "np.true_divide(a, b)==np.divide(a, b) == a/b\n",
    "\n",
    "矩阵整除法：floor_divide 和 // （截断浮点数）\n",
    "\n",
    "a//b==np.floor_divide(a, b)\n",
    "\n",
    "类似的加减乘法：\n",
    "\n",
    "’+ ==add \n",
    "\n",
    "‘- ==subtract\n",
    "\n",
    "’* ==multiply\n",
    "\n",
    "% ==mod ==remainder  求模（求余）函数\n",
    "\n",
    "b%2 ==np.mod(a,2) ==np.remainder(a,2)\n",
    "\n",
    "fmod == mod * sign, 类似mod的带符号求模fmod 函数（求模结果是带符号，由被除数a的符号决定）\n",
    "\n",
    "位操作：\n",
    "x ^ y 异或（XOR）\n",
    "\n",
    "x & y 与\n",
    "\n",
    "x | y 或\n",
    "\n"
   ]
  },
  {
   "cell_type": "code",
   "execution_count": 1,
   "metadata": {
    "collapsed": true
   },
   "outputs": [],
   "source": [
    "from IPython.core.interactiveshell import InteractiveShell \n",
    "InteractiveShell.ast_node_interactivity = \"all\"\n",
    "import numpy as np\n",
    "import matplotlib.pylab as plt\n",
    "%matplotlib inline"
   ]
  },
  {
   "cell_type": "markdown",
   "metadata": {},
   "source": [
    "## 5.1 矩阵\n",
    "在NumPy中,矩阵是 ndarray 的子类,可以由专用的字符串格式来创建。与数学概念中的矩\n",
    "阵一样,NumPy中的矩阵也是二维的。如你所料,矩阵的乘法运算和NumPy中的普通乘法运算不\n",
    "同。幂运算当然也不一样。我们可以使用 mat 、 matrix 以及 bmat 函数来创建矩阵。\n",
    "\n",
    "mat 函数创建矩阵时,若输入已为 matrix 或 ndarray 对象,则不会为它们创建副本。 因此,调用 mat 函数和调用 matrix(data, copy=False) 等价。 我们还将展示矩阵转置和矩阵求逆的方法。\n",
    "\n",
    "(1) 在创建矩阵的专用字符串中,矩阵的行与行之间用分号隔开,行内的元素之间用空格隔\n",
    "开。使用如下的字符串调用 mat 函数创建矩阵。使用 mat 函数创建了矩阵,用 T 属性获取了转置矩阵,用 I 属性获取了逆矩阵。"
   ]
  },
  {
   "cell_type": "code",
   "execution_count": 2,
   "metadata": {},
   "outputs": [
    {
     "data": {
      "text/plain": [
       "matrix([[1, 2, 3],\n",
       "        [4, 5, 6],\n",
       "        [7, 8, 9]])"
      ]
     },
     "execution_count": 2,
     "metadata": {},
     "output_type": "execute_result"
    },
    {
     "data": {
      "text/plain": [
       "'矩阵转置'"
      ]
     },
     "execution_count": 2,
     "metadata": {},
     "output_type": "execute_result"
    },
    {
     "data": {
      "text/plain": [
       "matrix([[1, 4, 7],\n",
       "        [2, 5, 8],\n",
       "        [3, 6, 9]])"
      ]
     },
     "execution_count": 2,
     "metadata": {},
     "output_type": "execute_result"
    },
    {
     "data": {
      "text/plain": [
       "'逆矩阵'"
      ]
     },
     "execution_count": 2,
     "metadata": {},
     "output_type": "execute_result"
    },
    {
     "data": {
      "text/plain": [
       "matrix([[ -4.50359963e+15,   9.00719925e+15,  -4.50359963e+15],\n",
       "        [  9.00719925e+15,  -1.80143985e+16,   9.00719925e+15],\n",
       "        [ -4.50359963e+15,   9.00719925e+15,  -4.50359963e+15]])"
      ]
     },
     "execution_count": 2,
     "metadata": {},
     "output_type": "execute_result"
    },
    {
     "data": {
      "text/plain": [
       "'使用NumPy数组进行创建'"
      ]
     },
     "execution_count": 2,
     "metadata": {},
     "output_type": "execute_result"
    },
    {
     "data": {
      "text/plain": [
       "matrix([[0, 1, 2],\n",
       "        [3, 4, 5],\n",
       "        [6, 7, 8]])"
      ]
     },
     "execution_count": 2,
     "metadata": {},
     "output_type": "execute_result"
    }
   ],
   "source": [
    "A = np.mat('1 2 3; 4 5 6; 7 8 9')\n",
    "A\n",
    "'矩阵转置'\n",
    "A.T\n",
    "'逆矩阵'\n",
    "A.I\n",
    "'使用NumPy数组进行创建'\n",
    "np.mat(np.arange(9).reshape(3, 3))"
   ]
  },
  {
   "cell_type": "markdown",
   "metadata": {},
   "source": [
    "## 5.3 从已有矩阵创建新矩阵\n",
    "希望利用一些已有的较小的矩阵来创建一个新的大矩阵。这可以用 bmat 函\n",
    "数来实现。这里的 b 表示“分块”, bmat 即分块矩阵(block matrix)。\n",
    "\n",
    "我们将利用两个较小的矩阵创建一个新的矩阵,步骤如下。\n",
    "\n",
    "(1) 首先,创建一个2×2的单位矩阵:\n",
    "\n",
    "(2) 使用字符串创建复合矩阵,该字符串的格式与 mat 函数中一致\n",
    "\n"
   ]
  },
  {
   "cell_type": "code",
   "execution_count": 3,
   "metadata": {},
   "outputs": [
    {
     "data": {
      "text/plain": [
       "'创建A,B矩阵'"
      ]
     },
     "execution_count": 3,
     "metadata": {},
     "output_type": "execute_result"
    },
    {
     "data": {
      "text/plain": [
       "array([[ 1.,  0.],\n",
       "       [ 0.,  1.]])"
      ]
     },
     "execution_count": 3,
     "metadata": {},
     "output_type": "execute_result"
    },
    {
     "data": {
      "text/plain": [
       "array([[ 2.,  0.],\n",
       "       [ 0.,  2.]])"
      ]
     },
     "execution_count": 3,
     "metadata": {},
     "output_type": "execute_result"
    },
    {
     "data": {
      "text/plain": [
       "'合并矩阵'"
      ]
     },
     "execution_count": 3,
     "metadata": {},
     "output_type": "execute_result"
    },
    {
     "data": {
      "text/plain": [
       "matrix([[ 1.,  0.,  2.,  0.],\n",
       "        [ 0.,  1.,  0.,  2.],\n",
       "        [ 1.,  0.,  2.,  0.],\n",
       "        [ 0.,  1.,  0.,  2.]])"
      ]
     },
     "execution_count": 3,
     "metadata": {},
     "output_type": "execute_result"
    }
   ],
   "source": [
    "'创建A,B矩阵'\n",
    "A=np.eye(2)\n",
    "A\n",
    "B=A*2\n",
    "B\n",
    "\n",
    "'合并矩阵'\n",
    "np.bmat(\"A B; A B\")"
   ]
  },
  {
   "cell_type": "markdown",
   "metadata": {},
   "source": [
    "## 5.5 通用函数\n",
    "\n",
    "我们可以使用NumPy中的 frompyfunc 函数,通过一个Python函数来创建通用函数。\n",
    "\n",
    "(1) 定义一个回答宇宙、生命及万物的终极问题的Python函数\n",
    "\n",
    "(2) 使用 zeros_like 函数创建一个和 a 形状相同,并且元素全部为0的数组 result\n",
    "\n",
    "(3) 现在,我们将刚刚生成的数组中的所有元素设置为“终极答案”其值为42,并返回这个\n",
    "结果。\n",
    "\n",
    "(4) 使用 frompyfunc 创建通用函数。指定输入参数的个数为1,随后的1为输出参数的个数"
   ]
  },
  {
   "cell_type": "code",
   "execution_count": 4,
   "metadata": {},
   "outputs": [
    {
     "name": "stdout",
     "output_type": "stream",
     "text": [
      "# 0\n",
      "# 1\n",
      "# 2\n",
      "# 3\n"
     ]
    },
    {
     "data": {
      "text/plain": [
       "array([array(42), array(42), array(42), array(42)], dtype=object)"
      ]
     },
     "execution_count": 4,
     "metadata": {},
     "output_type": "execute_result"
    },
    {
     "name": "stdout",
     "output_type": "stream",
     "text": [
      "# 0\n",
      "# 1\n",
      "# 2\n",
      "# 3\n"
     ]
    },
    {
     "data": {
      "text/plain": [
       "array([[array(42), array(42)],\n",
       "       [array(42), array(42)]], dtype=object)"
      ]
     },
     "execution_count": 4,
     "metadata": {},
     "output_type": "execute_result"
    },
    {
     "name": "stdout",
     "output_type": "stream",
     "text": [
      "# [0 1 2 3]\n"
     ]
    },
    {
     "data": {
      "text/plain": [
       "array([42, 42, 42, 42])"
      ]
     },
     "execution_count": 4,
     "metadata": {},
     "output_type": "execute_result"
    },
    {
     "name": "stdout",
     "output_type": "stream",
     "text": [
      "# [[0 1]\n",
      " [2 3]]\n"
     ]
    },
    {
     "data": {
      "text/plain": [
       "array([[42, 42],\n",
       "       [42, 42]])"
      ]
     },
     "execution_count": 4,
     "metadata": {},
     "output_type": "execute_result"
    }
   ],
   "source": [
    "def ultimate_answer(a):\n",
    "    print('#',a)\n",
    "    result = np.zeros_like(a)\n",
    "    result.flat = 42\n",
    "    return result\n",
    "\n",
    "ufunc = np.frompyfunc(ultimate_answer, 1, 1)\n",
    "ufunc(np.arange(4))\n",
    "ufunc(np.arange(4).reshape(2, 2))\n",
    "\n",
    "\n",
    "#不知道为什么frompyfunc中的数据是一个个元素，直接用函数就可以是整个矩阵。\n",
    "ultimate_answer(np.arange(4))\n",
    "ultimate_answer(np.arange(4).reshape(2, 2))"
   ]
  },
  {
   "cell_type": "markdown",
   "metadata": {},
   "source": [
    "## 5.7 通用函数的方法\n",
    "函数竟然也可以拥有方法?如前所述,其实通用函数并非真正的函数,而是能够表示函数的对象。通用函数有四个方法,不过这些方法只对输入两个参数、输出一个参数的ufunc对象有效,\n",
    "例如 add 函数。其他不符合条件的ufunc对象调用这些方法时将抛出 ValueError 异常。因此只能\n",
    "在二元通用函数上调用这些方法。以下将逐一介绍这4个方法:\n",
    " reduce\n",
    " accumulate\n",
    " reduceat\n",
    " outer"
   ]
  },
  {
   "cell_type": "markdown",
   "metadata": {},
   "source": [
    "### 在 add 上调用通用函数的方法\n",
    "\n",
    "(1) 沿着指定的轴,在连续的数组元素之间递归调用通用函数,即可得到输入数组的规约\n",
    "(reduce)计算结果。对于 add 函数,其对数组的reduce计算结果等价于对数组元素求和。调用\n",
    "reduce 方法\n",
    "\n",
    "(2) accumulate 方法同样可以递归作用于输入数组。但是与 reduce 方法不同的是,它将存\n",
    "储运算的中间结果并返回。因此在 add 函数上调用 accumulate 方法,等价于直接调用 cumsum 函\n",
    "数。\n"
   ]
  },
  {
   "cell_type": "code",
   "execution_count": 5,
   "metadata": {
    "scrolled": true
   },
   "outputs": [
    {
     "data": {
      "text/plain": [
       "array([0, 1, 2, 3, 4, 5, 6, 7, 8, 9])"
      ]
     },
     "execution_count": 5,
     "metadata": {},
     "output_type": "execute_result"
    },
    {
     "data": {
      "text/plain": [
       "45"
      ]
     },
     "execution_count": 5,
     "metadata": {},
     "output_type": "execute_result"
    },
    {
     "data": {
      "text/plain": [
       "array([ 0,  1,  3,  6, 10, 15, 21, 28, 36, 45])"
      ]
     },
     "execution_count": 5,
     "metadata": {},
     "output_type": "execute_result"
    }
   ],
   "source": [
    "a=np.arange(10)\n",
    "a\n",
    "np.add.reduce(a)\n",
    "np.add.accumulate(a)\n"
   ]
  },
  {
   "cell_type": "markdown",
   "metadata": {},
   "source": [
    "(3)reduceat 方法需要输入一个数组以及一个索引值列表作为参数。第一步用到索引值列表中的0和5,实际上就是对数组中索引值在0到5之间的元素进行reduce操作。\n"
   ]
  },
  {
   "cell_type": "code",
   "execution_count": 6,
   "metadata": {},
   "outputs": [
    {
     "data": {
      "text/plain": [
       "array([10,  5, 20, 24])"
      ]
     },
     "execution_count": 6,
     "metadata": {},
     "output_type": "execute_result"
    },
    {
     "data": {
      "text/plain": [
       "'第一步用到索引值列表中的0和5,实际上就是对数组中索引值在0到5之间的元素进行reduce操作'"
      ]
     },
     "execution_count": 6,
     "metadata": {},
     "output_type": "execute_result"
    },
    {
     "data": {
      "text/plain": [
       "10"
      ]
     },
     "execution_count": 6,
     "metadata": {},
     "output_type": "execute_result"
    },
    {
     "data": {
      "text/plain": [
       "'第二步用到索引值5和2。由于2比5小,所以直接返回索引值为5的元素'"
      ]
     },
     "execution_count": 6,
     "metadata": {},
     "output_type": "execute_result"
    },
    {
     "data": {
      "text/plain": [
       "5"
      ]
     },
     "execution_count": 6,
     "metadata": {},
     "output_type": "execute_result"
    },
    {
     "data": {
      "text/plain": [
       "'第三步用到索引值2和7。这一步是对索引值在2到7之间的数组元素进行reduce操作'"
      ]
     },
     "execution_count": 6,
     "metadata": {},
     "output_type": "execute_result"
    },
    {
     "data": {
      "text/plain": [
       "20"
      ]
     },
     "execution_count": 6,
     "metadata": {},
     "output_type": "execute_result"
    },
    {
     "data": {
      "text/plain": [
       "'第四步用到索引值7。这一步是对索引值从7开始直到数组末端的元素进行reduce操作'"
      ]
     },
     "execution_count": 6,
     "metadata": {},
     "output_type": "execute_result"
    },
    {
     "data": {
      "text/plain": [
       "24"
      ]
     },
     "execution_count": 6,
     "metadata": {},
     "output_type": "execute_result"
    }
   ],
   "source": [
    "np.add.reduceat(a,[0, 5, 2, 7])\n",
    "'第一步用到索引值列表中的0和5,实际上就是对数组中索引值在0到5之间的元素进行reduce操作'\n",
    "np.add.reduce(a[0:5])\n",
    "'第二步用到索引值5和2。由于2比5小,所以直接返回索引值为5的元素'\n",
    "a[5]\n",
    "'第三步用到索引值2和7。这一步是对索引值在2到7之间的数组元素进行reduce操作'\n",
    "np.add.reduce(a[2:7])\n",
    "'第四步用到索引值7。这一步是对索引值从7开始直到数组末端的元素进行reduce操作'\n",
    "np.add.reduce(a[7:])"
   ]
  },
  {
   "cell_type": "markdown",
   "metadata": {},
   "source": [
    "(4) outer 方法返回一个数组,它的秩(rank)等于两个输入数组的秩的和。有点类似卷积。"
   ]
  },
  {
   "cell_type": "code",
   "execution_count": 7,
   "metadata": {},
   "outputs": [
    {
     "data": {
      "text/plain": [
       "array([[ 0,  1,  2,  3,  4,  5,  6,  7,  8,  9],\n",
       "       [ 1,  2,  3,  4,  5,  6,  7,  8,  9, 10],\n",
       "       [ 2,  3,  4,  5,  6,  7,  8,  9, 10, 11],\n",
       "       [ 3,  4,  5,  6,  7,  8,  9, 10, 11, 12],\n",
       "       [ 4,  5,  6,  7,  8,  9, 10, 11, 12, 13],\n",
       "       [ 5,  6,  7,  8,  9, 10, 11, 12, 13, 14],\n",
       "       [ 6,  7,  8,  9, 10, 11, 12, 13, 14, 15],\n",
       "       [ 7,  8,  9, 10, 11, 12, 13, 14, 15, 16],\n",
       "       [ 8,  9, 10, 11, 12, 13, 14, 15, 16, 17],\n",
       "       [ 9, 10, 11, 12, 13, 14, 15, 16, 17, 18]])"
      ]
     },
     "execution_count": 7,
     "metadata": {},
     "output_type": "execute_result"
    }
   ],
   "source": [
    "np.add.outer(a, a)\n"
   ]
  },
  {
   "cell_type": "markdown",
   "metadata": {},
   "source": [
    "## 5.9 算术运算\n",
    "在NumPy中,基本算术运算符+、-和 * 隐式关联着通用函数 add 、 subtract 和 multiply 。\n",
    "也就是说,当你对NumPy数组使用这些算术运算符时,对应的通用函数将自动被调用。除法包含\n",
    "的 过 程 则 较 为 复 杂 , 在 数 组 的 除 法 运 算 中 涉 及 三 个 通 用 函 数 divide 、 true_divide 和\n",
    "floor_division ,以及两个对应的运算符 / 和 //"
   ]
  },
  {
   "cell_type": "markdown",
   "metadata": {},
   "source": [
    "让我们在实践中了解数组的除法运算。\n",
    "\n",
    "(1) divide 和true_divide 和 /\n",
    "\n",
    "对于python2， 函数在整数和浮点数除法中均只保留整数部分\n",
    "\n",
    "在python3中，都是有浮点，相当于python2中的true_divide()"
   ]
  },
  {
   "cell_type": "code",
   "execution_count": 8,
   "metadata": {},
   "outputs": [
    {
     "data": {
      "text/plain": [
       "array([2, 6, 5])"
      ]
     },
     "execution_count": 8,
     "metadata": {},
     "output_type": "execute_result"
    },
    {
     "data": {
      "text/plain": [
       "array([1, 2, 3])"
      ]
     },
     "execution_count": 8,
     "metadata": {},
     "output_type": "execute_result"
    },
    {
     "data": {
      "text/plain": [
       "array([ 2.        ,  3.        ,  1.66666667])"
      ]
     },
     "execution_count": 8,
     "metadata": {},
     "output_type": "execute_result"
    },
    {
     "data": {
      "text/plain": [
       "array([ 0.5       ,  0.33333333,  0.6       ])"
      ]
     },
     "execution_count": 8,
     "metadata": {},
     "output_type": "execute_result"
    },
    {
     "data": {
      "text/plain": [
       "array([ True,  True,  True], dtype=bool)"
      ]
     },
     "execution_count": 8,
     "metadata": {},
     "output_type": "execute_result"
    },
    {
     "data": {
      "text/plain": [
       "array([ True,  True,  True], dtype=bool)"
      ]
     },
     "execution_count": 8,
     "metadata": {},
     "output_type": "execute_result"
    },
    {
     "data": {
      "text/plain": [
       "array([ True,  True,  True], dtype=bool)"
      ]
     },
     "execution_count": 8,
     "metadata": {},
     "output_type": "execute_result"
    },
    {
     "data": {
      "text/plain": [
       "array([ True,  True,  True], dtype=bool)"
      ]
     },
     "execution_count": 8,
     "metadata": {},
     "output_type": "execute_result"
    }
   ],
   "source": [
    "a = np.array([2, 6, 5])\n",
    "b = np.array([1, 2, 3])\n",
    "a\n",
    "b\n",
    "np.divide(a, b)\n",
    "np.divide(b, a)\n",
    "\n",
    "np.true_divide(a, b)==np.divide(a, b)\n",
    "np.true_divide(b,a)==np.divide(b, a)\n",
    "\n",
    "a/b == np.divide(a, b)\n",
    "b/a == np.divide(b, a)"
   ]
  },
  {
   "cell_type": "markdown",
   "metadata": {},
   "source": [
    "(2) floor_divide 和 //\n",
    "\n",
    "函数总是返回整数结果,相当于先调用 divide 函数再调用 floor 函数。floor 函数将对浮点数进行向下取整并返回整数.相当于截断浮点数部分。\n",
    "\n"
   ]
  },
  {
   "cell_type": "code",
   "execution_count": 9,
   "metadata": {},
   "outputs": [
    {
     "data": {
      "text/plain": [
       "array([2, 6, 5])"
      ]
     },
     "execution_count": 9,
     "metadata": {},
     "output_type": "execute_result"
    },
    {
     "data": {
      "text/plain": [
       "array([1, 2, 3])"
      ]
     },
     "execution_count": 9,
     "metadata": {},
     "output_type": "execute_result"
    },
    {
     "data": {
      "text/plain": [
       "array([2, 3, 1])"
      ]
     },
     "execution_count": 9,
     "metadata": {},
     "output_type": "execute_result"
    },
    {
     "data": {
      "text/plain": [
       "array([0, 0, 0])"
      ]
     },
     "execution_count": 9,
     "metadata": {},
     "output_type": "execute_result"
    },
    {
     "data": {
      "text/plain": [
       "array([ True,  True,  True], dtype=bool)"
      ]
     },
     "execution_count": 9,
     "metadata": {},
     "output_type": "execute_result"
    },
    {
     "data": {
      "text/plain": [
       "array([ True,  True,  True], dtype=bool)"
      ]
     },
     "execution_count": 9,
     "metadata": {},
     "output_type": "execute_result"
    }
   ],
   "source": [
    "a\n",
    "b\n",
    "\n",
    "np.floor_divide(a, b)\n",
    "np.floor_divide(b, a)\n",
    "\n",
    "a//b==np.floor_divide(a, b)\n",
    "b//a==np.floor_divide(b, a)"
   ]
  },
  {
   "cell_type": "markdown",
   "metadata": {},
   "source": [
    "## 5.11 模运算\n",
    "\n",
    "计算模数或者余数,可以使用NumPy中的 mod 、 remainder 和 fmod 函数。当然,也可以使\n",
    "用 % 运算符。这些函数的主要差异在于处理负数的方式。 fmod 函数在这方面异于其他函数\n",
    "\n",
    "(1) remainder 求余数函数逐个返回两个数组中元素相除后的余数。如果第二个数字为0,则直接\n",
    "返回0\n",
    "\n",
    "(2) mod 函数与 remainder 函数的功能完全一致\n",
    "\n"
   ]
  },
  {
   "cell_type": "code",
   "execution_count": 10,
   "metadata": {},
   "outputs": [
    {
     "data": {
      "text/plain": [
       "array([2, 6, 5])"
      ]
     },
     "execution_count": 10,
     "metadata": {},
     "output_type": "execute_result"
    },
    {
     "data": {
      "text/plain": [
       "'求余数remainder mod %'"
      ]
     },
     "execution_count": 10,
     "metadata": {},
     "output_type": "execute_result"
    },
    {
     "data": {
      "text/plain": [
       "array([0, 0, 1])"
      ]
     },
     "execution_count": 10,
     "metadata": {},
     "output_type": "execute_result"
    },
    {
     "data": {
      "text/plain": [
       "array([0, 0, 1])"
      ]
     },
     "execution_count": 10,
     "metadata": {},
     "output_type": "execute_result"
    },
    {
     "data": {
      "text/plain": [
       "array([0, 0, 1])"
      ]
     },
     "execution_count": 10,
     "metadata": {},
     "output_type": "execute_result"
    }
   ],
   "source": [
    "a\n",
    "'求余数remainder mod %'\n",
    "np.remainder(a,2)\n",
    "np.mod(a,2)\n",
    "a%2"
   ]
  },
  {
   "cell_type": "markdown",
   "metadata": {},
   "source": [
    "(4) fmod 函数处理负数的方式与 remainder 、 mod 和 % 不同。所得余数的正负由被除数决定"
   ]
  },
  {
   "cell_type": "code",
   "execution_count": 11,
   "metadata": {},
   "outputs": [
    {
     "data": {
      "text/plain": [
       "array([-3, -2, -1,  0,  1,  2])"
      ]
     },
     "execution_count": 11,
     "metadata": {},
     "output_type": "execute_result"
    },
    {
     "data": {
      "text/plain": [
       "array([1, 0, 1, 0, 1, 0])"
      ]
     },
     "execution_count": 11,
     "metadata": {},
     "output_type": "execute_result"
    },
    {
     "data": {
      "text/plain": [
       "array([-1,  0, -1,  0,  1,  0])"
      ]
     },
     "execution_count": 11,
     "metadata": {},
     "output_type": "execute_result"
    }
   ],
   "source": [
    "b=np.arange(-3,3)\n",
    "b\n",
    "b%2\n",
    "np.fmod(b,2)"
   ]
  },
  {
   "cell_type": "markdown",
   "metadata": {},
   "source": [
    "## 5.13 斐波那契数列\n",
    "\n",
    "斐波那契(Fibonacci)数列是基于递推关系生成的。直接用NumPy代码来解释递推关系是比\n",
    "较麻烦的,不过我们可以用矩阵的形式或者黄金分割公式来解释它。因此,我们将介绍 matrix\n",
    "和 rint 函数。使用 matrix 函数创建矩阵, rint 函数对浮点数取整,但结果仍为浮点数类型。\n",
    "\n",
    "斐波那契数列的递推关系可以用矩阵来表示。斐波那契数列的计算等价于矩阵的连乘。\n",
    "\n",
    "(1) 创建斐波那契矩阵:\n",
    "\n"
   ]
  },
  {
   "cell_type": "code",
   "execution_count": 12,
   "metadata": {},
   "outputs": [
    {
     "data": {
      "text/plain": [
       "matrix([[1, 1],\n",
       "        [1, 0]])"
      ]
     },
     "execution_count": 12,
     "metadata": {},
     "output_type": "execute_result"
    },
    {
     "data": {
      "text/plain": [
       "True"
      ]
     },
     "execution_count": 12,
     "metadata": {},
     "output_type": "execute_result"
    }
   ],
   "source": [
    "F = np.matrix([[1, 1], [1, 0]])\n",
    "F\n",
    "F2=np.mat([[1, 1], [1, 0]])\n",
    "np.array_equal(F,F2)"
   ]
  },
  {
   "cell_type": "markdown",
   "metadata": {},
   "source": [
    "(2) 计算斐波那契数列中的第8个数,即矩阵的幂为8减去1。计算出的斐波那契数位于矩阵的\n",
    "对角线上"
   ]
  },
  {
   "cell_type": "code",
   "execution_count": 13,
   "metadata": {},
   "outputs": [
    {
     "data": {
      "text/plain": [
       "matrix([[1, 1],\n",
       "        [1, 0]])"
      ]
     },
     "execution_count": 13,
     "metadata": {},
     "output_type": "execute_result"
    },
    {
     "data": {
      "text/plain": [
       "matrix([[2, 1],\n",
       "        [1, 1]])"
      ]
     },
     "execution_count": 13,
     "metadata": {},
     "output_type": "execute_result"
    },
    {
     "data": {
      "text/plain": [
       "matrix([[3, 2],\n",
       "        [2, 1]])"
      ]
     },
     "execution_count": 13,
     "metadata": {},
     "output_type": "execute_result"
    },
    {
     "data": {
      "text/plain": [
       "21"
      ]
     },
     "execution_count": 13,
     "metadata": {},
     "output_type": "execute_result"
    }
   ],
   "source": [
    "F\n",
    "F**2\n",
    "F**3\n",
    "(F ** 7)[0, 0]"
   ]
  },
  {
   "cell_type": "markdown",
   "metadata": {},
   "source": [
    "(3) 利用黄金分割公式或通常所说的比奈公式(Binet’ s Formula),加上取整函数,就可以直\n",
    "接计算斐波那契数。计算前8个斐波那契数"
   ]
  },
  {
   "cell_type": "code",
   "execution_count": 14,
   "metadata": {},
   "outputs": [
    {
     "data": {
      "text/plain": [
       "array([  1.,   1.,   2.,   3.,   5.,   8.,  13.,  21.])"
      ]
     },
     "execution_count": 14,
     "metadata": {},
     "output_type": "execute_result"
    },
    {
     "data": {
      "text/plain": [
       "'注意其中的rint是四舍五入，等价于round,但int是直接去掉浮点数'"
      ]
     },
     "execution_count": 14,
     "metadata": {},
     "output_type": "execute_result"
    },
    {
     "data": {
      "text/plain": [
       "1.0"
      ]
     },
     "execution_count": 14,
     "metadata": {},
     "output_type": "execute_result"
    },
    {
     "data": {
      "text/plain": [
       "1.0"
      ]
     },
     "execution_count": 14,
     "metadata": {},
     "output_type": "execute_result"
    },
    {
     "data": {
      "text/plain": [
       "array([ True,  True,  True,  True,  True], dtype=bool)"
      ]
     },
     "execution_count": 14,
     "metadata": {},
     "output_type": "execute_result"
    },
    {
     "data": {
      "text/plain": [
       "0"
      ]
     },
     "execution_count": 14,
     "metadata": {},
     "output_type": "execute_result"
    }
   ],
   "source": [
    "n = np.arange(1, 9)\n",
    "sqrt5 = np.sqrt(5)\n",
    "phi = (1 + sqrt5)/2\n",
    "fibonacci = np.rint((phi**n - (-1/phi)**n)/sqrt5)\n",
    "fibonacci\n",
    "\n",
    "'注意其中的rint是四舍五入，等价于round,但int是直接去掉浮点数'\n",
    "np.rint(0.51)\n",
    "np.round(0.51)\n",
    "np.round(np.linspace(1,2,5)) == np.rint(np.linspace(1,2,5))\n",
    "np.int(0.51)"
   ]
  },
  {
   "cell_type": "markdown",
   "metadata": {},
   "source": [
    "## 5.15 利萨茹曲线\n",
    "在NumPy中,所有的标准三角函数如sin、cos、tan等均有对应的通用函数。利萨茹曲线\n",
    "(Lissajous curve)是一种很有趣的使用三角函数的方式。我至今仍记得在物理实验室的示波器上\n",
    "显示出利萨茹曲线时的情景。利萨茹曲线由以下参数方程定义\n",
    "\n",
    "x = A sin(at + n/2)\n",
    "\n",
    "y = B sin(bt)\n",
    "\n",
    "利萨茹曲线的参数包括 A 、 B 、 a 和 b 。为简单起见,我们令 A 和 B 均为1。\n",
    "\n",
    "(1) 使用 linspace 函数初始化变量 t ,即从 -pi 到 pi 上均匀分布的 201 个点"
   ]
  },
  {
   "cell_type": "code",
   "execution_count": 15,
   "metadata": {},
   "outputs": [],
   "source": [
    "a = 9\n",
    "b = 8\n",
    "t = np.linspace(-np.pi, np.pi, 201)"
   ]
  },
  {
   "cell_type": "markdown",
   "metadata": {},
   "source": [
    "(2) 使用 sin 函数和NumPy常量 pi 计算变量 x\n",
    "\n",
    "(3) 使用 sin 函数计算变量 y :"
   ]
  },
  {
   "cell_type": "code",
   "execution_count": 16,
   "metadata": {
    "collapsed": true
   },
   "outputs": [],
   "source": [
    "x = np.sin(a * t + np.pi/2)\n",
    "y = np.sin(b * t)\n"
   ]
  },
  {
   "cell_type": "markdown",
   "metadata": {},
   "source": [
    "画图"
   ]
  },
  {
   "cell_type": "code",
   "execution_count": 17,
   "metadata": {},
   "outputs": [
    {
     "data": {
      "text/plain": [
       "[<matplotlib.lines.Line2D at 0x7f93f8c98d30>]"
      ]
     },
     "execution_count": 17,
     "metadata": {},
     "output_type": "execute_result"
    },
    {
     "data": {
      "image/png": "[encoded data removed]",
      "text/plain": [
       "<matplotlib.figure.Figure at 0x7f93f8d07c18>"
      ]
     },
     "metadata": {},
     "output_type": "display_data"
    }
   ],
   "source": [
    "plt.plot(x,y)"
   ]
  },
  {
   "attachments": {},
   "cell_type": "markdown",
   "metadata": {},
   "source": [
    "## 5.17 方波\n",
    "方波也是一种可以在示波器上显示的波形。方波可以近似表示为多个正弦波的叠加。事实上,\n",
    "任意一个方波信号都可以用无穷傅里叶级数来表示\n"
   ]
  },
  {
   "cell_type": "markdown",
   "metadata": {},
   "source": [
    "(1)初始化"
   ]
  },
  {
   "cell_type": "code",
   "execution_count": 18,
   "metadata": {
    "collapsed": true
   },
   "outputs": [],
   "source": [
    "k=np.arange(1,99)\n",
    "t = np.linspace(-np.pi, np.pi, 201)\n",
    "k=k*2-1\n",
    "f=np.zeros_like(t)"
   ]
  },
  {
   "cell_type": "markdown",
   "metadata": {},
   "source": [
    "(2) 接下来,直接使用 sin 和 sum 函数进行计算"
   ]
  },
  {
   "cell_type": "code",
   "execution_count": 19,
   "metadata": {},
   "outputs": [],
   "source": [
    "for i in range(len(t)):\n",
    "    f[i] = np.sum(np.sin(k * t[i])/k)\n",
    "# f = (10 / np.pi) * f"
   ]
  },
  {
   "cell_type": "markdown",
   "metadata": {},
   "source": [
    "画图，用sin合成了一个方波"
   ]
  },
  {
   "cell_type": "code",
   "execution_count": 20,
   "metadata": {},
   "outputs": [
    {
     "data": {
      "text/plain": [
       "[<matplotlib.lines.Line2D at 0x7f93f8392898>]"
      ]
     },
     "execution_count": 20,
     "metadata": {},
     "output_type": "execute_result"
    },
    {
     "data": {
      "image/png": "[encoded data removed]",
      "text/plain": [
       "<matplotlib.figure.Figure at 0x7f93f8ccd048>"
      ]
     },
     "metadata": {},
     "output_type": "display_data"
    }
   ],
   "source": [
    "plt.plot(t, f)\n",
    "plt.show()"
   ]
  },
  {
   "cell_type": "markdown",
   "metadata": {},
   "source": [
    "## 5.19 锯齿波和三角波\n",
    "\n",
    "在示波器上,锯齿波和三角波也是常见的波形。和方波类似,我们也可以将它们表示成无穷\n",
    "傅里叶级数。对锯齿波取绝对值即可得到三角波。"
   ]
  },
  {
   "cell_type": "markdown",
   "metadata": {},
   "source": [
    "(1)初始化"
   ]
  },
  {
   "cell_type": "code",
   "execution_count": 21,
   "metadata": {
    "collapsed": true
   },
   "outputs": [],
   "source": [
    "k=np.arange(1,99)\n",
    "k=k*np.pi\n",
    "t = np.linspace(-np.pi, np.pi, 201)\n",
    "f=np.zeros_like(t)"
   ]
  },
  {
   "cell_type": "markdown",
   "metadata": {},
   "source": [
    "(2)同样,直接使用 sin 和 sum 函数进行计算: "
   ]
  },
  {
   "cell_type": "code",
   "execution_count": 22,
   "metadata": {
    "collapsed": true
   },
   "outputs": [],
   "source": [
    "for i in range(len(t)):\n",
    "    f[i] = np.sum(-2*np.sin(2*k * t[i])/k)\n",
    "# f = (10 / np.pi) * f"
   ]
  },
  {
   "cell_type": "markdown",
   "metadata": {},
   "source": [
    "画图，用sin合成了一个方波"
   ]
  },
  {
   "cell_type": "code",
   "execution_count": 23,
   "metadata": {
    "scrolled": true
   },
   "outputs": [
    {
     "data": {
      "text/plain": [
       "[<matplotlib.lines.Line2D at 0x7f93f82b6cc0>]"
      ]
     },
     "execution_count": 23,
     "metadata": {},
     "output_type": "execute_result"
    },
    {
     "data": {
      "text/plain": [
       "[<matplotlib.lines.Line2D at 0x7f93f8c4ec88>]"
      ]
     },
     "execution_count": 23,
     "metadata": {},
     "output_type": "execute_result"
    },
    {
     "data": {
      "image/png": "[encoded data removed]",
      "text/plain": [
       "<matplotlib.figure.Figure at 0x7f93f8c4e748>"
      ]
     },
     "metadata": {},
     "output_type": "display_data"
    }
   ],
   "source": [
    "plt.plot(t, f)\n",
    "plt.plot(t, np.abs(f), lw=2.0)\n",
    "plt.show()"
   ]
  },
  {
   "cell_type": "markdown",
   "metadata": {},
   "source": [
    "## 5.21 位操作函数和比较函数\n",
    "位操作函数可以在整数或整数数组的位上进行操作,它们都是通用函数。 ^ 、 & 、 | 、 << 、 >>\n",
    "等位操作符在NumPy中也有对应的部分, < 、 > 、 == 等比较运算符也是如此。有了这些操作符,\n",
    "你可以在代码中玩一些高级技巧以提升代码的性能。不过,它们会使代码变得难以理解,因此需\n",
    "谨慎使用。"
   ]
  },
  {
   "cell_type": "markdown",
   "metadata": {},
   "source": [
    "### 玩转二进制位\n",
    "我们将学习三个小技巧——检查两个整数的符号是否一致,检查一个数是否为2的幂数,以\n",
    "及计算一个数被2的幂数整除后的余数。我们会分别展示两种方法,即使用位操作符和使用相应\n",
    "的NumPy函数。\n",
    "\n",
    "(1) 第一个小技巧需要用 XOR 或者 ^ 操作符。 XOR 操作符又被称为不等运算符,因此当两个操\n",
    "作数的符号不一致时, XOR 操作的结果为负数。在NumPy中, ^ 操作符对应于 bitwise_xor 函数,\n",
    "< 操作符对应于 less 函数"
   ]
  },
  {
   "cell_type": "code",
   "execution_count": 24,
   "metadata": {},
   "outputs": [
    {
     "data": {
      "text/plain": [
       "array([-9, -8, -7, -6, -5, -4, -3, -2, -1,  0,  1,  2,  3,  4,  5,  6,  7,\n",
       "        8])"
      ]
     },
     "execution_count": 24,
     "metadata": {},
     "output_type": "execute_result"
    },
    {
     "data": {
      "text/plain": [
       "array([ 9,  8,  7,  6,  5,  4,  3,  2,  1,  0, -1, -2, -3, -4, -5, -6, -7,\n",
       "       -8])"
      ]
     },
     "execution_count": 24,
     "metadata": {},
     "output_type": "execute_result"
    },
    {
     "data": {
      "text/plain": [
       "'Sign different?'"
      ]
     },
     "execution_count": 24,
     "metadata": {},
     "output_type": "execute_result"
    },
    {
     "data": {
      "text/plain": [
       "array([ True,  True,  True,  True,  True,  True,  True,  True,  True,\n",
       "       False,  True,  True,  True,  True,  True,  True,  True,  True], dtype=bool)"
      ]
     },
     "execution_count": 24,
     "metadata": {},
     "output_type": "execute_result"
    },
    {
     "data": {
      "text/plain": [
       "array([ -2, -16,  -2,  -4,  -2,  -8,  -2,  -4,  -2,   0,  -2,  -4,  -2,\n",
       "        -8,  -2,  -4,  -2, -16])"
      ]
     },
     "execution_count": 24,
     "metadata": {},
     "output_type": "execute_result"
    },
    {
     "data": {
      "text/plain": [
       "array([1, 8, 1, 2, 1, 4, 1, 2, 1, 0, 1, 2, 1, 4, 1, 2, 1, 8])"
      ]
     },
     "execution_count": 24,
     "metadata": {},
     "output_type": "execute_result"
    },
    {
     "data": {
      "text/plain": [
       "array([-1, -8, -1, -2, -1, -4, -1, -2, -1,  0, -1, -2, -1, -4, -1, -2, -1,\n",
       "       -8])"
      ]
     },
     "execution_count": 24,
     "metadata": {},
     "output_type": "execute_result"
    },
    {
     "data": {
      "text/plain": [
       "'Sign different?'"
      ]
     },
     "execution_count": 24,
     "metadata": {},
     "output_type": "execute_result"
    },
    {
     "data": {
      "text/plain": [
       "array([ True,  True,  True,  True,  True,  True,  True,  True,  True,\n",
       "       False,  True,  True,  True,  True,  True,  True,  True,  True], dtype=bool)"
      ]
     },
     "execution_count": 24,
     "metadata": {},
     "output_type": "execute_result"
    }
   ],
   "source": [
    "x = np.arange(-9, 9)\n",
    "y = -x\n",
    "x\n",
    "y\n",
    "\"Sign different?\"\n",
    "(x ^ y) < 0\n",
    "x ^ y\n",
    "x & y\n",
    "x | y\n",
    "\"Sign different?\"\n",
    "np.less(np.bitwise_xor(x, y), 0)"
   ]
  },
  {
   "cell_type": "markdown",
   "metadata": {},
   "source": []
  },
  {
   "cell_type": "code",
   "execution_count": 25,
   "metadata": {},
   "outputs": [
    {
     "data": {
      "text/plain": [
       "1"
      ]
     },
     "execution_count": 25,
     "metadata": {},
     "output_type": "execute_result"
    }
   ],
   "source": [
    "1"
   ]
  },
  {
   "cell_type": "markdown",
   "metadata": {},
   "source": []
  },
  {
   "cell_type": "code",
   "execution_count": null,
   "metadata": {
    "collapsed": true
   },
   "outputs": [],
   "source": []
  },
  {
   "cell_type": "markdown",
   "metadata": {},
   "source": []
  },
  {
   "cell_type": "code",
   "execution_count": null,
   "metadata": {
    "collapsed": true
   },
   "outputs": [],
   "source": []
  },
  {
   "cell_type": "markdown",
   "metadata": {},
   "source": []
  },
  {
   "cell_type": "code",
   "execution_count": null,
   "metadata": {
    "collapsed": true
   },
   "outputs": [],
   "source": []
  },
  {
   "cell_type": "markdown",
   "metadata": {},
   "source": []
  },
  {
   "cell_type": "code",
   "execution_count": null,
   "metadata": {
    "collapsed": true
   },
   "outputs": [],
   "source": []
  },
  {
   "cell_type": "markdown",
   "metadata": {},
   "source": []
  },
  {
   "cell_type": "code",
   "execution_count": null,
   "metadata": {
    "collapsed": true
   },
   "outputs": [],
   "source": []
  },
  {
   "cell_type": "markdown",
   "metadata": {},
   "source": []
  },
  {
   "cell_type": "code",
   "execution_count": null,
   "metadata": {
    "collapsed": true
   },
   "outputs": [],
   "source": []
  },
  {
   "cell_type": "markdown",
   "metadata": {},
   "source": []
  },
  {
   "cell_type": "code",
   "execution_count": null,
   "metadata": {
    "collapsed": true
   },
   "outputs": [],
   "source": []
  },
  {
   "cell_type": "markdown",
   "metadata": {},
   "source": []
  },
  {
   "cell_type": "code",
   "execution_count": null,
   "metadata": {
    "collapsed": true
   },
   "outputs": [],
   "source": []
  },
  {
   "cell_type": "markdown",
   "metadata": {},
   "source": []
  },
  {
   "cell_type": "code",
   "execution_count": null,
   "metadata": {
    "collapsed": true
   },
   "outputs": [],
   "source": []
  },
  {
   "cell_type": "markdown",
   "metadata": {},
   "source": []
  },
  {
   "cell_type": "code",
   "execution_count": null,
   "metadata": {
    "collapsed": true
   },
   "outputs": [],
   "source": []
  },
  {
   "cell_type": "markdown",
   "metadata": {},
   "source": []
  },
  {
   "cell_type": "code",
   "execution_count": null,
   "metadata": {
    "collapsed": true
   },
   "outputs": [],
   "source": []
  },
  {
   "cell_type": "markdown",
   "metadata": {},
   "source": []
  },
  {
   "cell_type": "code",
   "execution_count": null,
   "metadata": {
    "collapsed": true
   },
   "outputs": [],
   "source": []
  },
  {
   "cell_type": "markdown",
   "metadata": {},
   "source": []
  },
  {
   "cell_type": "code",
   "execution_count": null,
   "metadata": {
    "collapsed": true
   },
   "outputs": [],
   "source": []
  }
 ],
 "metadata": {
  "kernelspec": {
   "display_name": "Python 3",
   "language": "python",
   "name": "python3"
  },
  "language_info": {
   "codemirror_mode": {
    "name": "ipython",
    "version": 3
   },
   "file_extension": ".py",
   "mimetype": "text/x-python",
   "name": "python",
   "nbconvert_exporter": "python",
   "pygments_lexer": "ipython3",
   "version": "3.6.1"
  }
 },
 "nbformat": 4,
 "nbformat_minor": 2
}
