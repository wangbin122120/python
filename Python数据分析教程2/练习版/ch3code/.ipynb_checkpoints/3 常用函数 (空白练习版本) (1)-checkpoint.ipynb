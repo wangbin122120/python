{
 "cells": [
  {
   "cell_type": "markdown",
   "metadata": {},
   "source": [
    "# 第3章 常用函数\n",
    "2017-07-20 王斌 python3  测验时间 2017-07-30"
   ]
  },
  {
   "cell_type": "code",
   "execution_count": 96,
   "metadata": {},
   "outputs": [
    {
     "data": {
      "text/plain": [
       "'测试结果：题目数59，总答题次数95,答错36次，准确率0.621'"
      ]
     },
     "execution_count": 96,
     "metadata": {},
     "output_type": "execute_result"
    },
    {
     "data": {
      "text/plain": [
       "'错误小结 ## 11个，### 7个'"
      ]
     },
     "execution_count": 96,
     "metadata": {},
     "output_type": "execute_result"
    }
   ],
   "source": [
    "'测试结果：题目数59，总答题次数95,答错%d次，准确率%.3f'%(95-59,59/95)\n",
    "'错误小结 ## 11个，### 7个'"
   ]
  },
  {
   "cell_type": "markdown",
   "metadata": {},
   "source": [
    "本章涵盖以下内容：\n",
    " 数组相关的函数；\n",
    " 从文件中载入数据；\n",
    " 将数组写入文件；\n",
    " 简单的数学和统计分析函数。\n"
   ]
  },
  {
   "cell_type": "markdown",
   "metadata": {},
   "source": [
    "**初始化**\n",
    "\n",
    "np.eye(n)      \t\t#单位1矩阵 nxn\n",
    "\n",
    "np.arange(n)   \t\t#数组range \n",
    "\n",
    "np.zeros(N)\t\t#零数组\t   \n",
    "\n",
    "np.ones(N)\t\t#1数组\n",
    "\n",
    "\n",
    "\n",
    "\n",
    "\n",
    "**文件读写操作**\n",
    "\n",
    "loadtxt(文件名)\t\t# 提取数据保存到数组\n",
    "\n",
    "numpy.loadtxt(文件名, dtype=数据类型, comments=’#’, delimiter=分隔符, converters={列：转换函数}, skiprows=0, usecols=(列标), unpack=分段输出, ndmin=0)\n",
    "\n",
    "savetxt(文件名,数组)  \t# 保存数组数据到文件\n",
    "\n",
    "\n",
    "\n",
    "\n",
    "\n",
    "\n",
    "\n",
    "\n",
    "\n",
    "**计算**\n",
    "\n",
    "np.average(c,weights=v) #加权平均。金融指标:成交量加权平均价格（VWAP） = np.sum(c*v) / np.sum(v)\n",
    "\n",
    "np.mean(c)\t\t#算术平均\n",
    "\n",
    "np.sum(c)\t\t#求和\n",
    "\n",
    "np.min(l)\t\t#数组极值\n",
    "\n",
    "np.max(h)\t\t#数组极值\n",
    "\n",
    "np.argmax(averages)\t#数组极值所在位置\n",
    "\n",
    "np.argmin(averages)\t#数组极值所在位置\n",
    "\n",
    "np.ptp(h)\t\t#数组幅度=最大-最小值\n",
    "\n",
    "np.median(c)\t\t#中位数，若数组个数是偶数，那么中位数是中间两个值的平均\n",
    "\n",
    "np.msort(c)\t\t#数组排序\n",
    "\n",
    "np.var(c)\t\t#方差,有偏估计，分母N，默认ddof=0\n",
    "\n",
    "np.std(c)\t\t#标准差,有偏估计，分母N，默认ddof=0,可通过ddof=1设置自由度为1的无偏估计。\n",
    "                #金融指标：风险度量 np.std(returns)\n",
    "\n",
    "np.corrcoef(bhp_returns, vale_returns) #协方差，无偏估计，分母N-1，相当于ddof=1\n",
    "\n",
    "np.diff(c)\t\t#间隔差，数组元素(n) - 数组元素(n-1)。\n",
    "\n",
    "\t\t\t#金融指标：简单收益率 returns = np.diff(c) / c[:-1]\n",
    "\n",
    "\t\t\t#金融指标：对数收益率 logreturns = np.diff(np.log(c))\n",
    "\n",
    "\t\t\t\t# log收益率 = log(前一日收盘价/今日收盘价)  = log(前一日收盘价) -log(今日收盘价)\n",
    "\n",
    "np.sqrt()\t\t#平方根。金融指标：年波动率 np.std(logreturns)/np.mean(logreturns)/np.sqrt(1/252)\n",
    "\n",
    "np.where(returns>0)\t#数组筛选\n",
    "\n",
    "np.ravel(np.where(dates==0)) \t#where 之后的数组常常用ravel做扁平化\n",
    "\n",
    "np.split(weeks_indices,3) \t#数组分割\n",
    "\n",
    "np.apply_along_axis(summarize, 1, weeks_indices,open, high, low, close)\t\n",
    "\n",
    "\t\t#numpy.apply_along_axis(func1d, axis, arr, *args, **kwargs)\n",
    "\n",
    "\t\t#对于数据arr, *args, **kwargs中的每一行（axis=1）或每一列（axis=0）作用于函数func1d（），并分别返回结果\n",
    "\n",
    "\n",
    "\n",
    "np.convolve(a,b,'full')    \t# 卷积：default:乘积的所有结果，个数：(N+M-1,)\n",
    "\n",
    "np.convolve(a,b,'same')    \t# 卷积：任意两层有相交的结果，个数：max(M, N)\n",
    "\n",
    "np.convolve(a,b,'valid')   \t# 卷积：所有层都相交的结果，两者做卷积完全重叠的区域，个数：max(M, N) - min(M, N) + 1\n",
    "\n",
    "np.linspace(a , b , N)\t#分割，对[a,b]区间分成N份，np.linspace(0,1,3)=array([ 0. ,  0.5,  1. ])\n",
    "\n",
    "np.dot(b, x)\t\t#矩阵乘积。\n",
    "\n",
    "a.clip(min,max)\t\t#对数组进行修剪，小于min的值设置为min值，对大于max值同样处理。\n",
    "\n",
    "a.compress(a > 2)\t#对数组进行筛选，保留满足条件的值。\n",
    "\n",
    "b.prod()\t\t#计算所有元素的乘积，有一个为0，则结果一定为0\n",
    "\n",
    "b.cumprod()\t\t#迭代每个元素乘积的结果，np.array([1,2,3,4,5]).cumprod() = array([  1,   2,   6,  24, 120])\n",
    "\n",
    "\n",
    "\n",
    "\n",
    "\n",
    "\n",
    "\n",
    "**关于时间日期的转换**\n",
    "\n",
    "import datetime\n",
    "\n",
    "return datetime.datetime.strptime(s, \"%d-%m-%Y\").date().weekday() #将字符串转换成日期，weekday()返回的是星期\n",
    "\n",
    "\n",
    "\n",
    "\n",
    "\n",
    "\n",
    "\n",
    "**关于plot的设置**\n",
    "\n",
    "import matplotlib.pylab as plt\n",
    "\n",
    "%matplotlib inline\n",
    "\n",
    "t = np.arange(N - 1, len(c))\n",
    "\n",
    "plt.figure(figsize=(8,4))\n",
    "\n",
    "plt.plot(t,c[N-1:],\"b--\",lw=1.0,label=\"c\")\n",
    "\n",
    "plt.plot(t,ema,\"b--\",color='red',lw=2.0,label=\"ema_\"+str(N))\n",
    "\n",
    "plt.plot(t,sma,\"b--\",color='yellow',lw=2.0,label=\"sma_\"+str(N))\n",
    "\n",
    "plt.legend()\n",
    "\n",
    "plt.show()\n",
    "\n",
    "\n",
    "\n"
   ]
  },
  {
   "cell_type": "code",
   "execution_count": 1,
   "metadata": {
    "collapsed": true
   },
   "outputs": [],
   "source": [
    "from IPython.core.interactiveshell import InteractiveShell \n",
    "InteractiveShell.ast_node_interactivity = \"all\"\n",
    "import numpy as np"
   ]
  },
  {
   "cell_type": "markdown",
   "metadata": {},
   "source": [
    "## 3.1 TXT文件读写"
   ]
  },
  {
   "cell_type": "markdown",
   "metadata": {},
   "source": [
    "作为文件读写示例，我们创建一个单位矩阵并将其存储到文件\n",
    "\n",
    "(1) 单位矩阵，即主对角线上的元素均为1，其余元素均为0的正方形矩阵。在NumPy中可以\n",
    "用eye函数创建一个这样的二维数组，我们只需要给定一个参数，用于指定矩阵中1的元素个数。"
   ]
  },
  {
   "cell_type": "code",
   "execution_count": 3,
   "metadata": {
    "scrolled": true
   },
   "outputs": [
    {
     "data": {
      "text/plain": [
       "array([[ 1.,  0.],\n",
       "       [ 0.,  1.]])"
      ]
     },
     "execution_count": 3,
     "metadata": {},
     "output_type": "execute_result"
    }
   ],
   "source": [
    "i2=np.eye(2)     ##没事写ones干嘛？想混了吧！压根没记清楚啊！\n",
    "i2"
   ]
  },
  {
   "cell_type": "markdown",
   "metadata": {},
   "source": [
    "(2) 使用savetxt函数将数据存储到文件中"
   ]
  },
  {
   "cell_type": "code",
   "execution_count": 5,
   "metadata": {},
   "outputs": [],
   "source": [
    "np.savetxt('t.txt',i2)  ##不带np. 就直接savetxt 想啥呢？注意写完即时检查！"
   ]
  },
  {
   "cell_type": "markdown",
   "metadata": {},
   "source": [
    "(3) 使用loadtxt函数将数据存储到文件中"
   ]
  },
  {
   "cell_type": "code",
   "execution_count": 7,
   "metadata": {},
   "outputs": [
    {
     "data": {
      "text/plain": [
       "array([[ 1.,  0.],\n",
       "       [ 0.,  1.]])"
      ]
     },
     "execution_count": 7,
     "metadata": {},
     "output_type": "execute_result"
    }
   ],
   "source": [
    "np.loadtxt('t.txt')    ##没事，带啥i2哈？想啥呢？"
   ]
  },
  {
   "cell_type": "markdown",
   "metadata": {},
   "source": [
    "## 3.3 CSV 文件读写"
   ]
  },
  {
   "cell_type": "markdown",
   "metadata": {},
   "source": [
    "数据样例：AAPL,28-01-2011, ,344.17,344.4,333.53,336.1,21144800\n",
    "\n",
    "numpy.loadtxt(fname, dtype=<type ‘float’>, comments=’#’, delimiter=None, converters=None,\n",
    "skiprows=0, usecols=None, unpack=False, ndmin=0)"
   ]
  },
  {
   "cell_type": "code",
   "execution_count": 8,
   "metadata": {},
   "outputs": [
    {
     "data": {
      "text/plain": [
       "array([\"b'AAPL'\", \"b'28-01-2011'\", \"b' '\", \"b'344.17'\", \"b'344.4'\",\n",
       "       \"b'333.53'\", \"b'336.1'\", \"b'21144800'\"], \n",
       "      dtype='<U13')"
      ]
     },
     "execution_count": 8,
     "metadata": {},
     "output_type": "execute_result"
    }
   ],
   "source": [
    "data_str = np.loadtxt('data.csv',delimiter=',',dtype='str')\n",
    "data_str[0]"
   ]
  },
  {
   "cell_type": "markdown",
   "metadata": {},
   "source": [
    "对于全部用str装入，后续需要处理。对于数据比较整齐的文件，可以指定某几列（usecol），并且分割(delimiter)后，传递给某几个数组(unpack)"
   ]
  },
  {
   "cell_type": "code",
   "execution_count": 12,
   "metadata": {},
   "outputs": [
    {
     "data": {
      "text/plain": [
       "array([ 336.1 ,  339.32,  345.03,  344.32,  343.44,  346.5 ,  351.88,\n",
       "        355.2 ,  358.16,  354.54,  356.85,  359.18,  359.9 ,  363.13,\n",
       "        358.3 ,  350.56,  338.61,  342.62,  342.88,  348.16,  353.21,\n",
       "        349.31,  352.12,  359.56,  360.  ,  355.36,  355.76,  352.47,\n",
       "        346.67,  351.99])"
      ]
     },
     "execution_count": 12,
     "metadata": {},
     "output_type": "execute_result"
    },
    {
     "data": {
      "text/plain": [
       "(30,)"
      ]
     },
     "execution_count": 12,
     "metadata": {},
     "output_type": "execute_result"
    },
    {
     "data": {
      "text/plain": [
       "array([ 21144800.,  13473000.,  15236800.,   9242600.,  14064100.,\n",
       "        11494200.,  17322100.,  13608500.,  17240800.,  33162400.,\n",
       "        13127500.,  11086200.,  10149000.,  17184100.,  18949000.,\n",
       "        29144500.,  31162200.,  23994700.,  17853500.,  13572000.,\n",
       "        14395400.,  16290300.,  21521000.,  17885200.,  16188000.,\n",
       "        19504300.,  12718000.,  16192700.,  18138800.,  16824200.])"
      ]
     },
     "execution_count": 12,
     "metadata": {},
     "output_type": "execute_result"
    },
    {
     "data": {
      "text/plain": [
       "(30,)"
      ]
     },
     "execution_count": 12,
     "metadata": {},
     "output_type": "execute_result"
    }
   ],
   "source": [
    "c,v=np.loadtxt('data.csv',delimiter=',',usecols=(6,7),unpack=True) \n",
    "###不知道要unpack么？胡乱试错，浪费时间！\n",
    "c\n",
    "c.shape\n",
    "v\n",
    "v.shape"
   ]
  },
  {
   "cell_type": "markdown",
   "metadata": {},
   "source": [
    "## 3.5 成交量加权平均价格（VWAP）\n",
    "\n",
    "(1) 将数据读入数组。\n",
    "\n",
    "(2) 计算VWAP。\n",
    "\n",
    "调用了average函数，并将v作为权重参数使用，计算非常快，方便，直观！"
   ]
  },
  {
   "cell_type": "code",
   "execution_count": 13,
   "metadata": {},
   "outputs": [
    {
     "data": {
      "text/plain": [
       "array([ 336.1 ,  339.32,  345.03,  344.32,  343.44,  346.5 ,  351.88,\n",
       "        355.2 ,  358.16,  354.54,  356.85,  359.18,  359.9 ,  363.13,\n",
       "        358.3 ,  350.56,  338.61,  342.62,  342.88,  348.16,  353.21,\n",
       "        349.31,  352.12,  359.56,  360.  ,  355.36,  355.76,  352.47,\n",
       "        346.67,  351.99])"
      ]
     },
     "execution_count": 13,
     "metadata": {},
     "output_type": "execute_result"
    },
    {
     "data": {
      "text/plain": [
       "array([ 21144800.,  13473000.,  15236800.,   9242600.,  14064100.,\n",
       "        11494200.,  17322100.,  13608500.,  17240800.,  33162400.,\n",
       "        13127500.,  11086200.,  10149000.,  17184100.,  18949000.,\n",
       "        29144500.,  31162200.,  23994700.,  17853500.,  13572000.,\n",
       "        14395400.,  16290300.,  21521000.,  17885200.,  16188000.,\n",
       "        19504300.,  12718000.,  16192700.,  18138800.,  16824200.])"
      ]
     },
     "execution_count": 13,
     "metadata": {},
     "output_type": "execute_result"
    },
    {
     "data": {
      "text/plain": [
       "350.58954935320088"
      ]
     },
     "execution_count": 13,
     "metadata": {},
     "output_type": "execute_result"
    }
   ],
   "source": [
    "c,v = np.loadtxt('data.csv',delimiter=',',usecols=(6,7),unpack=True)\n",
    "c\n",
    "v\n",
    "vwap1 = np.average(c,weights=v)\n",
    "vwap1\n"
   ]
  },
  {
   "cell_type": "markdown",
   "metadata": {},
   "source": [
    "### 3.6.1 算术平均值函数"
   ]
  },
  {
   "cell_type": "code",
   "execution_count": 14,
   "metadata": {},
   "outputs": [
    {
     "data": {
      "text/plain": [
       "array([ 336.1 ,  339.32,  345.03,  344.32,  343.44,  346.5 ,  351.88,\n",
       "        355.2 ,  358.16,  354.54,  356.85,  359.18,  359.9 ,  363.13,\n",
       "        358.3 ,  350.56,  338.61,  342.62,  342.88,  348.16,  353.21,\n",
       "        349.31,  352.12,  359.56,  360.  ,  355.36,  355.76,  352.47,\n",
       "        346.67,  351.99])"
      ]
     },
     "execution_count": 14,
     "metadata": {},
     "output_type": "execute_result"
    },
    {
     "data": {
      "text/plain": [
       "351.03766666666672"
      ]
     },
     "execution_count": 14,
     "metadata": {},
     "output_type": "execute_result"
    }
   ],
   "source": [
    "c \n",
    "np.average(c)"
   ]
  },
  {
   "cell_type": "markdown",
   "metadata": {},
   "source": [
    "### 3.6.2 时间加权平均价格\n",
    "TWAP（Time-Weighted Average Price，时间加权平均价格）是另一种“平均”\n",
    "价格的指标。既然我们已经计算了VWAP，那也来计算一下TWAP吧。其实TWAP只是一个变种\n",
    "而已，基本的思想就是最近的价格重要性大一些，所以我们应该对近期的价格给以较高的权重。\n",
    "最简单的方法就是用arange函数创建一个从0开始依次增长的自然数序列，自然数的个数即为收\n",
    "盘价的个数。当然，这并不一定是正确的计算TWAP的方式。事实上，本书中关于股价分析的大\n",
    "部分示例都仅仅是为了说明问题。"
   ]
  },
  {
   "cell_type": "code",
   "execution_count": 17,
   "metadata": {},
   "outputs": [
    {
     "data": {
      "text/plain": [
       "352.42832183908041"
      ]
     },
     "execution_count": 17,
     "metadata": {},
     "output_type": "execute_result"
    }
   ],
   "source": [
    "t = np.arange(len(c))\n",
    "np.average(c,weights=t)  ###直接不指定参数就敲进去t,是怎么想的？不仔细看错误提示，胡乱试错不是浪费时间么？"
   ]
  },
  {
   "cell_type": "markdown",
   "metadata": {},
   "source": [
    "## 3.7 取值范围"
   ]
  },
  {
   "cell_type": "markdown",
   "metadata": {},
   "source": [
    "(1) 首先，需要再次读入数据，将每日最高价和最低价的数据载入数组\n",
    "\n",
    "(2)求出最大最小值，即可获取价格区间："
   ]
  },
  {
   "cell_type": "code",
   "execution_count": 18,
   "metadata": {},
   "outputs": [
    {
     "name": "stdout",
     "output_type": "stream",
     "text": [
      "价格区间：[ 333.5300 , 364.9000]\n"
     ]
    }
   ],
   "source": [
    "h,l=np.loadtxt('data.csv',delimiter=',',usecols=(4,5),unpack=True)\n",
    "print(\"价格区间：[ %.4f , %.4f]\"%(np.min(l),np.max(h)))"
   ]
  },
  {
   "cell_type": "markdown",
   "metadata": {},
   "source": [
    "(3) NumPy中有一个ptp函数可以计算数组的取值范围。该函数返回的是数组元素的最大值\n",
    "和最小值之间的差值"
   ]
  },
  {
   "cell_type": "code",
   "execution_count": 21,
   "metadata": {},
   "outputs": [
    {
     "name": "stdout",
     "output_type": "stream",
     "text": [
      "high price 的 最大-最小值 =  24.86\n",
      "low  price 的 最大-最小值 =  26.97\n",
      "        price 的 最大-最小值 =  31.37\n"
     ]
    },
    {
     "data": {
      "text/plain": [
       "True"
      ]
     },
     "execution_count": 21,
     "metadata": {},
     "output_type": "execute_result"
    }
   ],
   "source": [
    "print('high price 的 最大-最小值 = ',np.ptp(h))\n",
    "print('low  price 的 最大-最小值 = ',np.ptp(l))\n",
    "print('        price 的 最大-最小值 = ',np.ptp((h,l))) ##ptp的传递需要包一起，而且括号问题别少！\n",
    "np.ptp((h,l)) == np.max(h) -np.min(l)"
   ]
  },
  {
   "cell_type": "markdown",
   "metadata": {},
   "source": [
    "## 3.9 统计分析\n",
    "\n",
    "股票交易者对于收盘价的预测很感兴趣。常识告诉我们，这个价格应该接近于某种均值。算\n",
    "数平均值和加权平均值都是在数值分布中寻找中心点的方法。\n",
    "然而，它们对于异常值（outlier）\n",
    "既不鲁棒也不敏感。\n",
    "\n",
    "\n",
    "我们可以用一些阈值来除去异常值，但其实有更好的方法，那就是中位数。\n"
   ]
  },
  {
   "cell_type": "markdown",
   "metadata": {},
   "source": [
    "(1) 计算收盘价的中位数。\n",
    "\n",
    "(2) 一个叫做median的函数将帮助我们找到中位数。\n",
    "\n",
    "(3) 既然这是我们首次使用median函数，我们来检查一下结果是否正确。"
   ]
  },
  {
   "cell_type": "raw",
   "metadata": {},
   "source": [
    "# c =np.loadtxt('data.csv',delimiter=',',usecols=(6),unpack=True)\n",
    "print('价格中位数是：',np.median(c))\n",
    "print('校验值1：',c[int(len(c)/2)])   #若数组个数是奇数，那么中位数毫无疑问是中间的\n",
    "print('校验值2：',(c[int(len(c)/2 - 0.5)]+c[int(len(c)/2 +0.5)])/2)   #若数组个数是偶数，那么中位数是中间两个的平均值"
   ]
  },
  {
   "cell_type": "code",
   "execution_count": 23,
   "metadata": {},
   "outputs": [
    {
     "name": "stdout",
     "output_type": "stream",
     "text": [
      "价格中位数是： 352.055\n",
      "校验值1： 352.12\n",
      "校验值2： 352.055\n"
     ]
    }
   ],
   "source": [
    "# c =np.loadtxt('data.csv',delimiter=',',usecols=(6),unpack=True)\n",
    "print('价格中位数是：',np.median(c))             #若数组个数是奇数，那么中位数毫无疑问是中间的\n",
    "print('校验值1：',np.msort(c)[int(len(c)/2)])   ###得先排序啊！不排序就去取中间值是怎么想的啊？！\n",
    "print('校验值2：',(np.msort(c)[int(len(c)/2 - 0.5)]+np.msort(c)[int(len(c)/2 +0.5)])/2)   #若数组个数是偶数，那么中位数是中间两个的平均值"
   ]
  },
  {
   "cell_type": "markdown",
   "metadata": {},
   "source": [
    "(5) 另外一个我们关心的统计量就是方差。\n",
    "这里方差的定义可能与你在统计学的书中看到的不一致，但这个定义在统计学上更为通用。\n",
    "一些书里面告诉我们，应该用数据个数减1去除离差平方和。"
   ]
  },
  {
   "cell_type": "code",
   "execution_count": 27,
   "metadata": {},
   "outputs": [
    {
     "name": "stdout",
     "output_type": "stream",
     "text": [
      "价格的方差是： 50.1265178889\n",
      "验证值1： 50.1265178889\n",
      "价格的方差2是： 51.8550185057\n",
      "验证值2： 51.8550185057\n"
     ]
    }
   ],
   "source": [
    "#要清楚numpy的方差是如何计算\n",
    "print('价格的方差是：',np.var(c))                    #等价于np.var(c,ddof=0)\n",
    "print('验证值1：', np.sum((c-np.mean(c))**2)/len(c))      #同上，\n",
    "###压根没记清楚方差的计算公式啊，这玩意儿还要查？而且方差不需要开方的啊！那是标准差啊！\n",
    "print('价格的方差2是：',np.var(c,ddof=1))\n",
    "print('验证值2：',np.sum((c-np.mean(c))**2)/(len(c)-1))   # 无偏估计"
   ]
  },
  {
   "cell_type": "markdown",
   "metadata": {},
   "source": [
    "## 3.11 股票收益率\n",
    "在学术文献中，收盘价的分析常常是基于股票收益率和对数收益率的。投资者最感兴趣的是收益率的方差或标准差，因为这代表着投资风险的大小。"
   ]
  },
  {
   "cell_type": "markdown",
   "metadata": {},
   "source": [
    "(1) 首先，我们来计算简单收益率。"
   ]
  },
  {
   "cell_type": "code",
   "execution_count": 28,
   "metadata": {},
   "outputs": [
    {
     "data": {
      "text/plain": [
       "array([ 336.1 ,  339.32,  345.03,  344.32,  343.44,  346.5 ,  351.88,\n",
       "        355.2 ,  358.16,  354.54,  356.85,  359.18,  359.9 ,  363.13,\n",
       "        358.3 ,  350.56,  338.61,  342.62,  342.88,  348.16,  353.21,\n",
       "        349.31,  352.12,  359.56,  360.  ,  355.36,  355.76,  352.47,\n",
       "        346.67])"
      ]
     },
     "execution_count": 28,
     "metadata": {},
     "output_type": "execute_result"
    },
    {
     "data": {
      "text/plain": [
       "array([  3.22,   5.71,  -0.71,  -0.88,   3.06,   5.38,   3.32,   2.96,\n",
       "        -3.62,   2.31,   2.33,   0.72,   3.23,  -4.83,  -7.74, -11.95,\n",
       "         4.01,   0.26,   5.28,   5.05,  -3.9 ,   2.81,   7.44,   0.44,\n",
       "        -4.64,   0.4 ,  -3.29,  -5.8 ,   5.32])"
      ]
     },
     "execution_count": 28,
     "metadata": {},
     "output_type": "execute_result"
    },
    {
     "data": {
      "text/plain": [
       "array([ 0.00958048,  0.01682777, -0.00205779, -0.00255576,  0.00890985,\n",
       "        0.0155267 ,  0.00943503,  0.00833333, -0.01010721,  0.00651548,\n",
       "        0.00652935,  0.00200457,  0.00897472, -0.01330102, -0.02160201,\n",
       "       -0.03408832,  0.01184253,  0.00075886,  0.01539897,  0.01450483,\n",
       "       -0.01104159,  0.00804443,  0.02112916,  0.00122372, -0.01288889,\n",
       "        0.00112562, -0.00924781, -0.0164553 ,  0.01534601])"
      ]
     },
     "execution_count": 28,
     "metadata": {},
     "output_type": "execute_result"
    },
    {
     "name": "stdout",
     "output_type": "stream",
     "text": [
      "标准差： 0.0129221344368\n"
     ]
    }
   ],
   "source": [
    "# 收益率 = （每日收盘价 - 前一日收盘价）/前一日收盘价 =np.diff(c) / c[:-1]\n",
    "# 风险 = std(收益率)\n",
    "c=np.loadtxt('data.csv',delimiter=',',usecols=(6))\n",
    "c[:-1]\n",
    "np.diff(c)             #收益 = 元素[n] - 元素[n-1]\n",
    "returns =np.diff(c)/c[:-1]    #收益率\n",
    "returns\n",
    "print('标准差：',np.std(returns))"
   ]
  },
  {
   "cell_type": "markdown",
   "metadata": {},
   "source": [
    "(2) 对数收益率计算起来甚至更简单一些。我们先用log函数得到每一个收盘价的对数，再\n",
    "对结果使用diff函数即可"
   ]
  },
  {
   "cell_type": "code",
   "execution_count": 30,
   "metadata": {},
   "outputs": [
    {
     "data": {
      "text/plain": [
       "array([ 0.00953488,  0.01668775, -0.00205991, -0.00255903,  0.00887039,\n",
       "        0.01540739,  0.0093908 ,  0.0082988 , -0.01015864,  0.00649435,\n",
       "        0.00650813,  0.00200256,  0.00893468, -0.01339027, -0.02183875,\n",
       "       -0.03468287,  0.01177296,  0.00075857,  0.01528161,  0.01440064,\n",
       "       -0.011103  ,  0.00801225,  0.02090904,  0.00122297, -0.01297267,\n",
       "        0.00112499, -0.00929083, -0.01659219,  0.01522945])"
      ]
     },
     "execution_count": 30,
     "metadata": {},
     "output_type": "execute_result"
    },
    {
     "name": "stdout",
     "output_type": "stream",
     "text": [
      "log收益率标准差： 0.0129718356411\n"
     ]
    }
   ],
   "source": [
    "# log收益率 = log(前一日收盘价/今日收盘价)  = log(前一日收盘价) -log(今日收盘价)\n",
    "logreturns = np.diff(np.log(c))   ##log收益率不需要再除c，没弄明白log收益率的含义啊！\n",
    "logreturns\n",
    "print('log收益率标准差：', np.std(logreturns))"
   ]
  },
  {
   "cell_type": "markdown",
   "metadata": {},
   "source": [
    "(3) 我们很可能对哪些交易日的收益率为正值非常感兴趣。"
   ]
  },
  {
   "cell_type": "code",
   "execution_count": 32,
   "metadata": {},
   "outputs": [
    {
     "data": {
      "text/plain": [
       "array([ 0,  1,  4,  5,  6,  7,  9, 10, 11, 12, 16, 17, 18, 19, 21, 22, 23,\n",
       "       25, 28])"
      ]
     },
     "execution_count": 32,
     "metadata": {},
     "output_type": "execute_result"
    },
    {
     "name": "stdout",
     "output_type": "stream",
     "text": [
      "收益率>0的天数为 (array([ 0,  1,  4,  5,  6,  7,  9, 10, 11, 12, 16, 17, 18, 19, 21, 22, 23,\n",
      "       25, 28]),)\n"
     ]
    },
    {
     "data": {
      "text/plain": [
       "(array([ 0,  1,  4,  5,  6,  7,  9, 10, 11, 12, 16, 17, 18, 19, 21, 22, 23,\n",
       "        25, 28]),)"
      ]
     },
     "execution_count": 32,
     "metadata": {},
     "output_type": "execute_result"
    },
    {
     "data": {
      "text/plain": [
       "[0, 1, 4, 5, 6, 7, 9, 10, 11, 12, 16, 17, 18, 19, 21, 22, 23, 25, 28]"
      ]
     },
     "execution_count": 32,
     "metadata": {},
     "output_type": "execute_result"
    },
    {
     "data": {
      "text/plain": [
       "True"
      ]
     },
     "execution_count": 32,
     "metadata": {},
     "output_type": "execute_result"
    }
   ],
   "source": [
    "#python写法\n",
    "np.array([i for i in range(len(returns)) if returns[i]>0  ])\n",
    "##renge是什么鬼？为什么不先检查，觉得太简单，不会错？就那么轻易的执行了？\n",
    "\n",
    "#numpy写法\n",
    "#当然用where的写法是：\n",
    "ind = np.where(returns>0)\n",
    "print('收益率>0的天数为',ind )\n",
    "\n",
    "ind\n",
    "#等价于：\n",
    "ii = [i for i in range(len(c)-1) if returns[i] > 0]\n",
    "ii\n",
    "ii==ind[0].tolist()\n",
    "\n"
   ]
  },
  {
   "cell_type": "markdown",
   "metadata": {},
   "source": [
    "(4) 在投资学中，波动率（volatility）是对价格变动的一种度量。历史波动率可以根据历史价\n",
    "格数据计算得出。计算历史波动率（如年波动率或月波动率）时，需要用到对数收益率。年波动\n",
    "率等于对数收益率的标准差除以其均值，再除以交易日倒数的平方根，通常交易日取252天。"
   ]
  },
  {
   "cell_type": "code",
   "execution_count": 33,
   "metadata": {},
   "outputs": [
    {
     "name": "stdout",
     "output_type": "stream",
     "text": [
      "年波动率： 129.274789911\n"
     ]
    }
   ],
   "source": [
    "print('年波动率：', np.std(logreturns)/np.mean(logreturns)*np.sqrt(252)) #log收益的方差/均值×开方（252）"
   ]
  },
  {
   "cell_type": "markdown",
   "metadata": {},
   "source": [
    "(5) 与计算年波动率的方法类似,计算月波动率如下"
   ]
  },
  {
   "cell_type": "code",
   "execution_count": 34,
   "metadata": {},
   "outputs": [
    {
     "name": "stdout",
     "output_type": "stream",
     "text": [
      "月波动率： 28.2100719151\n"
     ]
    }
   ],
   "source": [
    "print('月波动率：',np.std(logreturns)/np.mean(logreturns)*np.sqrt(12) ) #log收益的方差/均值×开方（12）"
   ]
  },
  {
   "cell_type": "markdown",
   "metadata": {},
   "source": [
    "## 3.13 日期分析\n",
    "\n",
    "你是否有时候会有星期一焦虑症和星期五狂躁症?想知道股票市场是否受上述现象的影\n",
    "响?\n",
    "首先,我们要读入收盘价数据。随后,根据星期几来切分收盘价数据,并分别计算平均价格。\n",
    "最后,我们将找出一周中哪一天的平均收盘价最高,哪一天的最低。"
   ]
  },
  {
   "cell_type": "markdown",
   "metadata": {},
   "source": [
    "(1)NumPy是面向浮点数运算的,因此需要对日期做一些专门的处理。这个参数就是 converters ,它是一本\n",
    "数据列和转换函数之间进行映射的字典。\n",
    "\n",
    "为此,我们必须写出转换函数:"
   ]
  },
  {
   "cell_type": "code",
   "execution_count": 36,
   "metadata": {},
   "outputs": [],
   "source": [
    "def datestr2num(s):\n",
    "    import datetime\n",
    "    return datetime.datetime.strptime(s, \"%d-%m-%Y\").date().weekday()\n",
    "dates = np.loadtxt('data.csv',delimiter=',',dtype='str',usecols=(1))\n",
    "weekdays = np.array([datestr2num(x[2:-1]) for x in dates])\n",
    "close = np.loadtxt('data.csv',delimiter=',',usecols=(6))\n",
    "dates = weekdays\n",
    "#原来的语句报错,但一直无法找寻原因:dates, close=np.loadtxt('data.csv', delimiter=',', usecols=(1,6), converters={1:datestr2num}, unpack=True) "
   ]
  },
  {
   "cell_type": "markdown",
   "metadata": {},
   "source": [
    "(3) 我们来创建一个包含5个元素的数组,分别代表一周的5个工作日。这个数组将用于保存各工作日的平均收盘价。"
   ]
  },
  {
   "cell_type": "code",
   "execution_count": 38,
   "metadata": {},
   "outputs": [
    {
     "name": "stdout",
     "output_type": "stream",
     "text": [
      "周一到周五的平均收盘价格: [ 351.79        350.635       352.13666667  350.89833333  350.02285714]\n"
     ]
    },
    {
     "data": {
      "text/plain": [
       "array([ 351.79      ,  350.635     ,  352.13666667,  350.89833333,\n",
       "        350.02285714])"
      ]
     },
     "execution_count": 38,
     "metadata": {},
     "output_type": "execute_result"
    },
    {
     "data": {
      "text/plain": [
       "array([ True,  True,  True,  True,  True], dtype=bool)"
      ]
     },
     "execution_count": 38,
     "metadata": {},
     "output_type": "execute_result"
    }
   ],
   "source": [
    "averages = np.zeros(5)\n",
    "for i in range(5):\n",
    "    index =  np.where(weekdays==i)         ## 对close==i是什么鬼？要找的是weekdays啊！\n",
    "    averages[i]=  np.average(close[index])\n",
    "print('周一到周五的平均收盘价格:',averages)\n",
    "#检验:\n",
    "averages2 = np.zeros(5)\n",
    "for i in range(5):\n",
    "    index =  np.where(weekdays==i)\n",
    "    avg = 0\n",
    "    for j in range(len(index[0])):\n",
    "        avg += close[index[0][j]]\n",
    "    averages2[i] = avg/len(index[0])\n",
    "averages2\n",
    "\n",
    "averages==averages2\n"
   ]
  },
  {
   "cell_type": "markdown",
   "metadata": {},
   "source": [
    "(5) 如果你愿意,还可以找出哪个工作日的平均收盘价是最高的,哪个是最低的。"
   ]
  },
  {
   "cell_type": "code",
   "execution_count": 39,
   "metadata": {},
   "outputs": [
    {
     "name": "stdout",
     "output_type": "stream",
     "text": [
      "平均收盘价最高的星期是: 2 ,价格是: 352.136666667\n",
      "平均收盘价最低的星期是: 4 ,价格是: 350.022857143\n",
      "平均收盘价最高的星期是: (array([2]),)\n",
      "平均收盘价最低的星期是: (array([4]),)\n"
     ]
    }
   ],
   "source": [
    "print('平均收盘价最高的星期是:', np.argmax(averages),',价格是:',np.max(averages) )\n",
    "print('平均收盘价最低的星期是:', np.argmin(averages),',价格是:',np.min(averages) )\n",
    "#校验:\n",
    "print('平均收盘价最高的星期是:', np.where(averages==np.max(averages)))\n",
    "print('平均收盘价最低的星期是:', np.where(averages==np.min(averages)))"
   ]
  },
  {
   "cell_type": "markdown",
   "metadata": {},
   "source": [
    "## 3.15 周汇总\n",
    "\n",
    "我们将要汇总整个交易周中从周一到周五的所有数据。\n",
    "\n",
    "(1) 为了简单起见,我们只考虑前三周的数据,这样就避免了节假日造成的数据缺失。\n"
   ]
  },
  {
   "cell_type": "code",
   "execution_count": 40,
   "metadata": {},
   "outputs": [
    {
     "data": {
      "text/plain": [
       "array([4, 0, 1, 2, 3, 4, 0, 1, 2, 3, 4, 0, 1, 2, 3, 4])"
      ]
     },
     "execution_count": 40,
     "metadata": {},
     "output_type": "execute_result"
    },
    {
     "data": {
      "text/plain": [
       "array([ 336.1 ,  339.32,  345.03,  344.32,  343.44,  346.5 ,  351.88,\n",
       "        355.2 ,  358.16,  354.54,  356.85,  359.18,  359.9 ,  363.13,\n",
       "        358.3 ,  350.56])"
      ]
     },
     "execution_count": 40,
     "metadata": {},
     "output_type": "execute_result"
    }
   ],
   "source": [
    "open, high, low, close=np.loadtxt('data.csv', delimiter=',', usecols=(3, 4, 5, 6), unpack=True)\n",
    "close=close[:16]\n",
    "dates=dates[:16]\n",
    "dates\n",
    "close"
   ]
  },
  {
   "cell_type": "markdown",
   "metadata": {},
   "source": [
    "(2) 首先我们来找到示例数据中的第一个星期一。回忆一下,在Python中星期一对应的编码是0,这可以作为 where 函数的条件。接着,我们要取出数组中的首个元素,其索引值为0。但 where函数返回的结果是一个多维数组,因此要用 ravel 函数将其展平。"
   ]
  },
  {
   "cell_type": "code",
   "execution_count": 44,
   "metadata": {},
   "outputs": [
    {
     "name": "stdout",
     "output_type": "stream",
     "text": [
      "第1个星期一,位于: 1\n"
     ]
    }
   ],
   "source": [
    "first_monday = np.ravel(np.where(dates==0))[0] ##前面已经做了转换，将weekdays赋值给dates！\n",
    "print('第1个星期一,位于:',first_monday)"
   ]
  },
  {
   "cell_type": "markdown",
   "metadata": {},
   "source": [
    "(3) 下面要做的是找到示例数据的最后一个星期五,方法和找第一个星期一类似。"
   ]
  },
  {
   "cell_type": "code",
   "execution_count": 45,
   "metadata": {},
   "outputs": [
    {
     "name": "stdout",
     "output_type": "stream",
     "text": [
      "最后一个星期五,位于: 15\n"
     ]
    }
   ],
   "source": [
    "last_friday =  np.ravel(np.where(dates==4))[-1]  \n",
    "##前面已经做了转换，将weekdays赋值给dates！前面没有报错实在是bug！而且周五是4！\n",
    "print('最后一个星期五,位于:',last_friday)"
   ]
  },
  {
   "cell_type": "markdown",
   "metadata": {},
   "source": [
    "接下来创建一个数组,用于存储三周内每一天的索引值。"
   ]
  },
  {
   "cell_type": "code",
   "execution_count": 46,
   "metadata": {},
   "outputs": [
    {
     "data": {
      "text/plain": [
       "array([ 1,  2,  3,  4,  5,  6,  7,  8,  9, 10, 11, 12, 13, 14, 15])"
      ]
     },
     "execution_count": 46,
     "metadata": {},
     "output_type": "execute_result"
    }
   ],
   "source": [
    "weeks_indices =  np.arange(1,16)\n",
    "weeks_indices"
   ]
  },
  {
   "cell_type": "markdown",
   "metadata": {},
   "source": [
    "(4) 按照每个子数组5个元素,用 split 函数切分数组"
   ]
  },
  {
   "cell_type": "code",
   "execution_count": 47,
   "metadata": {},
   "outputs": [
    {
     "data": {
      "text/plain": [
       "[array([1, 2, 3, 4, 5]),\n",
       " array([ 6,  7,  8,  9, 10]),\n",
       " array([11, 12, 13, 14, 15])]"
      ]
     },
     "execution_count": 47,
     "metadata": {},
     "output_type": "execute_result"
    }
   ],
   "source": [
    "weeks_indices =  np.split(weeks_indices,3)\n",
    "weeks_indices"
   ]
  },
  {
   "cell_type": "markdown",
   "metadata": {},
   "source": [
    "(5) 在NumPy中,数组的维度也被称作轴。现在我们来熟悉一下 apply_along_axis 函数。\n",
    "这个函数会调用另外一个由我们给出的函数,作用于每一个数组元素上。目前我们的数组中有3\n",
    "个元素,分别对应于示例数据中的3个星期,元素中的索引值对应于示例数据中的1天。在调用\n",
    "apply_along_axis 时提供我们自定义的函数名 summarize ,并指定要作用的轴或维度的编号\n",
    "(如取1)、目标数组以及可变数量的 summarize 函数的参数。"
   ]
  },
  {
   "cell_type": "code",
   "execution_count": 50,
   "metadata": {},
   "outputs": [
    {
     "data": {
      "text/plain": [
       "array([['APPL', '335.8', '346.7', '334.3', '346.5'],\n",
       "       ['APPL', '347.8', '360.0', '347.6', '356.8'],\n",
       "       ['APPL', '356.7', '364.9', '349.5', '350.5']], \n",
       "      dtype='<U5')"
      ]
     },
     "execution_count": 50,
     "metadata": {},
     "output_type": "execute_result"
    }
   ],
   "source": [
    "def summarize(a, o, h, l, c):\n",
    "    monday_open  = o[a[0]]   ## o(a[0]) 是个什么鬼？！\n",
    "    week_high = np.max(h[a])  ## np.max(h) 又是干嘛？算出结果都一样，做神马？\n",
    "    week_low  = np.min(l[a])\n",
    "    friday_close = c[a[4]]\n",
    "    return(\"APPL\", monday_open, week_high, week_low, friday_close)\n",
    "\n",
    "weeksummary =  np.apply_along_axis(summarize,1,weeks_indices,open, high, low, close)\n",
    "weeksummary\n"
   ]
  },
  {
   "cell_type": "markdown",
   "metadata": {},
   "source": [
    "## 3.17 常用函数真实波动幅度均值(ATR)\n",
    "\n",
    "ATR(Average True Range,真实波动幅度均值)是一个用来衡量股价波动性的技术指标。\n",
    "ATR的计算并不是重点,只是作为演示几个NumPy函数的例子,包括 maximum 函数。"
   ]
  },
  {
   "cell_type": "markdown",
   "metadata": {
    "collapsed": true
   },
   "source": [
    "(1) ATR是基于N个交易日的最高价和最低价进行计算的,通常取最近20个交易日。"
   ]
  },
  {
   "cell_type": "code",
   "execution_count": 51,
   "metadata": {},
   "outputs": [
    {
     "data": {
      "text/plain": [
       "array([ 355.05,  355.72,  354.35,  359.79,  360.29,  361.67,  357.4 ,\n",
       "        354.76,  349.77,  352.32])"
      ]
     },
     "execution_count": 51,
     "metadata": {},
     "output_type": "execute_result"
    },
    {
     "data": {
      "text/plain": [
       "array([ 351.12,  347.68,  348.4 ,  355.92,  357.75,  351.31,  352.25,\n",
       "        350.6 ,  344.9 ,  345.  ])"
      ]
     },
     "execution_count": 51,
     "metadata": {},
     "output_type": "execute_result"
    }
   ],
   "source": [
    "N = 10\n",
    "h = high[-N:] \n",
    "l = low[-N:] \n",
    "h\n",
    "l"
   ]
  },
  {
   "cell_type": "markdown",
   "metadata": {},
   "source": [
    "(2) 我们还需要知道前一个交易日的收盘价。"
   ]
  },
  {
   "cell_type": "code",
   "execution_count": 53,
   "metadata": {},
   "outputs": [
    {
     "data": {
      "text/plain": [
       "array([ 348.16,  353.21,  349.31,  352.12,  359.56,  360.  ,  355.36,\n",
       "        355.76,  352.47,  346.67])"
      ]
     },
     "execution_count": 53,
     "metadata": {},
     "output_type": "execute_result"
    },
    {
     "data": {
      "text/plain": [
       "array([ 336.1 ,  339.32,  345.03,  344.32,  343.44,  346.5 ,  351.88,\n",
       "        355.2 ,  358.16,  354.54,  356.85,  359.18,  359.9 ,  363.13,\n",
       "        358.3 ,  350.56,  338.61,  342.62,  342.88,  348.16,  353.21,\n",
       "        349.31,  352.12,  359.56,  360.  ,  355.36,  355.76,  352.47,\n",
       "        346.67,  351.99])"
      ]
     },
     "execution_count": 53,
     "metadata": {},
     "output_type": "execute_result"
    }
   ],
   "source": [
    "previousclose = c[-N-1:-1] ## close 已经是处理过的数据啦！下次用完的时候，最好del免得报错\n",
    "previousclose \n",
    "c"
   ]
  },
  {
   "cell_type": "markdown",
   "metadata": {},
   "source": [
    "(3) max 函数返回所有数组中的最大值。maximum 返回所有数组同一切片下的最大值。\n",
    "\n",
    "h-l 当日股价范围,即当日最高价和最低价之差。\n",
    "\n",
    "h – previousclose 当日最高价和前一个交易日收盘价之差。\n",
    "\n",
    "previousclose – l 前一个交易日收盘价和当日最低价之差。"
   ]
  },
  {
   "cell_type": "code",
   "execution_count": 54,
   "metadata": {},
   "outputs": [
    {
     "data": {
      "text/plain": [
       "array([  6.89,   8.04,   5.95,   7.67,   2.54,  10.36,   5.15,   4.16,\n",
       "         4.87,   7.32])"
      ]
     },
     "execution_count": 54,
     "metadata": {},
     "output_type": "execute_result"
    }
   ],
   "source": [
    "truerange =  np.maximum(h-l,h-previousclose,previousclose-l)\n",
    "truerange"
   ]
  },
  {
   "cell_type": "markdown",
   "metadata": {},
   "source": [
    "(4) 创建一个长度为 N 的数组 atr ,并初始化数组元素为0。"
   ]
  },
  {
   "cell_type": "code",
   "execution_count": 55,
   "metadata": {
    "collapsed": true
   },
   "outputs": [],
   "source": [
    "atr =  np.zeros(N)"
   ]
  },
  {
   "cell_type": "markdown",
   "metadata": {},
   "source": [
    "(5) 这个数组的首个元素就是 truerange 数组元素的平均值。\n",
    "\n",
    "这里,PATR表示前一个交易日的ATR值,TR即当日的真实波动幅度\n"
   ]
  },
  {
   "cell_type": "code",
   "execution_count": 58,
   "metadata": {},
   "outputs": [
    {
     "data": {
      "text/plain": [
       "array([ 6.295     ,  6.4695    ,  6.41755   ,  6.542795  ,  6.1425155 ,\n",
       "        6.56426395,  6.42283756,  6.1965538 ,  6.06389842,  6.18950858])"
      ]
     },
     "execution_count": 58,
     "metadata": {},
     "output_type": "execute_result"
    }
   ],
   "source": [
    "atr[0] = np.average(truerange)\n",
    "for i in range(1, N):\n",
    "    atr[i] = (N-1)*atr[i-1] + truerange[i]  \n",
    "    ### 没搞懂 ATR的含义啊！是计算波动均值，用前一天结果算即可。求np.sum(truerange[:i])是个什么怪胎？\n",
    "    atr[i] /= N\n",
    "atr"
   ]
  },
  {
   "cell_type": "markdown",
   "metadata": {},
   "source": [
    "## 3.19 简单移动平均线\n",
    "\n",
    "移动平均线只需要少量的循环和均值函数即可计算得出,但使用NumPy还有更优的选\n",
    "择—— convolve 函数。简单移动平均线只不过是计算与等权重的指示函数的卷积,当然,也可\n",
    "以是不等权重的。"
   ]
  },
  {
   "cell_type": "markdown",
   "metadata": {},
   "source": [
    "(1) 使用 ones 函数创建一个长度为 N 的元素均初始化为1的数组,然后对整个数组除以 N ,即\n",
    "可得到权重。"
   ]
  },
  {
   "cell_type": "code",
   "execution_count": 59,
   "metadata": {},
   "outputs": [
    {
     "data": {
      "text/plain": [
       "array([ 0.2,  0.2,  0.2,  0.2,  0.2])"
      ]
     },
     "execution_count": 59,
     "metadata": {},
     "output_type": "execute_result"
    }
   ],
   "source": [
    "N=5\n",
    "weights =  np.ones(N)/N\n",
    "weights"
   ]
  },
  {
   "cell_type": "markdown",
   "metadata": {},
   "source": [
    "(2) 使用这些权重值,调用 convolve 函数；\n",
    "\n",
    "convolve卷积公式的作用就是依次迭代的计算weights和c的乘积。"
   ]
  },
  {
   "cell_type": "code",
   "execution_count": 62,
   "metadata": {
    "scrolled": false
   },
   "outputs": [
    {
     "data": {
      "text/plain": [
       "(26,)"
      ]
     },
     "execution_count": 62,
     "metadata": {},
     "output_type": "execute_result"
    },
    {
     "name": "stdout",
     "output_type": "stream",
     "text": [
      "卷积结果长度： 26\n",
      "卷积结果： [ 341.642  343.722  346.234  348.268  351.036  353.256  355.326  356.786\n",
      "  357.726  358.72   359.472  358.214  354.1    350.644  346.594  344.566\n",
      "  345.096  347.236  349.136  352.472  354.84   355.27   356.56   356.63\n",
      "  354.052  352.45 ]\n"
     ]
    }
   ],
   "source": [
    "c = np.loadtxt('data.csv', delimiter=',', usecols=(6,), unpack=True)\n",
    "sma =  np.convolve(c,weights,mode='valid')  ###忘了卷积中的mode名，常用的valid,full,same\n",
    "#等价于\n",
    "# sma1 = \n",
    "# sma == sma1\n",
    "\n",
    "sma.shape\n",
    "cM=weights.shape[0]\n",
    "cN=c.shape[0]\n",
    "print('卷积结果长度：',max(cM, cN) - min(cM, cN) + 1)\n",
    "print('卷积结果：',sma)\n"
   ]
  },
  {
   "cell_type": "markdown",
   "metadata": {},
   "source": [
    "(3) 我们从 convolve 函数返回的数组中,取出中间的长度为N的部分,并使用 Matplotlib 进行绘图。"
   ]
  },
  {
   "cell_type": "code",
   "execution_count": 63,
   "metadata": {
    "scrolled": true
   },
   "outputs": [
    {
     "data": {
      "text/plain": [
       "<matplotlib.figure.Figure at 0x7f855a487f60>"
      ]
     },
     "execution_count": 63,
     "metadata": {},
     "output_type": "execute_result"
    },
    {
     "data": {
      "text/plain": [
       "[<matplotlib.lines.Line2D at 0x7f855056f358>]"
      ]
     },
     "execution_count": 63,
     "metadata": {},
     "output_type": "execute_result"
    },
    {
     "data": {
      "text/plain": [
       "[<matplotlib.lines.Line2D at 0x7f8552c329e8>]"
      ]
     },
     "execution_count": 63,
     "metadata": {},
     "output_type": "execute_result"
    },
    {
     "data": {
      "text/plain": [
       "<matplotlib.legend.Legend at 0x7f857f18f2b0>"
      ]
     },
     "execution_count": 63,
     "metadata": {},
     "output_type": "execute_result"
    },
    {
     "data": {
      "image/png": "[encoded data removed]",
      "text/plain": [
       "<matplotlib.figure.Figure at 0x7f855a487f60>"
      ]
     },
     "metadata": {},
     "output_type": "display_data"
    }
   ],
   "source": [
    "import matplotlib.pylab as plt\n",
    "%matplotlib inline\n",
    " \n",
    "t = np.arange(len(sma))\n",
    " \n",
    "plt.figure(figsize=(8,4))\n",
    "plt.plot(t,c[N-1:],\"b--\",lw=1.0,label=\"c\")\n",
    "plt.plot(t,sma,\"b--\",lw=2.0,label=\"sma_\"+str(N))\n",
    "plt.legend()\n",
    "plt.show()"
   ]
  },
  {
   "cell_type": "markdown",
   "metadata": {},
   "source": [
    "我们计算出了收盘价数据的简单移动平均线。是的,你掌握了很重要的知识,那就是简单移\n",
    "动平均线可以用信号处理技术求解——与1/N的权重进行卷积运算, N为移动平均窗口的大小。我\n",
    "们还学习了 ones 函数的用法,即可以创建元素均为1的数组,以及 convolve 函数,计算一组数\n",
    "据与指定权重的卷积。"
   ]
  },
  {
   "cell_type": "markdown",
   "metadata": {},
   "source": [
    "关于卷积的简单例子："
   ]
  },
  {
   "cell_type": "code",
   "execution_count": 36,
   "metadata": {},
   "outputs": [
    {
     "data": {
      "text/plain": [
       "array([1, 3, 6, 9, 7, 4])"
      ]
     },
     "execution_count": 36,
     "metadata": {},
     "output_type": "execute_result"
    },
    {
     "data": {
      "text/plain": [
       "array([3, 6, 9, 7])"
      ]
     },
     "execution_count": 36,
     "metadata": {},
     "output_type": "execute_result"
    },
    {
     "data": {
      "text/plain": [
       "array([6, 9])"
      ]
     },
     "execution_count": 36,
     "metadata": {},
     "output_type": "execute_result"
    },
    {
     "data": {
      "text/plain": [
       "<matplotlib.figure.Figure at 0x7f46749ac400>"
      ]
     },
     "execution_count": 36,
     "metadata": {},
     "output_type": "execute_result"
    },
    {
     "data": {
      "text/plain": [
       "[<matplotlib.lines.Line2D at 0x7f467163ba20>]"
      ]
     },
     "execution_count": 36,
     "metadata": {},
     "output_type": "execute_result"
    },
    {
     "data": {
      "text/plain": [
       "[<matplotlib.lines.Line2D at 0x7f46716e5390>]"
      ]
     },
     "execution_count": 36,
     "metadata": {},
     "output_type": "execute_result"
    },
    {
     "data": {
      "text/plain": [
       "[<matplotlib.lines.Line2D at 0x7f46715c4cc0>]"
      ]
     },
     "execution_count": 36,
     "metadata": {},
     "output_type": "execute_result"
    },
    {
     "data": {
      "text/plain": [
       "[<matplotlib.lines.Line2D at 0x7f46715d3400>]"
      ]
     },
     "execution_count": 36,
     "metadata": {},
     "output_type": "execute_result"
    },
    {
     "data": {
      "text/plain": [
       "[<matplotlib.lines.Line2D at 0x7f46715d3c88>]"
      ]
     },
     "execution_count": 36,
     "metadata": {},
     "output_type": "execute_result"
    },
    {
     "data": {
      "text/plain": [
       "<matplotlib.legend.Legend at 0x7f46715d3c18>"
      ]
     },
     "execution_count": 36,
     "metadata": {},
     "output_type": "execute_result"
    },
    {
     "data": {
      "image/png": "[encoded data removed]",
      "text/plain": [
       "<matplotlib.figure.Figure at 0x7f46749ac400>"
      ]
     },
     "metadata": {},
     "output_type": "display_data"
    }
   ],
   "source": [
    "a=np.array([1,2,3,4])\n",
    "b=np.array([1,1,1])\n",
    "np.convolve(a,b,'full')    # default:乘积的所有结果，个数：(N+M-1,)\n",
    "np.convolve(a,b,'same')    # 任意两层有相交的结果，个数：max(M, N)\n",
    "np.convolve(a,b,'valid')   # 所有层都相交的结果，两者做卷积完全重叠的区域，个数：max(M, N) - min(M, N) + 1\n",
    "# 1 2 3 4 \n",
    "#   1 2 3 4\n",
    "#     1 2 3 4\n",
    "\n",
    "#=1 3 6 9 7 4    = full\n",
    "#=  3 6 9 7      = same\n",
    "#=    6 9        = valid\n",
    "\n",
    "import matplotlib.pylab as plt\n",
    "%matplotlib inline\n",
    "\n",
    "# plt.plot(x,y,label=\"$sin(x)$\",color=\"red\",linewidth=2)\n",
    "# plt.plot(x,z,\"b--\",label=\"$cos(x^2)$\")\n",
    "\n",
    "plt.figure(figsize=(8,4))\n",
    "plt.plot(a,\"b--\",label=\"a\")\n",
    "plt.plot(b,\"b--\",label=\"b\")\n",
    "plt.plot(np.convolve(a,b,'full'),label='convolve_full')\n",
    "plt.plot(np.convolve(a,b,'same'),label='convolve_same')\n",
    "plt.plot(np.convolve(a,b,'valid'),label='convolve_valid')\n",
    "plt.legend()\n",
    "plt.show()"
   ]
  },
  {
   "cell_type": "markdown",
   "metadata": {},
   "source": [
    "## 3.21 指数移动平均线"
   ]
  },
  {
   "cell_type": "markdown",
   "metadata": {},
   "source": [
    "(1) 还是回到权重的计算——这次使用 exp 和 linspace 函数。"
   ]
  },
  {
   "cell_type": "code",
   "execution_count": 64,
   "metadata": {},
   "outputs": [
    {
     "data": {
      "text/plain": [
       "array([-1.  , -0.75, -0.5 , -0.25,  0.  ])"
      ]
     },
     "execution_count": 64,
     "metadata": {},
     "output_type": "execute_result"
    },
    {
     "data": {
      "text/plain": [
       "array([ 0.36787944,  0.47236655,  0.60653066,  0.77880078,  1.        ])"
      ]
     },
     "execution_count": 64,
     "metadata": {},
     "output_type": "execute_result"
    }
   ],
   "source": [
    "N = 5\n",
    "np.linspace(-1. , 0. , N)\n",
    "weights = np.exp(np.linspace(-1. , 0. , N))\n",
    "weights\n"
   ]
  },
  {
   "cell_type": "markdown",
   "metadata": {},
   "source": [
    "(2) 对权重值做归一化处理。我们将用到 ndarray 对象的 sum 方法。"
   ]
  },
  {
   "cell_type": "code",
   "execution_count": 65,
   "metadata": {
    "collapsed": true
   },
   "outputs": [],
   "source": [
    "weights /=  np.sum(weights)"
   ]
  },
  {
   "cell_type": "markdown",
   "metadata": {},
   "source": [
    "(3) 接下来就很容易了,同样的使用sma的计算方法"
   ]
  },
  {
   "cell_type": "code",
   "execution_count": 66,
   "metadata": {},
   "outputs": [
    {
     "data": {
      "text/plain": [
       "<matplotlib.figure.Figure at 0x7f8559eb3320>"
      ]
     },
     "execution_count": 66,
     "metadata": {},
     "output_type": "execute_result"
    },
    {
     "data": {
      "text/plain": [
       "[<matplotlib.lines.Line2D at 0x7f85504a3358>]"
      ]
     },
     "execution_count": 66,
     "metadata": {},
     "output_type": "execute_result"
    },
    {
     "data": {
      "text/plain": [
       "[<matplotlib.lines.Line2D at 0x7f8550539438>]"
      ]
     },
     "execution_count": 66,
     "metadata": {},
     "output_type": "execute_result"
    },
    {
     "data": {
      "text/plain": [
       "[<matplotlib.lines.Line2D at 0x7f85504a3c88>]"
      ]
     },
     "execution_count": 66,
     "metadata": {},
     "output_type": "execute_result"
    },
    {
     "data": {
      "text/plain": [
       "<matplotlib.legend.Legend at 0x7f85504a3cc0>"
      ]
     },
     "execution_count": 66,
     "metadata": {},
     "output_type": "execute_result"
    },
    {
     "data": {
      "image/png": "[encoded data removed]",
      "text/plain": [
       "<matplotlib.figure.Figure at 0x7f8559eb3320>"
      ]
     },
     "metadata": {},
     "output_type": "display_data"
    }
   ],
   "source": [
    "c = np.loadtxt('data.csv', delimiter=',', usecols=(6,), unpack=True)\n",
    "ema =  np.convolve(c,weights,'valid')\n",
    "\n",
    "import matplotlib.pylab as plt\n",
    "%matplotlib inline\n",
    " \n",
    "t =  np.arange(len(ema))\n",
    " \n",
    "\n",
    "plt.figure(figsize=(8,4))\n",
    "plt.plot(t,c[N-1:],\"b--\",lw=1.0,label=\"c\")\n",
    "plt.plot(t,ema,\"b--\",color='red',lw=2.0,label=\"ema_\"+str(N))\n",
    "plt.plot(t,sma,\"b--\",color='yellow',lw=2.0,label=\"sma_\"+str(N))\n",
    "plt.legend()\n",
    "plt.show()"
   ]
  },
  {
   "cell_type": "markdown",
   "metadata": {},
   "source": [
    "我们对收盘价数据计算了指数移动平均线。首先,我们使用 exp 和 linspace 函数计算出指\n",
    "数衰减的权重值。 linspace 函数返回的是一个元素值均匀分布的数组,随后我们计算出它们的\n",
    "指数。为了将这些权重值归一化,我们调用了 ndarray 对象的 sum 方法。最后,我们再次应用了\n",
    "在前面简单移动平均线一节中学习到的 convolve 函数,最终计算出指数移动平均线。"
   ]
  },
  {
   "cell_type": "markdown",
   "metadata": {},
   "source": [
    "## 3.23 布林带\n",
    "\n",
    "布林带(Bollinger band)又是一种技术指标。是的,股票市场的确有成千上万种技术指标。布林带是以发明者约翰·布林格(John Bollinger)的名字命名的,用以刻画价格波动的区间。布林带的基本型态是由三条轨道线组成的带状通道(中轨和上、下轨各一条)。\n",
    "\n",
    " 中轨 简单移动平均线。\n",
    "\n",
    " 上轨 比简单移动平均线高两倍标准差的距离。这里的标准差是指计算简单移动平均线所用数据的标准差。\n",
    "\n",
    " 下轨 比简单移动平均线低两倍标准差的距离。\n"
   ]
  },
  {
   "cell_type": "markdown",
   "metadata": {},
   "source": [
    "(1) 我们已经有一个名为 sma 的数组,包含了简单移动平均线的数据。因此,我们首先要遍\n",
    "历和这些值有关的数据子集。数据子集构建完成后,计算其标准差。注意,从某种意义上来说,\n",
    "我们必须去计算每一个数据点与相应平均值之间的差值。如果不使用NumPy,我们只能遍历所有\n",
    "的数据点并逐一减去相应的平均值。幸运的是,NumPy中的 fill 函数可以构建元素值完全相同\n",
    "的数组。这可以让我们省去一层循环,当然也就省去了这个循环内作差的步骤。"
   ]
  },
  {
   "cell_type": "code",
   "execution_count": 73,
   "metadata": {},
   "outputs": [
    {
     "name": "stdout",
     "output_type": "stream",
     "text": [
      "价格位于布林带内部的比例： 100.0 %\n"
     ]
    }
   ],
   "source": [
    "deviation = []\n",
    "C = len(c)\n",
    "for i in range(N - 1, C):\n",
    "    if i + N < C:\n",
    "        dev = c[i: i + N]\n",
    "    else:\n",
    "        dev = c[-N:]\n",
    "        \n",
    "    averages = np.zeros(N)\n",
    "    averages.fill(sma[i - N - 1])\n",
    "    dev = dev - averages\n",
    "    dev = dev ** 2\n",
    "    dev = np.sqrt(np.mean(dev))    \n",
    "    ###写的是啥玩意儿，没弄懂这些数据的含义么？思维很混乱啊！\n",
    "    #平时std算dev的标准差，其中的mean值是由dev自身决定的，现在将mean值替换成sma值，再套用标准差公司\n",
    "                                    #     dev = np.diff(dev) \n",
    "                                    #     dev =  np.std(dev)\n",
    "    deviation.append(dev)\n",
    "\n",
    "c_slice = c[N-1:]\n",
    "deviation = 2 * np.array(deviation)\n",
    "upperBB = sma + deviation\n",
    "lowerBB = sma - deviation\n",
    "\n",
    "#验证结果\n",
    "between_bands = np.where((c_slice < upperBB) & (c_slice > lowerBB))\n",
    "between_bands = len(np.ravel(between_bands))\n",
    "print('价格位于布林带内部的比例：',float(between_bands)/len(c_slice) *100 ,'%')"
   ]
  },
  {
   "cell_type": "markdown",
   "metadata": {},
   "source": [
    "(2) 绘制布林带"
   ]
  },
  {
   "cell_type": "code",
   "execution_count": 74,
   "metadata": {
    "scrolled": true
   },
   "outputs": [
    {
     "data": {
      "text/plain": [
       "<matplotlib.figure.Figure at 0x7f855031e438>"
      ]
     },
     "execution_count": 74,
     "metadata": {},
     "output_type": "execute_result"
    },
    {
     "data": {
      "text/plain": [
       "[<matplotlib.lines.Line2D at 0x7f85500fb3c8>]"
      ]
     },
     "execution_count": 74,
     "metadata": {},
     "output_type": "execute_result"
    },
    {
     "data": {
      "text/plain": [
       "[<matplotlib.lines.Line2D at 0x7f85502e6cf8>]"
      ]
     },
     "execution_count": 74,
     "metadata": {},
     "output_type": "execute_result"
    },
    {
     "data": {
      "text/plain": [
       "[<matplotlib.lines.Line2D at 0x7f85500fbcc0>]"
      ]
     },
     "execution_count": 74,
     "metadata": {},
     "output_type": "execute_result"
    },
    {
     "data": {
      "text/plain": [
       "[<matplotlib.lines.Line2D at 0x7f85501057b8>]"
      ]
     },
     "execution_count": 74,
     "metadata": {},
     "output_type": "execute_result"
    },
    {
     "data": {
      "image/png": "[encoded data removed]",
      "text/plain": [
       "<matplotlib.figure.Figure at 0x7f855031e438>"
      ]
     },
     "metadata": {},
     "output_type": "display_data"
    }
   ],
   "source": [
    "t = np.arange(N - 1, C)\n",
    "plt.figure(figsize=[10,5])\n",
    "plt.plot(t, c_slice, lw=2.0)\n",
    "plt.plot(t, sma,'b--',lw=1.0)\n",
    "plt.plot(t, upperBB,'b--', lw=1.0)\n",
    "plt.plot(t, lowerBB,'b--', lw=1.0)\n",
    "plt.show()"
   ]
  },
  {
   "cell_type": "markdown",
   "metadata": {},
   "source": [
    "### 布林带（指数均线版本）"
   ]
  },
  {
   "cell_type": "code",
   "execution_count": 42,
   "metadata": {
    "scrolled": false
   },
   "outputs": [
    {
     "name": "stdout",
     "output_type": "stream",
     "text": [
      "价格位于布林带内部的比例： 100.0 %\n"
     ]
    },
    {
     "data": {
      "text/plain": [
       "<matplotlib.figure.Figure at 0x7f4671264fd0>"
      ]
     },
     "execution_count": 42,
     "metadata": {},
     "output_type": "execute_result"
    },
    {
     "data": {
      "text/plain": [
       "[<matplotlib.lines.Line2D at 0x7f4671321b38>]"
      ]
     },
     "execution_count": 42,
     "metadata": {},
     "output_type": "execute_result"
    },
    {
     "data": {
      "text/plain": [
       "[<matplotlib.lines.Line2D at 0x7f4671438e80>]"
      ]
     },
     "execution_count": 42,
     "metadata": {},
     "output_type": "execute_result"
    },
    {
     "data": {
      "text/plain": [
       "[<matplotlib.lines.Line2D at 0x7f467132a470>]"
      ]
     },
     "execution_count": 42,
     "metadata": {},
     "output_type": "execute_result"
    },
    {
     "data": {
      "text/plain": [
       "[<matplotlib.lines.Line2D at 0x7f467132a710>]"
      ]
     },
     "execution_count": 42,
     "metadata": {},
     "output_type": "execute_result"
    },
    {
     "data": {
      "text/plain": [
       "<matplotlib.legend.Legend at 0x7f4671321cc0>"
      ]
     },
     "execution_count": 42,
     "metadata": {},
     "output_type": "execute_result"
    },
    {
     "data": {
      "image/png": "[encoded data removed]",
      "text/plain": [
       "<matplotlib.figure.Figure at 0x7f4671264fd0>"
      ]
     },
     "metadata": {},
     "output_type": "display_data"
    }
   ],
   "source": [
    "deviation = []\n",
    "C = len(c)\n",
    "for i in range(N - 1, C):\n",
    "    if i + N < C:\n",
    "        dev = c[i: i + N]\n",
    "    else:\n",
    "        dev = c[-N:]\n",
    "        \n",
    "    averages = np.zeros(N)\n",
    "    averages.fill(ema[i - N - 1])\n",
    "    dev = dev - averages\n",
    "    dev = dev ** 2\n",
    "    dev = np.sqrt(np.mean(dev))\n",
    "    deviation.append(dev)\n",
    "\n",
    "c_slice = c[N-1:]\n",
    "deviation = 2 * np.array(deviation)\n",
    "upperEBB = ema + deviation\n",
    "lowerEBB = ema - deviation\n",
    "\n",
    "#验证结果\n",
    "between_bands = np.where((c_slice < upperEBB) & (c_slice > lowerEBB))\n",
    "between_bands = len(np.ravel(between_bands))\n",
    "print('价格位于布林带内部的比例：',float(between_bands)/len(c_slice) *100 ,'%')\n",
    "\n",
    "#绘制布林带\n",
    "t = np.arange(N - 1, C)\n",
    "plt.figure(figsize=[10,5])\n",
    "plt.plot(t, c_slice,'bo-', lw=2.0)\n",
    "plt.plot(t, ema,'b--',color='blue',lw=1.0,label='bulin(ema)')\n",
    "plt.plot(t, upperEBB,'b--',color='blue', lw=1.0)\n",
    "plt.plot(t, lowerEBB,'b--',color='blue', lw=1.0)\n",
    "plt.legend()\n",
    "plt.show()"
   ]
  },
  {
   "cell_type": "code",
   "execution_count": 43,
   "metadata": {},
   "outputs": [
    {
     "data": {
      "text/plain": [
       "<matplotlib.figure.Figure at 0x7f4671432668>"
      ]
     },
     "execution_count": 43,
     "metadata": {},
     "output_type": "execute_result"
    },
    {
     "data": {
      "text/plain": [
       "[<matplotlib.lines.Line2D at 0x7f467119d630>]"
      ]
     },
     "execution_count": 43,
     "metadata": {},
     "output_type": "execute_result"
    },
    {
     "data": {
      "text/plain": [
       "[<matplotlib.lines.Line2D at 0x7f46715fc160>]"
      ]
     },
     "execution_count": 43,
     "metadata": {},
     "output_type": "execute_result"
    },
    {
     "data": {
      "text/plain": [
       "[<matplotlib.lines.Line2D at 0x7f467119def0>]"
      ]
     },
     "execution_count": 43,
     "metadata": {},
     "output_type": "execute_result"
    },
    {
     "data": {
      "text/plain": [
       "[<matplotlib.lines.Line2D at 0x7f46711a61d0>]"
      ]
     },
     "execution_count": 43,
     "metadata": {},
     "output_type": "execute_result"
    },
    {
     "data": {
      "text/plain": [
       "[<matplotlib.lines.Line2D at 0x7f46711a69e8>]"
      ]
     },
     "execution_count": 43,
     "metadata": {},
     "output_type": "execute_result"
    },
    {
     "data": {
      "text/plain": [
       "[<matplotlib.lines.Line2D at 0x7f4671130240>]"
      ]
     },
     "execution_count": 43,
     "metadata": {},
     "output_type": "execute_result"
    },
    {
     "data": {
      "text/plain": [
       "[<matplotlib.lines.Line2D at 0x7f4671130cc0>]"
      ]
     },
     "execution_count": 43,
     "metadata": {},
     "output_type": "execute_result"
    },
    {
     "data": {
      "text/plain": [
       "<matplotlib.legend.Legend at 0x7f4671135278>"
      ]
     },
     "execution_count": 43,
     "metadata": {},
     "output_type": "execute_result"
    },
    {
     "data": {
      "image/png": "[encoded data removed]",
      "text/plain": [
       "<matplotlib.figure.Figure at 0x7f4671432668>"
      ]
     },
     "metadata": {},
     "output_type": "display_data"
    }
   ],
   "source": [
    "#比较两个布林带\n",
    "#绘制布林带\n",
    "t = np.arange(N - 1, C)\n",
    "plt.figure(figsize=[10,5])\n",
    "plt.plot(t, c_slice,'bo-', lw=2.0)\n",
    "\n",
    "plt.plot(t, sma,'r--',color='red',lw=1.0,label='bulin(sma)')\n",
    "plt.plot(t, upperBB,'b--',color='red', lw=1.0)\n",
    "plt.plot(t, lowerBB,'b--',color='red', lw=1.0)\n",
    "\n",
    "plt.plot(t, ema,'b--',color='blue',lw=1.0,label='bulin(ema)')\n",
    "plt.plot(t, upperEBB,'b--',color='blue', lw=1.0)\n",
    "plt.plot(t, lowerEBB,'b--',color='blue', lw=1.0)\n",
    "plt.legend()\n",
    "plt.show()"
   ]
  },
  {
   "cell_type": "markdown",
   "metadata": {},
   "source": [
    "## 3.25 线性模型\n",
    "\n",
    "许多科学研究中都会用到线性关系的模型。 NumPy的 linalg 包是专门用于线性代数计算的。\n",
    "下面的工作基于一个假设,就是一个价格可以根据N个之前的价格利用线性模型计算得出。\n",
    "\n",
    "我们姑且假设,一个股价可以用之前股价的线性组合表示出来,也就是说,这个股价等于之\n",
    "前的股价与各自的系数相乘后再做加和的结果,这些系数是需要我们来确定的。用线性代数的术\n",
    "语来讲,这就是解一个最小二乘法的问题。"
   ]
  },
  {
   "cell_type": "markdown",
   "metadata": {},
   "source": [
    "(1) 首先,获取一个包含N个股价的向量 b \n",
    "\n",
    "(2) 第二步,初始化一个N×N的二维数组 A ,元素全部为 0 。\n",
    "\n",
    "(3) 第三步,用 b 向量中的N个股价值填充数组 A 。"
   ]
  },
  {
   "cell_type": "code",
   "execution_count": 75,
   "metadata": {},
   "outputs": [
    {
     "data": {
      "text/plain": [
       "array([[ 360.  ,  355.36,  355.76,  352.47,  346.67],\n",
       "       [ 359.56,  360.  ,  355.36,  355.76,  352.47],\n",
       "       [ 352.12,  359.56,  360.  ,  355.36,  355.76],\n",
       "       [ 349.31,  352.12,  359.56,  360.  ,  355.36],\n",
       "       [ 353.21,  349.31,  352.12,  359.56,  360.  ]])"
      ]
     },
     "execution_count": 75,
     "metadata": {},
     "output_type": "execute_result"
    }
   ],
   "source": [
    "b = c[-N:]\n",
    "b = b[::-1]\n",
    "A = np.zeros((N, N), float)\n",
    "\n",
    "for i in range(N):\n",
    "    A[i, ] = c[-N - 1 - i: - 1 - i]\n",
    "\n",
    "A"
   ]
  },
  {
   "cell_type": "markdown",
   "metadata": {},
   "source": [
    "(4) 我们的目标是确定线性模型中的那些系数,以解决最小平方和的问题。我们使用 linalg\n",
    "包中的 lstsq 函数来完成这个任务\n",
    "\n",
    "返回的元组中包含稍后要用到的系数向量 x 、一个残差数组、 A 的秩以及 A 的奇异值\n"
   ]
  },
  {
   "cell_type": "code",
   "execution_count": 76,
   "metadata": {},
   "outputs": [
    {
     "data": {
      "text/plain": [
       "(array([ 0.78111069, -1.44411737,  1.63563225, -0.89905126,  0.92009049]),\n",
       " array([], dtype=float64),\n",
       " 5,\n",
       " array([  1.77736601e+03,   1.49622969e+01,   8.75528492e+00,\n",
       "          5.15099261e+00,   1.75199608e+00]))"
      ]
     },
     "execution_count": 76,
     "metadata": {},
     "output_type": "execute_result"
    }
   ],
   "source": [
    "(x, residuals, rank, s) =  np.linalg.lstsq(A,b)\n",
    "x, residuals, rank, s"
   ]
  },
  {
   "cell_type": "markdown",
   "metadata": {},
   "source": [
    "(5) 一旦得到了线性模型中的系数,我们就可以预测下一次的股价了。使用NumPy中的 dot函数计算系数向量与最近N个价格构成的向量的点积(dot product)。"
   ]
  },
  {
   "cell_type": "code",
   "execution_count": 77,
   "metadata": {},
   "outputs": [
    {
     "data": {
      "text/plain": [
       "357.93916101523314"
      ]
     },
     "execution_count": 77,
     "metadata": {},
     "output_type": "execute_result"
    }
   ],
   "source": [
    "np.dot(b, x)\n",
    "#下一个交易日实际的收盘价为353.56。因此,我们用N = 5做出的预测结果并没有差得很远。"
   ]
  },
  {
   "cell_type": "markdown",
   "metadata": {},
   "source": [
    "我们为股价预测建立了一个线性模型,于是这个金融问题就变成了一个线性代数问\n",
    "题。NumPy中的 linalg 包里有一个 lstsq 函数,帮助我们求出了问题的解——即估计线性模型\n",
    "中的系数。在得到解之后,我们将系数应用于NumPy中的 dot 函数,通过线性回归的方法预测了\n",
    "下一次的股价。"
   ]
  },
  {
   "cell_type": "markdown",
   "metadata": {},
   "source": [
    "## 3.27 趋势线\n",
    "\n",
    "趋势线,是根据股价走势图上很多所谓的枢轴点绘成的曲线。顾名思义,趋势线描绘的是价\n",
    "格变化的趋势。过去的股民们在纸上用手绘制趋势线,而现在我们可以让计算机来帮助我们作图。\n",
    "在这一节的教程中,我们将用非常简易的方法来绘制趋势线,可能在实际生活中不是很奏效,但\n",
    "这应该能将趋势线的原理阐述清楚。"
   ]
  },
  {
   "cell_type": "markdown",
   "metadata": {},
   "source": [
    "(1) 首先,我们需要确定枢轴点的位置。这里,我们假设它们等于最高价、最低价和收盘价\n",
    "的算术平均值。"
   ]
  },
  {
   "cell_type": "code",
   "execution_count": 78,
   "metadata": {},
   "outputs": [
    {
     "data": {
      "text/plain": [
       "array([ 338.01      ,  337.88666667,  343.88666667,  344.37333333,\n",
       "        342.07666667,  345.57      ,  350.92333333,  354.29      ,\n",
       "        357.34333333,  354.18      ,  356.06333333,  358.45666667,\n",
       "        359.14      ,  362.84333333,  358.36333333,  353.19333333,\n",
       "        340.57666667,  341.95666667,  342.13333333,  347.13      ,\n",
       "        353.12666667,  350.90333333,  351.62333333,  358.42333333,\n",
       "        359.34666667,  356.11333333,  355.13666667,  352.61      ,\n",
       "        347.11333333,  349.77      ])"
      ]
     },
     "execution_count": 78,
     "metadata": {},
     "output_type": "execute_result"
    }
   ],
   "source": [
    "h, l, c = np.loadtxt('data.csv', delimiter=',', usecols=(4, 5, 6), unpack=True)\n",
    "pivots = (h + l + c ) / 3\n",
    "pivots"
   ]
  },
  {
   "cell_type": "markdown",
   "metadata": {},
   "source": [
    "(2) 定义一个函数用直线 y= at + b 来拟合数据,该函数应返回系数 a 和 b 。这里需要再次用\n",
    "到 linalg 包中的 lstsq 函数。将直线方程重写为 y = Ax 的形式,其中 A = [t 1] , x = [a b] 。\n",
    "使用 ones_like 和 vstack 函数来构造数组 A 。"
   ]
  },
  {
   "cell_type": "code",
   "execution_count": 79,
   "metadata": {
    "collapsed": true
   },
   "outputs": [],
   "source": [
    "def fit_line(t, y):\n",
    "    A =  np.vstack([t,np.ones(len(t))]).T\n",
    "    return np.linalg.lstsq(A,y)[0]"
   ]
  },
  {
   "cell_type": "markdown",
   "metadata": {},
   "source": [
    "(3) 假设支撑位在枢轴点下方一个当日股价区间的位置,而阻力位在枢轴点上方一个当日股\n",
    "价区间的位置,据此拟合支撑位和阻力位的趋势线。"
   ]
  },
  {
   "cell_type": "code",
   "execution_count": 80,
   "metadata": {
    "collapsed": true
   },
   "outputs": [],
   "source": [
    "t = np.arange(len(c))\n",
    "sa, sb = fit_line(t, pivots - (h - l))\n",
    "ra, rb = fit_line(t, pivots + (h - l))\n",
    "support = sa * t + sb\n",
    "resistance = ra * t + rb"
   ]
  },
  {
   "cell_type": "markdown",
   "metadata": {},
   "source": [
    "(4) 到这里我们已经获得了绘制趋势线所需要的全部数据。但是,我们最好检查一下有多少\n",
    "个数据点落在支撑位和阻力位之间。显然,如果只有一小部分数据在这两条趋势线之间,这样的\n",
    "设定就没有意义。设置一个判断数据点是否位于趋势线之间的条件,作为 where 函数的参数。"
   ]
  },
  {
   "cell_type": "code",
   "execution_count": 81,
   "metadata": {},
   "outputs": [
    {
     "data": {
      "text/plain": [
       "array([False, False,  True,  True,  True,  True,  True, False, False,\n",
       "        True, False, False, False, False, False,  True, False, False,\n",
       "       False,  True,  True,  True,  True, False, False,  True,  True,\n",
       "        True, False,  True], dtype=bool)"
      ]
     },
     "execution_count": 81,
     "metadata": {},
     "output_type": "execute_result"
    }
   ],
   "source": [
    "condition = (c > support) & (c < resistance)\n",
    "condition\n"
   ]
  },
  {
   "cell_type": "markdown",
   "metadata": {},
   "source": [
    "复查一下具体取值:"
   ]
  },
  {
   "cell_type": "code",
   "execution_count": 82,
   "metadata": {},
   "outputs": [
    {
     "data": {
      "text/plain": [
       "('Number points between bands', 15)"
      ]
     },
     "execution_count": 82,
     "metadata": {},
     "output_type": "execute_result"
    },
    {
     "data": {
      "text/plain": [
       "('Ratio between bands', 0.5)"
      ]
     },
     "execution_count": 82,
     "metadata": {},
     "output_type": "execute_result"
    }
   ],
   "source": [
    "# between_bands\n",
    "# support[between_bands]\n",
    "# c[between_bands]\n",
    "# resistance[between_bands]\n",
    "between_bands = np.where(condition)\n",
    "between_bands = len(np.ravel(between_bands))\n",
    "\"Number points between bands\", between_bands\n",
    "\"Ratio between bands\", float(between_bands)/len(c)"
   ]
  },
  {
   "cell_type": "markdown",
   "metadata": {},
   "source": [
    "我们还得到了一个额外的奖励:一个新的预测模型。我们可以用这个模型来预测下一个交易\n",
    "日的阻力位和支撑位。"
   ]
  },
  {
   "cell_type": "code",
   "execution_count": 83,
   "metadata": {},
   "outputs": [
    {
     "data": {
      "text/plain": [
       "('Tomorrows support', 349.38915708812272)"
      ]
     },
     "execution_count": 83,
     "metadata": {},
     "output_type": "execute_result"
    },
    {
     "data": {
      "text/plain": [
       "('Tomorrows resistance', 360.74934099616843)"
      ]
     },
     "execution_count": 83,
     "metadata": {},
     "output_type": "execute_result"
    }
   ],
   "source": [
    "\"Tomorrows support\", sa * (t[-1] + 1) + sb\n",
    "\"Tomorrows resistance\", ra * (t[-1] + 1) + rb"
   ]
  },
  {
   "cell_type": "markdown",
   "metadata": {},
   "source": [
    "此外,还有另外一种计算支撑位和阻力位之间数据点个数的方法:使用 [] 和 intersect1d\n",
    "函数。在 [] 操作符里面定义选取条件,然后用 intersect1d 函数计算两者相交的结果。"
   ]
  },
  {
   "cell_type": "code",
   "execution_count": 84,
   "metadata": {},
   "outputs": [
    {
     "data": {
      "text/plain": [
       "('Number of points between bands 2nd approach', 15)"
      ]
     },
     "execution_count": 84,
     "metadata": {},
     "output_type": "execute_result"
    }
   ],
   "source": [
    "a1 = c[c > support]\n",
    "a2 = c[c < resistance]\n",
    "\"Number of points between bands 2nd approach\" ,len(np.intersect1d(a1, a2))\n",
    "\n",
    "# np.intersect1d([1, 3, 4, 3], [3, 1, 2, 1])\n",
    "# array([1, 3])"
   ]
  },
  {
   "cell_type": "markdown",
   "metadata": {},
   "source": [
    "(5) 我们再次将结果绘制出来,"
   ]
  },
  {
   "cell_type": "code",
   "execution_count": 85,
   "metadata": {},
   "outputs": [
    {
     "data": {
      "text/plain": [
       "[<matplotlib.lines.Line2D at 0x7f854fe57080>]"
      ]
     },
     "execution_count": 85,
     "metadata": {},
     "output_type": "execute_result"
    },
    {
     "data": {
      "text/plain": [
       "[<matplotlib.lines.Line2D at 0x7f8550129b00>]"
      ]
     },
     "execution_count": 85,
     "metadata": {},
     "output_type": "execute_result"
    },
    {
     "data": {
      "text/plain": [
       "[<matplotlib.lines.Line2D at 0x7f854fe57b70>]"
      ]
     },
     "execution_count": 85,
     "metadata": {},
     "output_type": "execute_result"
    },
    {
     "data": {
      "image/png": "[encoded data removed]",
      "text/plain": [
       "<matplotlib.figure.Figure at 0x7f8550129d30>"
      ]
     },
     "metadata": {},
     "output_type": "display_data"
    }
   ],
   "source": [
    "plt.plot(t, c)\n",
    "plt.plot(t, support)\n",
    "plt.plot(t, resistance)\n",
    "plt.show()"
   ]
  },
  {
   "cell_type": "markdown",
   "metadata": {},
   "source": [
    "我们用NumPy画出了趋势线,省去了用尺、铅笔和绘图纸的麻烦。我们定义了一个用直线拟\n",
    "合数据的函数,其中用到NumPy中的 vstack 、 ones_like 和 lstsq 函数。拟合数据是为了得到\n",
    "支撑位和阻力位两条趋势线的方程。"
   ]
  },
  {
   "cell_type": "markdown",
   "metadata": {},
   "source": [
    "## 3.29 ndarray 对象的方法\n",
    "\n",
    "NumPy中的 ndarray 类定义了许多方法,可以在数组对象上直接调用。通常情况下,这些方\n",
    "法会返回一个数组。你可能已经注意到了,很多NumPy函数都有对应的相同的名字和功能的\n",
    "ndarray 对象。这主要是由NumPy发展过程中的历史原因造成的。ndarray 对象的方法相当多,我们无法在这里逐一介绍。前面遇到的 var 、 sum 、 std 、 argmax 、\n",
    "argmin 以及 mean 函数也均为 ndarray 方法。"
   ]
  },
  {
   "cell_type": "markdown",
   "metadata": {},
   "source": [
    "## 3.30 动手实践:数组的修剪和压缩"
   ]
  },
  {
   "cell_type": "markdown",
   "metadata": {},
   "source": [
    "(1) clip 方法返回一个修剪过的数组,也就是将所有比给定最大值还大的元素全部设为给定\n",
    "的最大值,而所有比给定最小值还小的元素全部设为给定的最小值。"
   ]
  },
  {
   "cell_type": "code",
   "execution_count": 87,
   "metadata": {
    "scrolled": true
   },
   "outputs": [
    {
     "data": {
      "text/plain": [
       "array([0, 1, 2, 3, 4])"
      ]
     },
     "execution_count": 87,
     "metadata": {},
     "output_type": "execute_result"
    },
    {
     "data": {
      "text/plain": [
       "array([1, 1, 2, 3, 3])"
      ]
     },
     "execution_count": 87,
     "metadata": {},
     "output_type": "execute_result"
    }
   ],
   "source": [
    "a = np.arange(5)\n",
    "a\n",
    "a.clip(1,3)"
   ]
  },
  {
   "cell_type": "markdown",
   "metadata": {},
   "source": [
    "(2) compress 方法返回一个根据给定条件筛选后的数组。"
   ]
  },
  {
   "cell_type": "code",
   "execution_count": 91,
   "metadata": {},
   "outputs": [
    {
     "data": {
      "text/plain": [
       "array([3, 4])"
      ]
     },
     "execution_count": 91,
     "metadata": {},
     "output_type": "execute_result"
    }
   ],
   "source": [
    "a = np.arange(5)\n",
    "a.compress(a>2)  ###没事加什么and 啊！"
   ]
  },
  {
   "cell_type": "markdown",
   "metadata": {},
   "source": [
    "## 3.31 阶乘"
   ]
  },
  {
   "cell_type": "markdown",
   "metadata": {},
   "source": [
    "ndarray 类有一个 prod 方法,可以计算数组中所有元素的乘积。 cumprod 则列出中间每个阶乘的结果"
   ]
  },
  {
   "cell_type": "code",
   "execution_count": 92,
   "metadata": {},
   "outputs": [
    {
     "data": {
      "text/plain": [
       "array([1, 2, 3, 4, 5, 6, 7, 8])"
      ]
     },
     "execution_count": 92,
     "metadata": {},
     "output_type": "execute_result"
    },
    {
     "data": {
      "text/plain": [
       "40320"
      ]
     },
     "execution_count": 92,
     "metadata": {},
     "output_type": "execute_result"
    },
    {
     "data": {
      "text/plain": [
       "40320"
      ]
     },
     "execution_count": 92,
     "metadata": {},
     "output_type": "execute_result"
    }
   ],
   "source": [
    "b = np.arange(1, 9)\n",
    "b\n",
    "b.prod()\n",
    "#等价于：\n",
    "t = 1\n",
    "for x in b:\n",
    "    t *= x\n",
    "t"
   ]
  },
  {
   "cell_type": "code",
   "execution_count": 94,
   "metadata": {},
   "outputs": [
    {
     "data": {
      "text/plain": [
       "array([  1,   2,   6,  24, 120])"
      ]
     },
     "execution_count": 94,
     "metadata": {},
     "output_type": "execute_result"
    }
   ],
   "source": [
    "np.array([1,2,3,4,5]).cumprod()"
   ]
  },
  {
   "cell_type": "markdown",
   "metadata": {},
   "source": [
    "如果我们想知道1~8的所有阶乘值呢"
   ]
  },
  {
   "cell_type": "code",
   "execution_count": 95,
   "metadata": {},
   "outputs": [
    {
     "data": {
      "text/plain": [
       "array([    1,     2,     6,    24,   120,   720,  5040, 40320])"
      ]
     },
     "execution_count": 95,
     "metadata": {},
     "output_type": "execute_result"
    },
    {
     "data": {
      "text/plain": [
       "1"
      ]
     },
     "execution_count": 95,
     "metadata": {},
     "output_type": "execute_result"
    },
    {
     "data": {
      "text/plain": [
       "2"
      ]
     },
     "execution_count": 95,
     "metadata": {},
     "output_type": "execute_result"
    },
    {
     "data": {
      "text/plain": [
       "6"
      ]
     },
     "execution_count": 95,
     "metadata": {},
     "output_type": "execute_result"
    },
    {
     "data": {
      "text/plain": [
       "24"
      ]
     },
     "execution_count": 95,
     "metadata": {},
     "output_type": "execute_result"
    },
    {
     "data": {
      "text/plain": [
       "120"
      ]
     },
     "execution_count": 95,
     "metadata": {},
     "output_type": "execute_result"
    },
    {
     "data": {
      "text/plain": [
       "720"
      ]
     },
     "execution_count": 95,
     "metadata": {},
     "output_type": "execute_result"
    },
    {
     "data": {
      "text/plain": [
       "5040"
      ]
     },
     "execution_count": 95,
     "metadata": {},
     "output_type": "execute_result"
    },
    {
     "data": {
      "text/plain": [
       "40320"
      ]
     },
     "execution_count": 95,
     "metadata": {},
     "output_type": "execute_result"
    }
   ],
   "source": [
    "b.cumprod ()\n",
    "#等价于：\n",
    "t = 1\n",
    "for x in b:\n",
    "    t *= x\n",
    "    t"
   ]
  },
  {
   "cell_type": "markdown",
   "metadata": {},
   "source": [
    "## 3.33 本章小结"
   ]
  },
  {
   "cell_type": "markdown",
   "metadata": {},
   "source": [
    "本章我们学习了很多常用的NumPy函数。我们用 loadtxt 读文件,用 savetxt 写文件,用\n",
    "eye 函数创建单位矩阵,用 loadtxt 函数从一个CSV文件中读取股价数据。NumPy中的 average\n",
    "和 mean 函数可以用来计算数据的加权平均数和算术平均数。\n",
    "本章还提到了一些常用的统计函数。首先,我们使用 min 和 max 函数来确定股价的范围;然\n",
    "后,用 median 函数获取数据的中位数;最后,用 std 和 var 函数计算数据的标准差和方差。\n",
    "diff 函数可以返回数组中相邻元素的差值,因此我们用它来计算股票的简单收益率。 log\n",
    "函数可以计算数组元素的自然对数。\n",
    "loadtxt 函数默认将所有数据转换为浮点数类型,它有一个特定的参数可以完成转换。这个\n",
    "参数就是 converters ,它是一个可以将数据列和所谓的转换函数连接起来的参数。\n",
    "我们自定义了一个函数并将其作为参数传给了 apply_along_axis 函数。我们实现了一个\n",
    "可以在多个数组间找出每个位置上最大元素的算法。\n",
    "我们了解到 ones 函数可以创建一个全为1的数组,而且 convolve 函数可以根据指定的权重\n",
    "计算卷积。\n",
    "我们用 exp 和 linspace 函数得到了一组指数衰减的权重值。 linspace 可以给出一个均匀分\n",
    "布的数组,然后我们计算出该数组元素的指数。我们还调用 ndarray 类的 sum 方法对权重值做归\n",
    "一化处理。\n",
    "我们还接触到了 fill 函数,这个函数可以用一个指定的标量值填充数组,而这个标量值也\n",
    "是其唯一的参数。\n",
    "结束了本章的NumPy常用函数之旅,我们将来到NumPy便捷函数的世界。下一章将学习\n",
    "polyfit 、 sign 和 piecewise 等NumPy函数。"
   ]
  }
 ],
 "metadata": {
  "kernelspec": {
   "display_name": "Python 3",
   "language": "python",
   "name": "python3"
  },
  "language_info": {
   "codemirror_mode": {
    "name": "ipython",
    "version": 3
   },
   "file_extension": ".py",
   "mimetype": "text/x-python",
   "name": "python",
   "nbconvert_exporter": "python",
   "pygments_lexer": "ipython3",
   "version": "3.6.1"
  }
 },
 "nbformat": 4,
 "nbformat_minor": 2
}
